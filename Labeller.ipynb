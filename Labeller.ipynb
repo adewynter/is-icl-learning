{
 "cells": [
  {
   "cell_type": "code",
   "execution_count": null,
   "id": "05f5f110-f6a8-4d2b-a54f-4fefb1fad87c",
   "metadata": {},
   "outputs": [],
   "source": [
    "import random\n",
    "import json\n",
    "import numpy as np\n",
    "from glob import glob\n",
    "from tqdm import tqdm\n",
    "from llmclient import LLMClient, get_llm_response\n",
    "from utils import to_file, compute_acc\n",
    "\n",
    "# for o3-mini\n",
    "tokens = 50000\n",
    "cot_tokens = 50000\n",
    "max_apo_tokens = 50000\n",
    "MODEL = \"o3-mini\"\n",
    "\n",
    "# for most SLMs\n",
    "tokens = 3\n",
    "cot_tokens = 1024\n",
    "max_apo_tokens = 512\n",
    "MODEL = \"phi-3.5-moe-instruct\"\n",
    "\n",
    "MAX_DATA_TO_EVAL = 1000 # Datasets are 2k each\n",
    "\n",
    "root_out = MODEL\n",
    "tkey = \"max_tokens\" if \"o3\" not in MODEL else \"max_completion_tokens\"\n",
    "params = {tkey: tokens,} \n",
    "llm = LLMClient(params, MODEL)"
   ]
  },
  {
   "cell_type": "markdown",
   "id": "bce592dd-d755-44e0-b9a7-820c9ef7c6fb",
   "metadata": {
    "editable": false,
    "slideshow": {
     "slide_type": ""
    },
    "tags": []
   },
   "source": [
    "# Shared functions"
   ]
  },
  {
   "cell_type": "code",
   "execution_count": null,
   "id": "d66caf80-0211-41fb-99a2-cf8f9def72f6",
   "metadata": {
    "slideshow": {
     "slide_type": ""
    },
    "tags": []
   },
   "outputs": [],
   "source": [
    "def get_predictions(dataset, max_calls, problem=\"parity\", max_exemplars=10, use_desc=\"\", desc=\"\", shuffle_exemplars=False,\n",
    "                    start_at=None, is_cot=False, stream=False, max_token_override=None, fname=None, debug=False):\n",
    "    \"\"\" \n",
    "    Retrieve predictions for a given dataset.\n",
    "    \"\"\"\n",
    "    predictions = []\n",
    "    max_points = min(max_calls, len(dataset))\n",
    "    if debug: print(f\"Calling for max_points = {max_points}\")\n",
    "\n",
    "    if is_cot:\n",
    "        llm.update_params({tkey: cot_tokens})\n",
    "    else:\n",
    "        llm.update_params({tkey: tokens})\n",
    "    if max_token_override is not None:\n",
    "        llm.update_params({tkey: max_token_override})\n",
    "\n",
    "    if start_at is None:\n",
    "        start_at = 0\n",
    "    for i in tqdm(range(start_at, max_points), desc=desc):\n",
    "        point = dataset[i]\n",
    "        prediction = {k:v for k,v in point.items()}\n",
    "\n",
    "        if debug: print(f\"Getting prompt for {problem}: entry: {point[\"Entry\"]}\")\n",
    "\n",
    "        if problem == \"parity\":\n",
    "            prompt = get_prompt_for_parity(point[\"Entry\"], use_desc=use_desc, max_exemplars=max_exemplars, shuffle_exemplars=shuffle_exemplars, is_cot=is_cot)\n",
    "        elif problem == \"pattern_matching\":\n",
    "            prompt = get_prompt_for_pattern_matching(point[\"Entry\"], use_desc=use_desc, max_exemplars=max_exemplars, shuffle_exemplars=shuffle_exemplars, is_cot=is_cot)\n",
    "        elif problem == \"vending_machine\":\n",
    "            prompt = get_prompt_for_vending_machine(point[\"Entry\"], use_desc=use_desc, max_exemplars=max_exemplars, shuffle_exemplars=shuffle_exemplars, is_cot=is_cot)\n",
    "        elif problem == \"vending_machine_with_sum\":\n",
    "            prompt = get_prompt_for_vending_machine_with_sum(point[\"Entry\"], use_desc=use_desc, max_exemplars=max_exemplars, shuffle_exemplars=shuffle_exemplars, is_cot=is_cot)\n",
    "        elif problem == \"hamiltonian\":\n",
    "            prompt = get_prompt_for_hamiltonian(point[\"Entry\"], point[\"Path\"], use_desc=use_desc, max_exemplars=max_exemplars, shuffle_exemplars=shuffle_exemplars, is_cot=is_cot)\n",
    "        elif problem == \"stack\":\n",
    "            prompt = get_prompt_for_stack(point[\"Entry\"],use_desc=use_desc, max_exemplars=max_exemplars, shuffle_exemplars=shuffle_exemplars, is_cot=is_cot)\n",
    "        elif problem == \"maze_complete\":\n",
    "            prompt = get_prompt_for_maze_complete(point[\"Entry\"], use_desc=use_desc, max_exemplars=max_exemplars, shuffle_exemplars=shuffle_exemplars, is_cot=is_cot)\n",
    "        elif problem == \"maze_solve\":\n",
    "            prompt = get_prompt_for_maze_solve(point[\"Entry\"], use_desc=use_desc, max_exemplars=max_exemplars, shuffle_exemplars=shuffle_exemplars, is_cot=is_cot)\n",
    "        elif problem == \"reversal\":\n",
    "            prompt = get_prompt_for_reversal(point[\"Entry\"], use_desc=use_desc, max_exemplars=max_exemplars, shuffle_exemplars=shuffle_exemplars, is_cot=is_cot)\n",
    "        else:\n",
    "            raise \"Problem \\\"{}\\\" not implemented!\".format(problem)\n",
    "\n",
    "        if debug: print(f\"Got prompt: {prompt}\")\n",
    "        actual_response = get_llm_response(llm, prompt, debug=debug)\n",
    "        if debug: print(f\"Got response: {actual_response}\")\n",
    "        prediction[\"Response\"] = actual_response\n",
    "        predictions.append(prediction)\n",
    "        if stream:\n",
    "            with open(fname, \"a\", encoding=\"utf-8\") as f:\n",
    "                f.write(json.dumps(prediction, ensure_ascii=False) + \",\\n\")                \n",
    "\n",
    "    return predictions\n",
    "\n",
    "\n",
    "def call_and_solve_for(problem, suff, dataset, SHOTS=[2, 5, 10, 20, 50, 100], \n",
    "                       zero_shot_prompt = None, few_shot_prompt = None, shuffle_exemplars=False,\n",
    "                       do_ood=False, out_dir_root=\"\", is_cot=False, stream=True):\n",
    "    \"\"\"\n",
    "    Call the LLM over an entire test suite (problem + ID/OOD + shots + prompt).\n",
    "    This function supports restarts: simply pass in the shots you want in the form: \n",
    "        [(shot, datapoint_it_broke_at), more, shots, here] (for ID), or\n",
    "        [(shot, delta, datapoint_it_broke_at), more, shots, here] (for OOD)\n",
    "    \"\"\"\n",
    "    for shots in SHOTS:\n",
    "        start_at = None\n",
    "        start_delta = None\n",
    "        if type(shots) == tuple:\n",
    "            start_at = shots[-1]\n",
    "            if len(shots) == 3: # OD\n",
    "                start_delta = shots[1]\n",
    "            shots = shots[0]\n",
    "\n",
    "        system_prompt = \"\"\n",
    "        if shots == 0 and zero_shot_prompt is not None:\n",
    "            system_prompt = zero_shot_prompt\n",
    "        if shots != 0 and few_shot_prompt is not None:\n",
    "            system_prompt = few_shot_prompt\n",
    "\n",
    "        if not do_ood:\n",
    "            preds_raw_id = get_predictions(dataset, MAX_DATA_TO_EVAL, max_exemplars=shots, problem=problem, use_desc=system_prompt,\n",
    "                                            desc=\"ID {}\".format(shots), is_cot=is_cot, start_at=start_at, shuffle_exemplars=shuffle_exemplars,\n",
    "                                           stream=stream, fname=\"{}preds_raw_id_{}_shot_{}.json\".format(out_dir_root, shots, suff))\n",
    "            if not stream:\n",
    "                to_file(preds_raw_id, \"{}preds_raw_id_{}_shot_{}.json\".format(out_dir_root, shots, suff), dumpall=False)\n",
    "        else:\n",
    "            oods_negs = {}\n",
    "            for delta in [0.2, 0.45, 0.65, 0.85]: \n",
    "                if start_delta is not None and delta < start_delta:\n",
    "                    continue\n",
    "                if start_delta != delta:\n",
    "                    start_at = None\n",
    "                corpus = dataset[0][\"delta_{}\".format(str(delta))]\n",
    "                preds_raw_od = get_predictions(corpus, MAX_DATA_TO_EVAL, max_exemplars=shots, problem=problem, use_desc=system_prompt,\n",
    "                                               desc=\"OD {} | {}\".format(shots, str(delta)), is_cot=is_cot, start_at = start_at, shuffle_exemplars=shuffle_exemplars,\n",
    "                                               stream=stream, fname=\"{}tmp_{}_preds_raw_od_{}_shot_{}.json\".format(out_dir_root, str(delta), shots, suff))\n",
    "                oods_negs[\"delta_{}\".format(str(delta))] = preds_raw_od\n",
    "            to_file(oods_negs, \"{}preds_raw_od_{}_shot_{}.json\".format(out_dir_root, shots, suff), dumpall=True)"
   ]
  },
  {
   "cell_type": "code",
   "execution_count": null,
   "id": "ec6bd097-60b4-4707-bbe6-13c7b0d149dc",
   "metadata": {
    "editable": true,
    "slideshow": {
     "slide_type": ""
    },
    "tags": []
   },
   "outputs": [],
   "source": [
    "def apo(initial_prompt, dataset, problem=\"parity\", beam_width=4, search_depth=6, max_token_override=None, debug=False):\n",
    "    \"\"\"\n",
    "    Main loop for the APO algorithm. All are the defaults from the original paper.\n",
    "    ---\n",
    "    Params:\n",
    "    initial_prompt: str: the initial prompt on which to run APO\n",
    "    dataset: list of entries compatible with `get_predictions_for_version_apo`\n",
    "    version: prompt version (i.e., one of \"01234567\")\n",
    "    llm: the LLMClient object\n",
    "    beam_width: ...the width of the beam? Defaults to 4\n",
    "    search_depth: int to determine the depth (loops) at which you will run APO.\n",
    "    max_token_override: dict of the form {\"tkey\": tkey, \"max_tokens\": max_tokens to override}. You need both because some LLMs use different token keys.\n",
    "    debug: debug.\n",
    "    \"\"\"    \n",
    "    b0 = [(initial_prompt, 0)]\n",
    "    for i in range(search_depth):\n",
    "        candidates = []\n",
    "        # Our train set is 4k -- model will only see 64.\n",
    "        subset = random.sample(dataset[2000:], k=64)\n",
    "        if debug: print(f\"b0: {b0}\")\n",
    "        for prompts, scores in b0:\n",
    "            candidates += expand(prompts, subset, problem, max_token_override=max_token_override, debug=debug)\n",
    "        # Sampling to avoid overrun\n",
    "        _cands = random.sample(candidates, k=8) if len(candidates) > 8 else candidates\n",
    "        if debug: print(f\"chosen candidates {_cands}\")\n",
    "        if _cands != []:\n",
    "            b0 += select(_cands, dataset, problem, beam_width)\n",
    "        if debug: break\n",
    "    b0.sort(key=lambda x: x[-1], reverse=True)\n",
    "    return b0\n",
    "\n",
    "\n",
    "def expand(p_candidate, subset, problem, max_token_override=None, max_errors=4, debug=False):\n",
    "    \"\"\"\n",
    "    Beam search proper.\n",
    "    ---\n",
    "    Params:\n",
    "    p_candidate: a list of candidate prompts\n",
    "    subset: the list of entries compatible with `get_predictions_for_version_apo` (i.e., the dataset)\n",
    "    version: the prompt version\n",
    "    llm: the LLMClient object\n",
    "    max_errors: the maximum number of mismatched datapoints allowable to run for the gradient version\n",
    "    max_token_override: dict of the form {\"tkey\": tkey, \"max_tokens\": max_tokens to override}. You need both because some LLMs use different token keys.\n",
    "    debug: gee I wonder what this does.\n",
    "    \"\"\"\n",
    "    if debug: print(\"Calling for predictions\")\n",
    "    resps = get_predictions(subset, len(subset), problem=problem, max_exemplars=2, use_desc=p_candidate, debug=debug, desc=\"APO\")\n",
    "    errors = []\n",
    "    accuracy = compute_acc(resps, is_apo=True)[0]\n",
    "    if debug: print(f\"Called {len(subset)} predictions and got accuracy {accuracy}\")\n",
    "    for entry in resps:\n",
    "        if entry[\"Response\"][0].isnumeric():\n",
    "            pred = int(entry[\"Response\"][0])\n",
    "            if pred != entry[\"Label\"]:\n",
    "                errors.append(entry)\n",
    "    errors = random.sample(errors, k=min(len(errors), max_errors))\n",
    "    # Minor hack (not in the paper): if no errors, we've converged\n",
    "    if debug: print(f\"Selected {len(errors)}\")\n",
    "    if errors == []:\n",
    "        successors = [p_candidate]\n",
    "    else:\n",
    "        successors = gradient_and_edit(p_candidate, errors, max_token_override=max_token_override, debug=debug)\n",
    "    return successors\n",
    "\n",
    "\n",
    "def gradient_and_edit(p_candidate, errors, max_token_override=None, num_reasons=4, edits_per_gradient=1, num_mc_samples=2, debug=False):\n",
    "    \"\"\"\n",
    "    Run the pseudo gradient.\n",
    "    All params and prompts are the defaults from the paper.\n",
    "    ---\n",
    "    Params:\n",
    "    p_candidate: a list of candidate prompts\n",
    "    errors: a list of entries where the label was wrong compatible with `get_predictions_for_version_apo` (i.e., the dataset)\n",
    "    version: the prompt version\n",
    "    llm: the LLMClient object\n",
    "    max_token_override: dict of the form {\"tkey\": tkey, \"max_tokens\": max_tokens to override}. You need both because some LLMs use different token keys.\n",
    "    num_reasons: number of reasons required for the LLM to output as to why this was wrong\n",
    "    edits_per_gradient: number of edits done for the prompts that were wrong\n",
    "    num_mc_samples: the samples for the Monte-Carlo bit\n",
    "    debug: debug.\n",
    "    \"\"\"\n",
    "    # Defaults from the paper\n",
    "    def gradient_prompt(p, e, f): \n",
    "        resp = f\"I'm trying to write a zero-shot classifier prompt.\\nMy current prompt is:\\n\\\"{p}\\\"\\nBut this prompt gets the following examples wrong:\\n{e}\\ngive {f} reasons why the prompt could have gotten these examples wrong.\\nWrap each reason with <START> and <END>\"\n",
    "        return resp\n",
    "\n",
    "    def edition_prompt(p, e, g, n):\n",
    "        resp = f\"I'm trying to write a zero-shot classifier.\\n My current prompt is:\\n\\\"{p}\\\"\\nBut it gets the following examples wrong:\\n{e}\\nBased on these examples the problem with this prompt is that:\\n{g}\\nBased on the above information, I wrote {n} different improved prompts.\\nEach prompt is wrapped with <START> and <END>.\\nThe {n} new prompts are:\"\n",
    "        return resp\n",
    "    \n",
    "    def mc_prompt(p):\n",
    "        resp = f\"Generate a variation of the following instruction while keeping the semantic meaning.\\nInput: {p}\\nOutput:\"\n",
    "        return resp\n",
    "\n",
    "    llm.update_params({tkey: max_apo_tokens if max_token_override is None else max_token_override})\n",
    "    \n",
    "    # Direct call to model, postprocess \"gradient\"\n",
    "    if \"Path\" not in errors[0]:\n",
    "        error_string = \"\\n - \".join([p[\"Entry\"] + \": \" + str(p[\"Label\"]) for p in errors])\n",
    "    else:\n",
    "        # Hamiltonian has a sliiiightly different signature\n",
    "        error_string = \"\\n - \".join([f\"{p['Entry']} | path: {p['Path']} : {p['Label']}\" for p in errors])\n",
    "    prompt = gradient_prompt(p_candidate, error_string, str(num_reasons))\n",
    "    if debug: print(f\"Prompt is \\n{prompt}\\n for the gradient step\")\n",
    "    response = get_llm_response(llm, prompt)\n",
    "    if debug: print(f\"ot \\n{response}\\n from the gradient step\")\n",
    "    \n",
    "    # Edit the prompt -- one edit per gradient.\n",
    "    edited_prompts = []\n",
    "    # Note: the original paper doesn't specify parsing. We need to keep it or else this algorithm won't work.\n",
    "    response_processed = [r.replace(\"<END>\", \"\").strip() for r in response.split(\"<START>\") if \"<END>\" in r]\n",
    "    for g in response_processed:\n",
    "        prompt = edition_prompt(p_candidate, error_string, g.strip(), str(edits_per_gradient))\n",
    "        response = get_llm_response(llm, prompt)\n",
    "        if \"4o\" in MODEL or \"turbo\" in MODEL:\n",
    "            edited_prompts.append(response.strip())\n",
    "        else:\n",
    "            # this will inject boilerplate from the model in omni\n",
    "            edited_prompts.append(response.strip().split(\"\\n\")[0].strip())\n",
    "    # Do MC search\n",
    "    # Two candidates per instruction:\n",
    "    if debug: print(f\"Here are the edited prompts:\\n{edited_prompts}\")\n",
    "    candidates = []\n",
    "    for c in edited_prompts:\n",
    "        # I would like to make this a batch call but I don't want to alter the original work.\n",
    "        for _ in range(num_mc_samples):\n",
    "            response1 = get_llm_response(llm, mc_prompt(c))\n",
    "            # Same as before: no parsing in paper\n",
    "            response_processed = [r.replace(\"<END>\", \"\").strip() for r in response1.split(\"<START>\") if \"<END>\" in r]\n",
    "            if response_processed != []:\n",
    "                response1 = response_processed[0]\n",
    "            candidates.append(response1)\n",
    "\n",
    "    llm.update_params({tkey: tokens})\n",
    "\n",
    "    return candidates\n",
    "\n",
    "\n",
    "def select(candidates, dataset, problem, beam_size, B=12):\n",
    "    \"\"\"\n",
    "    Select candidates.\n",
    "    ---\n",
    "    Params:\n",
    "    candidates: a list of prompt candidates\n",
    "    dataset: a list of entries compatible with `get_predictions_for_version_apo` (i.e., the dataset)\n",
    "    version: the version for the prompt\n",
    "    llm: the LLMClient object\n",
    "    beam_size: the size of the beam\n",
    "    \"\"\"\n",
    "    # Paper states that B in 12-50 keeps it steady.\n",
    "    # This is a very confusing and not-very-well-written algorithm.\n",
    "    # We'll implement it verbatim from the paper though.\n",
    "    S = [(p, 0) for p in candidates]\n",
    "    old_s = [s for s in S]\n",
    "\n",
    "    def get_n(i, T):\n",
    "        # What is T lmao \n",
    "        # From the below, our maximum number of iterations (n) cannot be larger than T\n",
    "        # Likewise, B gets too degenerate when close to T (T < B, otherwise you'll just get zeroes)\n",
    "        left = 1/(0.5*sum([1/j for j in range(2, T + 1)]))\n",
    "        right = (B-T)/(T + 1 - i)\n",
    "        return int(np.ceil(left*right))\n",
    "\n",
    "    # Says 1... n - 1 for n prompts; index shift python\n",
    "    m = min(len(candidates) - 2, beam_size + 1)\n",
    "    for i in range(1, m):\n",
    "        subset = random.sample(dataset, k=get_n(i, m))\n",
    "        # Original paper isn't very clear here (i is not defined; We'll evaluate all prompts)\n",
    "        S_exp = []\n",
    "        for prompt, _ in S:\n",
    "            resps = get_predictions(subset, len(subset), problem=problem, max_exemplars=2, use_desc=prompt)\n",
    "            accuracy = compute_acc(resps, is_apo=True)[0] \n",
    "            S_exp.append((prompt, accuracy))\n",
    "        S_exp.sort(key = lambda x: x[-1], reverse=True) # Decreasing\n",
    "        S = [p for p in S_exp[:-1]]\n",
    "    # We also need to address this corner case, not addressed in the paper\n",
    "    if S == []:\n",
    "        S = old_s\n",
    "    return [S[0]]\n"
   ]
  },
  {
   "cell_type": "markdown",
   "id": "9c2f6df6-1799-4b76-9341-8d35f36cdf3a",
   "metadata": {
    "slideshow": {
     "slide_type": ""
    },
    "tags": []
   },
   "source": [
    "# PARITY"
   ]
  },
  {
   "cell_type": "markdown",
   "id": "844d7d5f-fbb2-4065-b522-1fd1b15d5c9b",
   "metadata": {},
   "source": [
    "## Shared functions"
   ]
  },
  {
   "cell_type": "code",
   "execution_count": null,
   "id": "c09a466f-7f3c-486f-95b5-fc89376f1849",
   "metadata": {
    "editable": true,
    "slideshow": {
     "slide_type": ""
    },
    "tags": []
   },
   "outputs": [],
   "source": [
    "corpus_id = [json.loads(l) for l in open(\"datasets/PARITY/corpus_parity_id_4k_new.json\", \"r\", encoding=\"utf-8\").readlines()]\n",
    "corpus_id_test = [json.loads(l) for l in open(\"datasets/PARITY/corpus_parity_id_4k_new_test.json\", \"r\", encoding=\"utf-8\").readlines()]\n",
    "corpus_od_test_w_negs = [json.loads(l) for l in open(\"datasets/PARITY/corpus_parity_ood_4k_test_new_with_negs.json\", \"r\", encoding=\"utf-8\").readlines()]\n",
    "\n",
    "problem = \"parity\"\n",
    "out_dir_root = f\"{root_out}/PARITY/\"\n",
    "\n",
    "def get_prompt_for_parity(point, use_desc=\"\", max_exemplars=10, shuffle_exemplars=False, is_cot=False):\n",
    "    \"\"\" Get the system and user prompts for this problem. \n",
    "    It takes as input a (raw) datapoint (so no labels), and some extra params to make it shiny.\n",
    "    ---\n",
    "    Params:\n",
    "    point (str): your datapoint\n",
    "    use_desc (str, \"\"): the system prompt / description of the task (optional)\n",
    "    max_exemplars (int, 10): number of shots\n",
    "    shuffle_exemplars (False): this shuffles exemplars positionally only. There's another notebook for the other bits.\n",
    "    is_cot (False): do you need a full CoT exemplar?\n",
    "    \"\"\"\n",
    "    def build_cot_exemplar(ex, lab):\n",
    "        count = ex.count(\"0\")\n",
    "        is_even = lab == \"1\" # Need this for noise as opposed to count % 2 == 0\n",
    "        exemplar = \"Let's think and solve this step-by-step. \" #\"{}: \\n\".format(ex) <- this is for chat\n",
    "        if type(use_desc) == str:\n",
    "            exemplar += \"There are {} zeros in the string.\\n\".format(count)\n",
    "            exemplar += \"{} is an {} number.\\n\".format(count, \"even\" if is_even else \"odd\")\n",
    "        else:\n",
    "            exemplar += f\"{' '.join(random.sample(use_desc, k=2))} {count} {' '.join(random.sample(use_desc, k=4))}.\\n\"\n",
    "            exemplar += f\"{count} {' '.join(random.sample(use_desc, k=2))} {'even' if is_even else 'odd'} {random.sample(use_desc, k=1)}.\\n\"\n",
    "        exemplar += \"So the answer is {}\".format(lab)        \n",
    "        return exemplar\n",
    "\n",
    "    prompt = []\n",
    "    base_prompt = use_desc if type(use_desc) == str else \" \".join(random.sample(use_desc, k=random.randint(15, 40)))\n",
    "    if base_prompt != \"\":\n",
    "         prompt.append({\"role\": \"system\", \"content\": base_prompt})\n",
    "    exemplars = corpus_id[:max_exemplars]\n",
    "    if shuffle_exemplars:\n",
    "        random.shuffle(exemplars)\n",
    "    for i in range(len(exemplars)):\n",
    "        prompt.append({\"role\": \"user\", \"content\": corpus_id[i][\"Entry\"] + \": \"})\n",
    "        ex = str(corpus_id[i][\"Label\"])\n",
    "        if is_cot:\n",
    "            ex = build_cot_exemplar(corpus_id[i][\"Entry\"], str(corpus_id[i][\"Label\"]))\n",
    "        prompt.append({\"role\": \"assistant\", \"content\": ex})\n",
    "    user_str = f\"{point}: \"\n",
    "    prompt.append({\"role\": \"user\", \"content\": user_str})\n",
    "    return prompt"
   ]
  },
  {
   "cell_type": "markdown",
   "id": "ae77d4d0-9bec-4522-abff-2303eafb8391",
   "metadata": {
    "editable": true,
    "jp-MarkdownHeadingCollapsed": true,
    "slideshow": {
     "slide_type": ""
    },
    "tags": []
   },
   "source": [
    "## Modus ponens"
   ]
  },
  {
   "cell_type": "code",
   "execution_count": null,
   "id": "f9bb5fad-456b-4c44-b2c2-4b387609cd24",
   "metadata": {
    "editable": true,
    "scrolled": true,
    "slideshow": {
     "slide_type": ""
    },
    "tags": []
   },
   "outputs": [],
   "source": [
    "suff = f\"modus_ponens_{problem}\"\n",
    "\n",
    "call_and_solve_for(problem=problem, suff=suff, dataset=corpus_id_test, out_dir_root=out_dir_root, shuffle_exemplars=False)\n",
    "call_and_solve_for(problem=problem, suff=suff, dataset=corpus_od_test_w_negs, do_ood=True, out_dir_root=out_dir_root, shuffle_exemplars=False)"
   ]
  },
  {
   "cell_type": "code",
   "execution_count": null,
   "id": "81d67d57-2c4b-401b-8c16-e3dbd3a36339",
   "metadata": {
    "editable": true,
    "scrolled": true,
    "slideshow": {
     "slide_type": ""
    },
    "tags": []
   },
   "outputs": [],
   "source": [
    "suff = f\"modus_ponens_{problem}_shuffled\"\n",
    "\n",
    "call_and_solve_for(problem=problem, suff=suff, dataset=corpus_id_test, out_dir_root=out_dir_root, shuffle_exemplars=True)\n",
    "call_and_solve_for(problem=problem, suff=suff, dataset=corpus_od_test_w_negs, do_ood=True, out_dir_root=out_dir_root, shuffle_exemplars=True)"
   ]
  },
  {
   "cell_type": "markdown",
   "id": "e022f495-0f98-4c81-8de4-81c9e085e8de",
   "metadata": {
    "editable": true,
    "jp-MarkdownHeadingCollapsed": true,
    "slideshow": {
     "slide_type": ""
    },
    "tags": []
   },
   "source": [
    "## With description"
   ]
  },
  {
   "cell_type": "code",
   "execution_count": null,
   "id": "d0b15b43-117a-4b81-adfc-5f91496cbbca",
   "metadata": {
    "editable": true,
    "scrolled": true,
    "slideshow": {
     "slide_type": ""
    },
    "tags": []
   },
   "outputs": [],
   "source": [
    "parity_desc = \"This task is called PARITY. The strings in PARITY are generated from a probabilistic automaton.\\n\"\n",
    "parity_desc += \"Your job is to learn what is the likelihood of a string to be labeled 0 or 1, and output the correct label.\\n\"\n",
    "parity_desc += \"In the limit where the automaton is deterministic, if the number of zeros in the input string is even, the label is always 1. Else, it is 0.\\n\"\n",
    "\n",
    "parity_desc_zero_shot = parity_desc + \"Give your answer as a single integer, and your reasoning in a new line.\\n\"\n",
    "parity_desc_zero_shot += \"For example:\\n000:1\\nThere are an odd number of zeros in the string.\\n\\n\"\n",
    "\n",
    "parity_desc += \"Given the data below, determine what is the most likely label for the given string and output ONLY the label.\\n\"\n",
    "parity_desc += \"Data:\\n\\n\"\n",
    "\n",
    "suff = f\"w_description_{problem}\"\n",
    "\n",
    "call_and_solve_for(problem, suff=suff, dataset=corpus_id_test, SHOTS=[0, 2, 5, 10, 20, 50, 100],\n",
    "                   zero_shot_prompt = parity_desc_zero_shot, few_shot_prompt = parity_desc, shuffle_exemplars=False,\n",
    "                   do_ood=False, out_dir_root=out_dir_root, is_cot=False)\n",
    "call_and_solve_for(problem, suff=suff, dataset=corpus_od_test_w_negs, SHOTS=[0, 2, 5, 10, 20, 50, 100],\n",
    "                   zero_shot_prompt = parity_desc_zero_shot, few_shot_prompt = parity_desc, shuffle_exemplars=False,\n",
    "                   do_ood=True, out_dir_root=out_dir_root, is_cot=False)\n",
    "\n",
    "suff = f\"w_description_{problem}_shuffled\"\n",
    "\n",
    "call_and_solve_for(problem, suff=suff, dataset=corpus_id_test, SHOTS=[0, 2, 5, 10, 20, 50, 100],\n",
    "                   zero_shot_prompt = parity_desc_zero_shot, few_shot_prompt = parity_desc, shuffle_exemplars=True,\n",
    "                   do_ood=False, out_dir_root=out_dir_root, is_cot=False)\n",
    "call_and_solve_for(problem, suff=suff, dataset=corpus_od_test_w_negs, SHOTS=[0, 2, 5, 10, 20, 50, 100],\n",
    "                   zero_shot_prompt = parity_desc_zero_shot, few_shot_prompt = parity_desc, shuffle_exemplars=True,\n",
    "                   do_ood=True, out_dir_root=out_dir_root, is_cot=False)\n",
    "#92"
   ]
  },
  {
   "cell_type": "markdown",
   "id": "3002a6b4-adc9-442d-8700-98435e68981b",
   "metadata": {
    "editable": true,
    "jp-MarkdownHeadingCollapsed": true,
    "slideshow": {
     "slide_type": ""
    },
    "tags": []
   },
   "source": [
    "## Word Salad"
   ]
  },
  {
   "cell_type": "code",
   "execution_count": null,
   "id": "7854618b-c961-42e9-8b75-ec3be12cce55",
   "metadata": {
    "scrolled": true
   },
   "outputs": [],
   "source": [
    "parity_desc = list(set([l.strip().replace(\".\", \" \") for l in open(\"datasets/words.txt\", \"r\", encoding=\"utf-8\").readlines()[0].split(\" \")]))\n",
    "parity_desc_zero_shot = parity_desc\n",
    "\n",
    "suff = f\"word_salad_{problem}\"\n",
    "\n",
    "call_and_solve_for(problem, suff=suff, dataset=corpus_id_test, SHOTS=[0, 2, 5, 10, 20, 50, 100],\n",
    "                   zero_shot_prompt = parity_desc_zero_shot, few_shot_prompt = parity_desc, shuffle_exemplars=False,\n",
    "                   do_ood=False, out_dir_root=out_dir_root, is_cot=False)\n",
    "call_and_solve_for(problem, suff=suff, dataset=corpus_od_test_w_negs, SHOTS=[0, 2, 5, 10, 20, 50, 100],\n",
    "                   zero_shot_prompt = parity_desc_zero_shot, few_shot_prompt = parity_desc, shuffle_exemplars=False,\n",
    "                   do_ood=True, out_dir_root=out_dir_root, is_cot=False)\n",
    "\n",
    "\n",
    "suff = f\"word_salad_{problem}_shuffled\"\n",
    "\n",
    "call_and_solve_for(problem, suff=suff, dataset=corpus_id_test, SHOTS=[0, 2, 5, 10, 20, 50, 100],\n",
    "                   zero_shot_prompt = parity_desc_zero_shot, few_shot_prompt = parity_desc, shuffle_exemplars=True,\n",
    "                   do_ood=False, out_dir_root=out_dir_root, is_cot=False)\n",
    "call_and_solve_for(problem, suff=suff, dataset=corpus_od_test_w_negs, SHOTS=[0, 2, 5, 10, 20, 50, 100],\n",
    "                   zero_shot_prompt = parity_desc_zero_shot, few_shot_prompt = parity_desc, shuffle_exemplars=True,\n",
    "                   do_ood=True, out_dir_root=out_dir_root, is_cot=False)\n",
    "#92"
   ]
  },
  {
   "cell_type": "markdown",
   "id": "d2dca6d4-50eb-45f8-895a-78af99b1aa5e",
   "metadata": {
    "editable": true,
    "jp-MarkdownHeadingCollapsed": true,
    "slideshow": {
     "slide_type": ""
    },
    "tags": []
   },
   "source": [
    "## CoT"
   ]
  },
  {
   "cell_type": "code",
   "execution_count": null,
   "id": "4bda131e-15b5-4845-9bab-3ae4a77840c6",
   "metadata": {
    "scrolled": true
   },
   "outputs": [],
   "source": [
    "parity_desc = \"This task is called PARITY. The strings in PARITY are generated from a probabilistic automaton.\\n\"\n",
    "parity_desc += \"Your job is to learn what is the likelihood of a string to be labeled 0 or 1, and output the correct label.\\n\"\n",
    "parity_desc += \"In the limit where the automaton is deterministic, if the number of zeros in the input string is even, the label is always 1. Else, it is 0.\\n\"\n",
    "\n",
    "parity_desc_zero_shot = parity_desc + \"Give  your reasoning in a new line, and your answer as a single integer.\\n\"\n",
    "parity_desc_zero_shot += \"For example:\\n000:\\nThere are an odd number of zeros in the string.\\nSo the answer is 1.\\n\\n\"\n",
    "\n",
    "parity_desc += \"Given the data below, determine what is the most likely label for the given string and output ONLY the label.\\n\"\n",
    "parity_desc += \"Data:\\n\\n\"\n",
    "\n",
    "suffix = f\"CoT_{problem}\"\n",
    "llm.update_params({tkey: cot_tokens})"
   ]
  },
  {
   "cell_type": "code",
   "execution_count": null,
   "id": "fd9e91b3-0164-4516-9e28-e559e0ee6208",
   "metadata": {
    "scrolled": true
   },
   "outputs": [],
   "source": [
    "call_and_solve_for(problem, suffix, corpus_id_test, SHOTS=[0, 5, 10, 20, 50, 100], #0, \n",
    "                   zero_shot_prompt = parity_desc_zero_shot, few_shot_prompt = parity_desc, shuffle_exemplars=False,\n",
    "                   do_ood=False, out_dir_root=out_dir_root, is_cot=True)\n",
    "\n",
    "call_and_solve_for(problem, suffix, corpus_od_test_w_negs, SHOTS=[0, 5, 10, 20, 50, 100],\n",
    "                   zero_shot_prompt = parity_desc_zero_shot, few_shot_prompt = parity_desc, shuffle_exemplars=False,\n",
    "                   do_ood=True, out_dir_root=out_dir_root, is_cot=True)"
   ]
  },
  {
   "cell_type": "code",
   "execution_count": null,
   "id": "bbea9804-7ce7-4055-8488-d5e9354f7725",
   "metadata": {
    "editable": true,
    "scrolled": true,
    "slideshow": {
     "slide_type": ""
    },
    "tags": []
   },
   "outputs": [],
   "source": [
    "suffix = f\"CoT_{problem}_shuffled\"\n",
    "\n",
    "call_and_solve_for(problem, suffix, corpus_id_test, SHOTS=[0, 5, 10, 20, 50, 100], #0, \n",
    "                   zero_shot_prompt = parity_desc_zero_shot, few_shot_prompt = parity_desc, shuffle_exemplars=True,\n",
    "                   do_ood=False, out_dir_root=out_dir_root, is_cot=True)\n",
    "\n",
    "call_and_solve_for(problem, suffix, corpus_od_test_w_negs, SHOTS=[0, 5, 10, 20, 50, 100],\n",
    "                   zero_shot_prompt = parity_desc_zero_shot, few_shot_prompt = parity_desc, shuffle_exemplars=True,\n",
    "                   do_ood=True, out_dir_root=out_dir_root, is_cot=True) #54"
   ]
  },
  {
   "cell_type": "markdown",
   "id": "29d45f3a-ec3e-44ba-9f10-1b32fd17752e",
   "metadata": {},
   "source": [
    "## Salad-of-Thought"
   ]
  },
  {
   "cell_type": "code",
   "execution_count": null,
   "id": "7f1b88b9-b720-41af-bcc4-8a47f0ac15d3",
   "metadata": {
    "scrolled": true
   },
   "outputs": [],
   "source": [
    "parity_desc = list(set([l.strip().replace(\".\", \" \") for l in open(\"datasets/words.txt\", \"r\", encoding=\"utf-8\").readlines()[0].split(\" \")]))\n",
    "parity_desc_zero_shot = parity_desc\n",
    "\n",
    "\n",
    "suffix = f\"SoT_{problem}\"\n",
    "llm.update_params({tkey: cot_tokens})\n",
    "\n",
    "call_and_solve_for(problem, suffix, corpus_id_test, SHOTS=[0, 5, 10, 20, 50, 100], #0, \n",
    "                   zero_shot_prompt = parity_desc_zero_shot, few_shot_prompt = parity_desc, shuffle_exemplars=False,\n",
    "                   do_ood=False, out_dir_root=out_dir_root, is_cot=True)\n",
    "\n",
    "call_and_solve_for(problem, suffix, corpus_od_test_w_negs, SHOTS=[0, 5, 10, 20, 50, 100],\n",
    "                   zero_shot_prompt = parity_desc_zero_shot, few_shot_prompt = parity_desc, shuffle_exemplars=False,\n",
    "                   do_ood=True, out_dir_root=out_dir_root, is_cot=True)"
   ]
  },
  {
   "cell_type": "code",
   "execution_count": null,
   "id": "16d45266-22dd-421e-b124-80b5c2c15690",
   "metadata": {
    "scrolled": true
   },
   "outputs": [],
   "source": [
    "parity_desc = list(set([l.strip().replace(\".\", \" \") for l in open(\"datasets/words.txt\", \"r\", encoding=\"utf-8\").readlines()[0].split(\" \")]))\n",
    "parity_desc_zero_shot = parity_desc\n",
    "\n",
    "\n",
    "suffix = f\"SoT_{problem}_shuffled\"\n",
    "llm.update_params({tkey: cot_tokens})\n",
    "\n",
    "call_and_solve_for(problem, suffix, corpus_id_test, SHOTS=[0, 5, 10, 20, 50, 100], #0, \n",
    "                   zero_shot_prompt = parity_desc_zero_shot, few_shot_prompt = parity_desc, shuffle_exemplars=True,\n",
    "                   do_ood=False, out_dir_root=out_dir_root, is_cot=True)\n",
    "\n",
    "call_and_solve_for(problem, suffix, corpus_od_test_w_negs, SHOTS=[0, 5, 10, 20, 50, 100],\n",
    "                   zero_shot_prompt = parity_desc_zero_shot, few_shot_prompt = parity_desc, shuffle_exemplars=True,\n",
    "                   do_ood=True, out_dir_root=out_dir_root, is_cot=True) #689"
   ]
  },
  {
   "cell_type": "markdown",
   "id": "0c78a21b-03a5-4f15-a51f-9a6772aaf549",
   "metadata": {
    "editable": true,
    "jp-MarkdownHeadingCollapsed": true,
    "slideshow": {
     "slide_type": ""
    },
    "tags": []
   },
   "source": [
    "## Automata encoded"
   ]
  },
  {
   "cell_type": "code",
   "execution_count": null,
   "id": "634f6429-594b-4be4-934a-1a6bd3f39fde",
   "metadata": {
    "editable": true,
    "scrolled": true,
    "slideshow": {
     "slide_type": ""
    },
    "tags": []
   },
   "outputs": [],
   "source": [
    "ecm_str_desc = \"def ecm(P, is_neg=False, max_length = None):\\n    # P should be either P or Q (test)\\n    p00, p01, p0f = P[0]\\n    p10, p11, p1f = P[1]\\n\\n    state = \\\"S0\\\"\\n    end_state = \\\"S0\\\" if is_neg else \\\"S1\\\"\\n    tape = \\\"0\\\" \\n    steps = 0\\n\\n    while True:\\n        x = pull()\\n        #print(state, end_state, x, tape)\\n        if state == end_state:\\n            # Assume p0/1f is lower than the other two\\n            if state == \\\"S0\\\":\\n                if x <= p0f:\\n                    break\\n                else:\\n                    if x <= p00:\\n                        state = \\\"S0\\\"\\n                        tape += \\\"1\\\"\\n                    else:\\n                        state = \\\"S1\\\"\\n                        tape += \\\"0\\\"\\n\\n            else:\\n                if x <= p1f:\\n                    break\\n                else:\\n                    if x <= p11:\\n                        state = \\\"S1\\\"\\n                        tape += \\\"1\\\"\\n                    else:\\n                        state = \\\"S0\\\"\\n                        tape += \\\"0\\\"\\n        else:\\n            # Only worry about probs\\n            if state == \\\"S1\\\":\\n                if x <= p10:\\n                    state = \\\"S0\\\"\\n                    tape += \\\"0\\\"\\n                else:\\n                    state = \\\"S1\\\"\\n                    tape += \\\"1\\\"\\n            else:\\n                if x <= p00:\\n                    state = \\\"S0\\\"\\n                    tape += \\\"1\\\"\\n                else:\\n                    state = \\\"S1\\\"\\n                    tape += \\\"0\\\"\\n        steps += 1\\n        if max_length is not None:\\n            if steps >= max_length:\\n                break\\n    return tape\"\n",
    "\n",
    "parity_desc = \"This task is called PARITY. The strings in PARITY are generated from a probabilistic automaton shown below\\n\"\n",
    "parity_desc += \"Your job is to learn what is the likelihood of a string to be labeled 0 or 1, and output the correct label. You can execute the automaton to decide what is the right label.\\n\"\n",
    "parity_desc += \"In the limit where the automaton is deterministic, if the number of zeros in the input string is even, the label is always 1. Else, it is 0.\\n\"\n",
    "\n",
    "parity_desc += \"Here's the automaton:\\n\\n\"\n",
    "parity_desc += ecm_str_desc\n",
    "parity_desc += \"\\n\\n\"\n",
    "\n",
    "parity_desc_zero_shot = parity_desc + \"Give your answer as a single integer, and your reasoning in a new line.\\n\"\n",
    "parity_desc_zero_shot += \"For example:\\n000:1\\nThere are an odd number of zeros in the string.\\n\\n\"\n",
    "\n",
    "parity_desc += \"Given the data below, determine what is the most likely label for the given string and output ONLY the label.\\n\"\n",
    "parity_desc += \"Data:\\n\\n\"\n",
    "\n",
    "\n",
    "suffix = f\"w_automaton_{problem}\"\n",
    "\n",
    "llm.update_params({tkey: tokens})\n",
    "\n",
    "call_and_solve_for(problem, suffix, corpus_id_test, SHOTS=[0, 2, 5, 10, 20, 50, 100],\n",
    "                   zero_shot_prompt = parity_desc_zero_shot, few_shot_prompt = parity_desc, shuffle_exemplars=False,\n",
    "                   do_ood=False, out_dir_root=out_dir_root, is_cot=False)\n",
    "\n",
    "call_and_solve_for(problem, suffix, corpus_od_test_w_negs, SHOTS=[0, 2, 5, 10, 20, 50, 100],\n",
    "                   zero_shot_prompt = parity_desc_zero_shot, few_shot_prompt = parity_desc, shuffle_exemplars=False,\n",
    "                   do_ood=True, out_dir_root=out_dir_root, is_cot=False)\n",
    "#988\n",
    "\n",
    "suffix = f\"w_automaton_{problem}_shuffled\"\n",
    "\n",
    "call_and_solve_for(problem, suffix, corpus_id_test, SHOTS=[0, 2, 5, 10, 20, 50, 100],\n",
    "                   zero_shot_prompt = parity_desc_zero_shot, few_shot_prompt = parity_desc, shuffle_exemplars=True,\n",
    "                   do_ood=False, out_dir_root=out_dir_root, is_cot=False)\n",
    "\n",
    "call_and_solve_for(problem, suffix, corpus_od_test_w_negs, SHOTS=[0, 2, 5, 10, 20, 50, 100],\n",
    "                   zero_shot_prompt = parity_desc_zero_shot, few_shot_prompt = parity_desc, shuffle_exemplars=True,\n",
    "                   do_ood=True, out_dir_root=out_dir_root, is_cot=False)\n",
    "#988"
   ]
  },
  {
   "cell_type": "markdown",
   "id": "285841f1-763d-425f-9655-66029f9593a4",
   "metadata": {
    "editable": true,
    "jp-MarkdownHeadingCollapsed": true,
    "slideshow": {
     "slide_type": ""
    },
    "tags": []
   },
   "source": [
    "## APO"
   ]
  },
  {
   "cell_type": "code",
   "execution_count": null,
   "id": "10f1ee70-76c1-436d-a119-5b19a0e5c74d",
   "metadata": {
    "scrolled": true
   },
   "outputs": [],
   "source": [
    "parity_desc = \"This task is called PARITY. The strings in PARITY are generated from a probabilistic automaton.\\n\"\n",
    "parity_desc += \"Your job is to learn what is the likelihood of a string to be labeled 0 or 1, and output the correct label.\\n\"\n",
    "parity_desc += \"In the limit where the automaton is deterministic, if the number of zeros in the input string is even, the label is always 1. Else, it is 0.\\n\"\n",
    "parity_desc += \"Given the data below, determine what is the most likely label for the given string and output ONLY the label.\\n\"\n",
    "parity_desc += \"Data:\\n\\n\"\n",
    "\n",
    "p_hat_candidates = apo(parity_desc, corpus_id) # Use training for optimisation\n",
    "p_hat = p_hat_candidates[0][0]\n",
    "score = p_hat_candidates[0][-1]\n",
    "\n",
    "with open(f\"{out_dir_root}/apo_prompt_{problem}.json\", \"w\", encoding=\"utf-8\") as f:\n",
    "    f.write(json.dumps({\"Prompt\": p_hat, \"Score\": score, \"InitialPrompt\": parity_desc, \"OtherCandidates\": p_hat_candidates, \"Problem\": problem}, ensure_ascii=False))"
   ]
  },
  {
   "cell_type": "code",
   "execution_count": null,
   "id": "e5022ae1-864a-40ab-ab9c-406161484596",
   "metadata": {
    "editable": true,
    "scrolled": true,
    "slideshow": {
     "slide_type": ""
    },
    "tags": []
   },
   "outputs": [],
   "source": [
    "p_hat = [json.loads(l) for l in open(f\"{out_dir_root}/apo_prompt_{problem}.json\", \"r\", encoding=\"utf-8\").readlines()][0][\"Prompt\"]\n",
    "suffix = f\"apo_{problem}\"\n",
    "\n",
    "# APO is a zero-shot problem, but we'll humour ourselves and try it out with shots anyway.\n",
    "call_and_solve_for(problem, suffix, corpus_id_test, SHOTS=[0, 2, 5, 10, 20, 50, 100],\n",
    "                   zero_shot_prompt = p_hat, few_shot_prompt = p_hat,\n",
    "                   do_ood=False, out_dir_root=out_dir_root, is_cot=False)\n",
    "\n",
    "call_and_solve_for(problem, suffix, corpus_od_test_w_negs, SHOTS=[0, 2, 5, 10, 20, 50, 100],\n",
    "                   zero_shot_prompt = p_hat, few_shot_prompt = p_hat,\n",
    "                   do_ood=True, out_dir_root=out_dir_root, is_cot=False)"
   ]
  },
  {
   "cell_type": "code",
   "execution_count": null,
   "id": "4d1d317b-2ed0-4cb7-ba08-ad817df43bfd",
   "metadata": {
    "editable": true,
    "scrolled": true,
    "slideshow": {
     "slide_type": ""
    },
    "tags": []
   },
   "outputs": [],
   "source": [
    "suffix = f\"apo_{problem}_shuffled\"\n",
    "\n",
    "call_and_solve_for(problem, suffix, corpus_id_test, SHOTS=[0, 2, 5, 10, 20, 50, 100], shuffle_exemplars=True,\n",
    "                   zero_shot_prompt = p_hat, few_shot_prompt = p_hat,\n",
    "                   do_ood=False, out_dir_root=out_dir_root, is_cot=False)\n",
    "\n",
    "call_and_solve_for(problem, suffix, corpus_od_test_w_negs, SHOTS=[0, 2, 5, 10, 20, 50, 100], shuffle_exemplars=True,\n",
    "                   zero_shot_prompt = p_hat, few_shot_prompt = p_hat,\n",
    "                   do_ood=True, out_dir_root=out_dir_root, is_cot=False)"
   ]
  },
  {
   "cell_type": "markdown",
   "id": "0a9a2f11-84ad-4f19-97db-4592ef941ed2",
   "metadata": {
    "editable": true,
    "jp-MarkdownHeadingCollapsed": true,
    "slideshow": {
     "slide_type": ""
    },
    "tags": []
   },
   "source": [
    "# Pattern Matching Automata"
   ]
  },
  {
   "cell_type": "markdown",
   "id": "ab868fe7-dc7e-4b93-8175-b211fb8c7307",
   "metadata": {},
   "source": [
    "## Shared functions"
   ]
  },
  {
   "cell_type": "code",
   "execution_count": null,
   "id": "5294e787-3ca3-482f-a01d-2bd1406175a1",
   "metadata": {
    "editable": true,
    "slideshow": {
     "slide_type": ""
    },
    "tags": []
   },
   "outputs": [],
   "source": [
    "corpus_id = [json.loads(l) for l in open(\"datasets/Pattern_Matching/corpus_pattern_matching_id_4k_new.json\", \"r\", encoding=\"utf-8\").readlines()]\n",
    "corpus_id_test = [json.loads(l) for l in open(\"datasets/Pattern_Matching/corpus_pattern_matching_id_4k_new_test.json\", \"r\", encoding=\"utf-8\").readlines()]\n",
    "corpus_od_test_w_negs = [json.loads(l) for l in open(\"datasets/Pattern_Matching/corpus_pattern_matching_ood_4k_new_test.json\", \"r\", encoding=\"utf-8\").readlines()]\n",
    "\n",
    "problem = \"pattern_matching\"\n",
    "out_dir_root = f\"{root_out}/Pattern_Matching/\"\n",
    "\n",
    "def get_prompt_for_pattern_matching(point, use_desc=\"\", max_exemplars=10, shuffle_exemplars=False, is_cot=False):\n",
    "    \"\"\" Get the system and user prompts for this problem. \n",
    "    It takes as input a (raw) datapoint (so no labels), and some extra params to make it shiny.\n",
    "    ---\n",
    "    Params:\n",
    "    point (str): your datapoint\n",
    "    use_desc (str, \"\"): the system prompt / description of the task (optional)\n",
    "    max_exemplars (int, 10): number of shots\n",
    "    shuffle_exemplars (False): this shuffles exemplars positionally only. There's another notebook for the other bits.\n",
    "    is_cot (False): do you need a full CoT exemplar?\n",
    "    \"\"\"\n",
    "    pattern = \"abcabb\"\n",
    "\n",
    "    def get_match(c, tally):\n",
    "        if tally == \"\":\n",
    "            return pattern[0] == c\n",
    "        elif pattern == tally:\n",
    "            return True\n",
    "        elif len(tally) > len(pattern):\n",
    "            return False\n",
    "        else:\n",
    "            return pattern[len(tally)] == c\n",
    "\n",
    "    def build_cot_exemplar(ex, lab):\n",
    "        has_pattern = lab == \"1\" # Need this for noise as opposed to count % 2 == 0\n",
    "        exemplar = \"\\n{}: \\n\".format(ex)\n",
    "        exemplar += \"Let's think and solve this step-by-step. \"\n",
    "        if type(use_desc) == str:\n",
    "            exemplar += \"We read the string character-by-character and keep a tally:\\n\"\n",
    "        else:\n",
    "            exemplar += f\"{' '.join(random.sample(use_desc, k=11))}:\\n\"\n",
    "        tally = \"\"\n",
    "        if len(ex) >= len(pattern):\n",
    "            for i, c in enumerate(ex):\n",
    "                is_match = get_match(c, tally)\n",
    "                if type(use_desc) == str:\n",
    "                    exemplar += \"We read \\\"{}\\\". It is {}. \".format(c, \"not a match\" if not is_match else \"a match\")\n",
    "                else:\n",
    "                    match_str = \"not a match\" if not is_match else \"a match\"\n",
    "                    exemplar += f\"{' '.join(random.sample(use_desc, k=2))} \\\"{c}\\\". {' '.join(random.sample(use_desc, k=2))} {match_str}. \"\n",
    "                if is_match:\n",
    "                    tally += c\n",
    "                    if type(use_desc) == str:\n",
    "                        exemplar += \"Our tally is: {}. \".format(tally)\n",
    "                    else:\n",
    "                        exemplar += f\"{' '.join(random.sample(use_desc, k=3))}: {tally}. \"\n",
    "                    if tally == pattern and lab == \"1\":\n",
    "                        if type(use_desc) == str:\n",
    "                            exemplar += \"Our tally matches the pattern. \"\n",
    "                        else:\n",
    "                            exemplar += f\"{' '.join(random.sample(use_desc, k=5))}. \"\n",
    "                        break\n",
    "                else:\n",
    "                    if tally != \"\":\n",
    "                        if type(use_desc) == str:\n",
    "                            exemplar += \"We clear our tally. \"\n",
    "                        else:\n",
    "                            exemplar += f\"{' '.join(random.sample(use_desc, k=4))}. \"\n",
    "                    tally = \"\"\n",
    "                if type(use_desc) == str:\n",
    "                    exemplar += \"Now we move to the next character.\\n\"\n",
    "                else:\n",
    "                    exemplar += f\"{' '.join(random.sample(use_desc, k=7))}.\\n\"\n",
    "            if lab == \"0\" or i == len(ex) - 1:\n",
    "                if type(use_desc) == str:\n",
    "                    exemplar += \"We have reached the end of the string. \"\n",
    "                else:\n",
    "                    exemplar += f\"{' '.join(random.sample(use_desc, k=8))}. \"\n",
    "        else:\n",
    "            if type(use_desc) == str:\n",
    "                exemplar += \"The length of the example is too short. \"\n",
    "            else:\n",
    "                exemplar += f\"{' '.join(random.sample(use_desc, k=8))}. \"\n",
    "\n",
    "        if type(use_desc) == str:\n",
    "            exemplar += \"The pattern \\\"{}\\\" is {}.\\n\".format(pattern, \"in the string\" if has_pattern else \"is not in the string\")\n",
    "        else:\n",
    "            pat_in_str = \"in the string\" if has_pattern else \"is not in the string\"\n",
    "            exemplar += f\"{' '.join(random.sample(use_desc, k=2))} \\\"{pattern}\\\" {random.choice(use_desc)} {pat_in_str}.\\n\"\n",
    "        exemplar += \"So the answer is {}\".format(lab)\n",
    "        return exemplar\n",
    "\n",
    "    prompt = []\n",
    "    base_prompt = use_desc if type(use_desc) == str else \" \".join(random.sample(use_desc, k=random.randint(15, 40)))\n",
    "    if base_prompt != \"\":\n",
    "         prompt.append({\"role\": \"system\", \"content\": base_prompt})\n",
    "    exemplars = corpus_id[:max_exemplars]\n",
    "    if shuffle_exemplars:\n",
    "        random.shuffle(exemplars)\n",
    "    for i in range(len(exemplars)):\n",
    "        prompt.append({\"role\": \"user\", \"content\": corpus_id[i][\"Entry\"] + \": \"})\n",
    "        ex = str(corpus_id[i][\"Label\"])\n",
    "        if is_cot:\n",
    "            ex = build_cot_exemplar(corpus_id[i][\"Entry\"], str(corpus_id[i][\"Label\"]))\n",
    "        prompt.append({\"role\": \"assistant\", \"content\": ex})\n",
    "    user_str = f\"{point}: \"\n",
    "    prompt.append({\"role\": \"user\", \"content\": user_str})\n",
    "    return prompt"
   ]
  },
  {
   "cell_type": "markdown",
   "id": "2ed99a85-0c03-4d02-956b-69712d1cc3ac",
   "metadata": {},
   "source": [
    "## Modus Ponens"
   ]
  },
  {
   "cell_type": "code",
   "execution_count": null,
   "id": "521547c8-ab90-49e9-b9a0-dae610ae60ed",
   "metadata": {},
   "outputs": [],
   "source": [
    "suffix = f\"modus_ponens_{problem}\"\n",
    "#0\n",
    "call_and_solve_for(problem=problem, suff=suffix, dataset=corpus_id_test, out_dir_root=out_dir_root, shuffle_exemplars=False)\n",
    "call_and_solve_for(problem=problem, suff=suffix, dataset=corpus_od_test_w_negs, do_ood=True, out_dir_root=out_dir_root, shuffle_exemplars=False)"
   ]
  },
  {
   "cell_type": "code",
   "execution_count": null,
   "id": "e38eab09-d0e3-411b-b2cb-bb31c69ec8b5",
   "metadata": {
    "editable": true,
    "scrolled": true,
    "slideshow": {
     "slide_type": ""
    },
    "tags": []
   },
   "outputs": [],
   "source": [
    "suffix = f\"modus_ponens_{problem}_shuffled\"\n",
    "\n",
    "call_and_solve_for(problem=problem, suff=suffix, dataset=corpus_id_test, out_dir_root=out_dir_root, shuffle_exemplars=True)\n",
    "call_and_solve_for(problem=problem, suff=suffix, dataset=corpus_od_test_w_negs, do_ood=True, out_dir_root=out_dir_root, shuffle_exemplars=True)"
   ]
  },
  {
   "cell_type": "markdown",
   "id": "f5d3c266-09f1-4c5d-b657-98a4887c4ffd",
   "metadata": {},
   "source": [
    "## With description"
   ]
  },
  {
   "cell_type": "code",
   "execution_count": null,
   "id": "d1095e3c-ae6f-44e2-b390-8119a41102b7",
   "metadata": {
    "scrolled": true
   },
   "outputs": [],
   "source": [
    "parity_desc = \"This is a pattern matching task. The strings in this task are generated from a probabilistic automaton.\\n\"\n",
    "parity_desc += \"Each string is labelled 0 or 1 depending on whether the pattern \\\"abcabb\\\" is (1) or is not (0) in the string.\\n\"\n",
    "parity_desc += \"Your job is to learn what is the likelihood of a string to be labelled 0 or 1, and output the correct label.\\n\"\n",
    "parity_desc += \"In the limit where the automaton is deterministic, if the pattern is present in the string, the label is always 1. Else, it is 0.\\n\"\n",
    "\n",
    "parity_desc_zero_shot = parity_desc + \"Give your answer as a single integer, and your reasoning in a new line.\\n\"\n",
    "parity_desc_zero_shot += \"For example:\\naabcabbb:1\\nThe pattern is present in the string.\\n\\n\"\n",
    "\n",
    "parity_desc += \"Given the data below, determine what is the most likely label for the given string and output ONLY the label.\\n\"\n",
    "parity_desc += \"Data:\\n\\n\"\n",
    "\n",
    "suff = f\"w_description_{problem}\"\n",
    "\n",
    "call_and_solve_for(problem, suff, corpus_id_test, SHOTS=[0, 2, 5, 10, 20, 50, 100],\n",
    "                   zero_shot_prompt = parity_desc_zero_shot, few_shot_prompt = parity_desc, shuffle_exemplars=False,\n",
    "                   do_ood=False, out_dir_root=out_dir_root, is_cot=False)\n",
    "\n",
    "call_and_solve_for(problem, suff, corpus_od_test_w_negs, SHOTS=[0, 2, 5, 10, 20, 50, 100],  \n",
    "                   zero_shot_prompt = parity_desc_zero_shot, few_shot_prompt = parity_desc, shuffle_exemplars=False,\n",
    "                   do_ood=True, out_dir_root=out_dir_root, is_cot=False)\n",
    "\n",
    "suff = f\"w_description_{problem}_shuffled\"\n",
    "\n",
    "call_and_solve_for(problem, suff, corpus_id_test, SHOTS=[0, 2, 5, 10, 20, 50, 100],\n",
    "                   zero_shot_prompt = parity_desc_zero_shot, few_shot_prompt = parity_desc, shuffle_exemplars=True,\n",
    "                   do_ood=False, out_dir_root=out_dir_root, is_cot=False)\n",
    "\n",
    "call_and_solve_for(problem, suff, corpus_od_test_w_negs, SHOTS=[0, 2, 5, 10, 20, 50, 100],  \n",
    "                   zero_shot_prompt = parity_desc_zero_shot, few_shot_prompt = parity_desc, shuffle_exemplars=True,\n",
    "                   do_ood=True, out_dir_root=out_dir_root, is_cot=False)"
   ]
  },
  {
   "cell_type": "markdown",
   "id": "da5478f2-8858-453d-8caa-5e3f9757cf75",
   "metadata": {},
   "source": [
    "## Word salad"
   ]
  },
  {
   "cell_type": "code",
   "execution_count": null,
   "id": "2fb61676-6a25-4009-b1f1-fef68f17f7e9",
   "metadata": {},
   "outputs": [],
   "source": [
    "parity_desc = list(set([l.strip().replace(\".\", \" \") for l in open(\"datasets/words.txt\", \"r\", encoding=\"utf-8\").readlines()[0].split(\" \")]))\n",
    "parity_desc_zero_shot = parity_desc\n",
    "\n",
    "suff = f\"word_salad_{problem}\"\n",
    "\n",
    "call_and_solve_for(problem, suff=suff, dataset=corpus_id_test, SHOTS=[0, 2, 5, 10, 20, 50, 100],\n",
    "                   zero_shot_prompt = parity_desc_zero_shot, few_shot_prompt = parity_desc, shuffle_exemplars=False,\n",
    "                   do_ood=False, out_dir_root=out_dir_root, is_cot=False)\n",
    "call_and_solve_for(problem, suff=suff, dataset=corpus_od_test_w_negs, SHOTS=[0, 2, 5, 10, 20, 50, 100], #0, 2, 5, 10\n",
    "                   zero_shot_prompt = parity_desc_zero_shot, few_shot_prompt = parity_desc, shuffle_exemplars=False,\n",
    "                   do_ood=True, out_dir_root=out_dir_root, is_cot=False)\n",
    "\n",
    "\n",
    "suff = f\"word_salad_{problem}_shuffled\"\n",
    "\n",
    "call_and_solve_for(problem, suff=suff, dataset=corpus_id_test, SHOTS=[0, 2, 5, 10, 20, 50, 100],\n",
    "                   zero_shot_prompt = parity_desc_zero_shot, few_shot_prompt = parity_desc, shuffle_exemplars=True,\n",
    "                   do_ood=False, out_dir_root=out_dir_root, is_cot=False)\n",
    "call_and_solve_for(problem, suff=suff, dataset=corpus_od_test_w_negs, SHOTS=[0, 2, 5, 10, 20, 50, 100], #0, 2, 5, 10\n",
    "                   zero_shot_prompt = parity_desc_zero_shot, few_shot_prompt = parity_desc, shuffle_exemplars=True,\n",
    "                   do_ood=True, out_dir_root=out_dir_root, is_cot=False)\n"
   ]
  },
  {
   "cell_type": "markdown",
   "id": "8d125e70-13c7-45f8-a93e-b5599d126131",
   "metadata": {},
   "source": [
    "## CoT"
   ]
  },
  {
   "cell_type": "code",
   "execution_count": null,
   "id": "907da1e7-0ce2-4896-8fb2-9b04061b0c47",
   "metadata": {},
   "outputs": [],
   "source": [
    "parity_desc = \"This is a pattern matching task. The strings in this task are generated from a probabilistic automaton.\\n\"\n",
    "parity_desc += \"Each string is labelled 0 or 1 depending on whether the pattern \\\"abcabb\\\" is (1) or is not (0) in the string.\\n\"\n",
    "parity_desc += \"Your job is to learn what is the likelihood of a string to be labelled 0 or 1, and output the correct label.\\n\"\n",
    "parity_desc += \"In the limit where the automaton is deterministic, if the pattern is present in the string, the label is always 1. Else, it is 0.\\n\"\n",
    "\n",
    "parity_desc_zero_shot = parity_desc + \"Give your answer as a single integer, and your reasoning in a new line.\\n\"\n",
    "parity_desc_zero_shot += \"For example:\\naabcabbb:1\\nThe pattern is present in the string.\\n\\n\"\n",
    "\n",
    "parity_desc += \"Given the data below, determine what is the most likely label for the given string and output ONLY the label.\\n\"\n",
    "parity_desc += \"Data:\\n\\n\"\n",
    "\n",
    "llm.update_params({tkey: cot_tokens})"
   ]
  },
  {
   "cell_type": "code",
   "execution_count": null,
   "id": "be747c13-f6c4-4eb4-93d5-ed9603fe9eb5",
   "metadata": {
    "scrolled": true
   },
   "outputs": [],
   "source": [
    "suffix = f\"CoT_{problem}\"\n",
    "\n",
    "call_and_solve_for(problem, suffix, corpus_id_test, SHOTS=[0, 5, 10, 20, 50, 100],\n",
    "                   zero_shot_prompt = parity_desc_zero_shot, few_shot_prompt = parity_desc, shuffle_exemplars=False,\n",
    "                   do_ood=False, out_dir_root=out_dir_root, is_cot=True) \n",
    "\n",
    "call_and_solve_for(problem, suffix, corpus_od_test_w_negs, SHOTS=[0, 5, 10, 20, 50, 100], \n",
    "                   zero_shot_prompt = parity_desc_zero_shot, few_shot_prompt = parity_desc, shuffle_exemplars=False,\n",
    "                   do_ood=True, out_dir_root=out_dir_root, is_cot=True)"
   ]
  },
  {
   "cell_type": "code",
   "execution_count": null,
   "id": "b9391532-d013-4833-8113-a14637084aff",
   "metadata": {
    "editable": true,
    "scrolled": true,
    "slideshow": {
     "slide_type": ""
    },
    "tags": []
   },
   "outputs": [],
   "source": [
    "suffix = f\"CoT_{problem}_shuffled\"\n",
    "\n",
    "call_and_solve_for(problem, suffix, corpus_id_test, SHOTS=[0, 5, 10, 20, 50, 100], #0, 5, 10, 20, 50, 100\n",
    "                   zero_shot_prompt = parity_desc_zero_shot, few_shot_prompt = parity_desc, shuffle_exemplars=True,\n",
    "                   do_ood=False, out_dir_root=out_dir_root, is_cot=True) #790\n",
    "\n",
    "call_and_solve_for(problem, suffix, corpus_od_test_w_negs, SHOTS=[0, 5, 10, 20, 50, 100], #0, 5, 10, 20 #17\n",
    "                   zero_shot_prompt = parity_desc_zero_shot, few_shot_prompt = parity_desc, shuffle_exemplars=True,\n",
    "                   do_ood=True, out_dir_root=out_dir_root, is_cot=True)"
   ]
  },
  {
   "cell_type": "markdown",
   "id": "02ca4f6c",
   "metadata": {},
   "source": [
    "## Salad-of-Thought"
   ]
  },
  {
   "cell_type": "code",
   "execution_count": null,
   "id": "2247a5ea",
   "metadata": {},
   "outputs": [],
   "source": [
    "parity_desc = list(set([l.strip().replace(\".\", \" \") for l in open(\"datasets/words.txt\", \"r\", encoding=\"utf-8\").readlines()[0].split(\" \")]))\n",
    "parity_desc_zero_shot = parity_desc\n",
    "\n",
    "\n",
    "suffix = f\"SoT_{problem}\"\n",
    "llm.update_params({tkey: cot_tokens})\n",
    "\n",
    "call_and_solve_for(problem, suffix, corpus_id_test, SHOTS=[0, 5, 10, 20, 50, 100], #0, \n",
    "                   zero_shot_prompt = parity_desc_zero_shot, few_shot_prompt = parity_desc, shuffle_exemplars=False,\n",
    "                   do_ood=False, out_dir_root=out_dir_root, is_cot=True)\n",
    "\n",
    "call_and_solve_for(problem, suffix, corpus_od_test_w_negs, SHOTS=[0, 5, 10, 20, 50, 100],\n",
    "                   zero_shot_prompt = parity_desc_zero_shot, few_shot_prompt = parity_desc, shuffle_exemplars=False,\n",
    "                   do_ood=True, out_dir_root=out_dir_root, is_cot=True)"
   ]
  },
  {
   "cell_type": "code",
   "execution_count": null,
   "id": "16dd8204",
   "metadata": {},
   "outputs": [],
   "source": [
    "parity_desc = list(set([l.strip().replace(\".\", \" \") for l in open(\"datasets/words.txt\", \"r\", encoding=\"utf-8\").readlines()[0].split(\" \")]))\n",
    "parity_desc_zero_shot = parity_desc\n",
    "\n",
    "\n",
    "suffix = f\"SoT_{problem}_shuffled\"\n",
    "llm.update_params({tkey: cot_tokens})\n",
    "\n",
    "call_and_solve_for(problem, suffix, corpus_id_test, SHOTS=[0, 5, 10, 20, 50, 100], #0, \n",
    "                   zero_shot_prompt = parity_desc_zero_shot, few_shot_prompt = parity_desc, shuffle_exemplars=True,\n",
    "                   do_ood=False, out_dir_root=out_dir_root, is_cot=True)\n",
    "\n",
    "call_and_solve_for(problem, suffix, corpus_od_test_w_negs, SHOTS=[0, 5, 10, 20, 50, 100],\n",
    "                   zero_shot_prompt = parity_desc_zero_shot, few_shot_prompt = parity_desc, shuffle_exemplars=True,\n",
    "                   do_ood=True, out_dir_root=out_dir_root, is_cot=True) #689"
   ]
  },
  {
   "cell_type": "markdown",
   "id": "6df32a49-5595-441b-a196-16ff33ba6455",
   "metadata": {
    "editable": true,
    "slideshow": {
     "slide_type": ""
    },
    "tags": []
   },
   "source": [
    "## Automata"
   ]
  },
  {
   "cell_type": "code",
   "execution_count": null,
   "id": "1828adca-0098-4f9b-af85-f63970a8aeae",
   "metadata": {
    "scrolled": true
   },
   "outputs": [],
   "source": [
    "ecm_str_desc = \"def pattern_matching(P, is_neg=False, max_length = 24_000):\\n    \\\"\\\"\\\"\\n    Automaton generating strings for the pattern matching problem:\\n    L = {w \\in {a, b, c}* : \\exists x, y \\in {a, b, c}* (w = x abcabb y)}.\\n    \\\"\\\"\\\"\\n    # Transition matrix for the automaton\\n    # T[i][j] means what you write on the tape when in Si and transitioning to Sj\\n    # When there's a comma, random choices are needed.\\n    # S0, # S1, # S2, # S3, # S4, # S5, # S6, # Sf\\n    T = [[\\\"b,c\\\", \\\"a\\\",  None, None, None, None, None],   # S0\\n         [\\\"c\\\",   \\\"a\\\",  \\\"b\\\",  None, None, None, None],   # S1\\n         [\\\"b\\\",   \\\"a\\\",  None, \\\"c\\\",  None, None, None],    # S2\\n         [\\\"b,c\\\", None, None, None, \\\"a\\\",  None, None],   # S3\\n         [\\\"c\\\",   \\\"a\\\",  None, None, None, \\\"b\\\",  None],   # S4\\n         [None,  \\\"a\\\",  None, \\\"c\\\",  None, None, \\\"b\\\"],    # S5\\n         [None,  None, None, None, None, None, \\\"a,b,c\\\"]]# S6\\n    if is_neg:\\n        T = [T[6], T[0], T[1], T[2], T[3], T[4], T[5]]\\n\\n    state = \\\"S0\\\"\\n    end_states = [\\\"S0\\\"] if is_neg else [\\\"S6\\\"]\\n    tape = \\\"\\\" # Start with the empty tape \\n    steps = 0\\n\\n    # Transitions _to_ the state in question. \\n    # - weights are handled by P\\n    arr = [0, 1, 2, 3, 4, 5, 6, \\\"f\\\"] \\n\\n    while True:\\n        ix = int(state[-1])\\n        x = random.choices(arr, weights=P[ix], k=1)[0]\\n        if x == \\\"f\\\":\\n            break\\n\\n        next_state = \\\"S\\\" + str(x)\\n        write_to = T[ix][x]\\n        if \\\",\\\" in write_to:\\n            write_to = random.choice(write_to.split(\\\",\\\"))\\n        tape += write_to\\n        state = next_state\\n        \\n        steps += 1\\n        if max_length is not None:\\n            if steps >= max_length:\\n                return None\\n    if tape == \\\"\\\":\\n        return None\\n    return tape\"\n",
    "\n",
    "parity_desc = \"This is a pattern matching task. The strings in this task are generated from a probabilistic automaton.\\n\"\n",
    "parity_desc += \"Each string is labelled 0 or 1 depending on whether the pattern \\\"abcabb\\\" is (1) or is not (0) in the string.\\n\"\n",
    "parity_desc += \"Your job is to learn what is the likelihood of a string to be labelled 0 or 1, and output the correct label.\\n\"\n",
    "parity_desc += \"In the limit where the automaton is deterministic, if the pattern is present in the string, the label is always 1. Else, it is 0.\\n\"\n",
    "\n",
    "parity_desc += \"Here's the automaton:\\n\\n\"\n",
    "parity_desc += ecm_str_desc\n",
    "parity_desc += \"\\n\\n\"\n",
    "\n",
    "parity_desc_zero_shot = parity_desc + \"Give your answer as a single integer, and your reasoning in a new line.\\n\"\n",
    "parity_desc_zero_shot += \"For example:\\naabcabbb:1\\nThe pattern is present in the string.\\n\\n\"\n",
    "\n",
    "parity_desc += \"Given the data below, determine what is the most likely label for the given string and output ONLY the label.\\n\"\n",
    "parity_desc += \"Data:\\n\\n\"\n",
    "\n",
    "llm.update_params({tkey: tokens})\n",
    "\n",
    "suff = f\"w_automaton_{problem}\"\n",
    "\n",
    "call_and_solve_for(problem, suff, corpus_id_test, SHOTS=[0, 2, 5, 10, 20, 50, 100],\n",
    "                   zero_shot_prompt = parity_desc_zero_shot, few_shot_prompt = parity_desc, shuffle_exemplars=False,\n",
    "                   do_ood=False, out_dir_root=out_dir_root, is_cot=False)\n",
    "\n",
    "call_and_solve_for(problem, suff, corpus_od_test_w_negs, SHOTS=[0, 2, 5, 10, 20, 50, 100],\n",
    "                   zero_shot_prompt = parity_desc_zero_shot, few_shot_prompt = parity_desc, shuffle_exemplars=False,\n",
    "                   do_ood=True, out_dir_root=out_dir_root, is_cot=False)\n",
    "\n",
    "suff = f\"w_automaton_{problem}_shuffled\"\n",
    "\n",
    "call_and_solve_for(problem, suff, corpus_id_test, SHOTS=[0, 2, 5, 10, 20, 50, 100],\n",
    "                   zero_shot_prompt = parity_desc_zero_shot, few_shot_prompt = parity_desc, shuffle_exemplars=True,\n",
    "                   do_ood=False, out_dir_root=out_dir_root, is_cot=False)\n",
    "\n",
    "call_and_solve_for(problem, suff, corpus_od_test_w_negs, SHOTS=[0, 2, 5, 10, 20, 50, 100],\n",
    "                   zero_shot_prompt = parity_desc_zero_shot, few_shot_prompt = parity_desc, shuffle_exemplars=True,\n",
    "                   do_ood=True, out_dir_root=out_dir_root, is_cot=False)"
   ]
  },
  {
   "cell_type": "markdown",
   "id": "9659f6d6-419a-4447-952c-c74a35ae9bf8",
   "metadata": {
    "editable": true,
    "slideshow": {
     "slide_type": ""
    },
    "tags": []
   },
   "source": [
    "## APO"
   ]
  },
  {
   "cell_type": "code",
   "execution_count": null,
   "id": "63d1c28c-1cde-4a2c-997d-9993860146ee",
   "metadata": {
    "editable": true,
    "scrolled": true,
    "slideshow": {
     "slide_type": ""
    },
    "tags": []
   },
   "outputs": [],
   "source": [
    "parity_desc = \"This is a pattern matching task. The strings in this task are generated from a probabilistic automaton.\\n\"\n",
    "parity_desc += \"Each string is labelled 0 or 1 depending on whether the pattern \\\"abcabb\\\" is (1) or is not (0) in the string.\\n\"\n",
    "parity_desc += \"Your job is to learn what is the likelihood of a string to be labelled 0 or 1, and output the correct label.\\n\"\n",
    "parity_desc += \"In the limit where the automaton is deterministic, if the pattern is present in the string, the label is always 1. Else, it is 0.\\n\"\n",
    "parity_desc += \"Given the data below, determine what is the most likely label for the given string and output ONLY the label.\\n\"\n",
    "parity_desc += \"Data:\\n\\n\"\n",
    "\n",
    "p_hat_candidates = apo(parity_desc, corpus_id, problem=problem) # Use training for optimisation\n",
    "p_hat = p_hat_candidates[0][0]\n",
    "score = p_hat_candidates[0][-1]\n",
    "\n",
    "with open(f\"{out_dir_root}/apo_prompt_{problem}.json\", \"w\", encoding=\"utf-8\") as f:\n",
    "    f.write(json.dumps({\"Prompt\": p_hat, \"Score\": score, \"InitialPrompt\": parity_desc, \"OtherCandidates\": p_hat_candidates, \"Problem\": problem}, ensure_ascii=False))"
   ]
  },
  {
   "cell_type": "code",
   "execution_count": null,
   "id": "8ead0923-b02a-422e-ace9-38ae32ae0082",
   "metadata": {
    "editable": true,
    "scrolled": true,
    "slideshow": {
     "slide_type": ""
    },
    "tags": []
   },
   "outputs": [],
   "source": [
    "# APO is a zero-shot problem, but we'll humour ourselves and try it out with shots anyway.\n",
    "p_hat = [json.loads(l) for l in open(f\"{out_dir_root}/apo_prompt_{problem}.json\", \"r\", encoding=\"utf-8\").readlines()][0][\"Prompt\"]\n",
    "suff = f\"apo_{problem}\"\n",
    "llm.update_params({tkey: tokens})\n",
    "\n",
    "call_and_solve_for(problem, suff, corpus_id_test, SHOTS=[0, 2, 5, 10, 20, 50, 100],\n",
    "                   zero_shot_prompt = p_hat, few_shot_prompt = p_hat,\n",
    "                   do_ood=False, out_dir_root=out_dir_root, is_cot=False)\n",
    "\n",
    "call_and_solve_for(problem, suff, corpus_od_test_w_negs, SHOTS=[0, 2, 5, 10, 20, 50, 100],\n",
    "                   zero_shot_prompt = p_hat, few_shot_prompt = p_hat,\n",
    "                   do_ood=True, out_dir_root=out_dir_root, is_cot=False)\n",
    "\n",
    "\n",
    "suff = f\"apo_{problem}_shuffled\"\n",
    "\n",
    "call_and_solve_for(problem, suff, corpus_id_test, SHOTS=[0, 2, 5, 10, 20, 50, 100],\n",
    "                   zero_shot_prompt = p_hat, few_shot_prompt = p_hat, shuffle_exemplars=True,\n",
    "                   do_ood=False, out_dir_root=out_dir_root, is_cot=False)\n",
    "\n",
    "call_and_solve_for(problem, suff, corpus_od_test_w_negs, SHOTS=[0, 2, 5, 10, 20, 50, 100],\n",
    "                   zero_shot_prompt = p_hat, few_shot_prompt = p_hat, shuffle_exemplars=True,\n",
    "                   do_ood=True, out_dir_root=out_dir_root, is_cot=False)\n"
   ]
  },
  {
   "cell_type": "markdown",
   "id": "3ab896d9-3423-4ac3-bd42-c6bf6e4bf36b",
   "metadata": {
    "editable": true,
    "jp-MarkdownHeadingCollapsed": true,
    "slideshow": {
     "slide_type": ""
    },
    "tags": []
   },
   "source": [
    "# Vending Machine"
   ]
  },
  {
   "cell_type": "markdown",
   "id": "69fedc6f-5ab4-490e-8bb1-2ecf810d0ca6",
   "metadata": {},
   "source": [
    "## Shared Functions"
   ]
  },
  {
   "cell_type": "code",
   "execution_count": null,
   "id": "b489083b-8b5c-4559-9434-8dfcb8030635",
   "metadata": {},
   "outputs": [],
   "source": [
    "corpus_id = [json.loads(l) for l in open(\"datasets/Vending_Machine/corpus_vending_machine_id_4k.json\", \"r\", encoding=\"utf-8\").readlines()]\n",
    "corpus_id_test = [json.loads(l) for l in open(\"datasets/Vending_Machine/corpus_vending_machine_id_4k_test.json\", \"r\", encoding=\"utf-8\").readlines()]\n",
    "corpus_od_test_w_negs = [json.loads(l) for l in open(\"datasets/Vending_Machine/corpus_vending_machine_ood_4k_test.json\", \"r\", encoding=\"utf-8\").readlines()]\n",
    "\n",
    "out_dir_root = f\"{root_out}/Vending_Machine/\"\n",
    "\n",
    "def assert_string(string):\n",
    "    vals = {\"biscuit\": 20,\n",
    "            \"coffee\": 15,\n",
    "            \"soda\": 25}\n",
    "    valid = True\n",
    "    balances = [0]\n",
    "    balance = 0\n",
    "    for e in string.split(\",\"):\n",
    "        if e == \"\":\n",
    "            continue\n",
    "        if e[0] == \"+\":\n",
    "            balance += int(e[1:])\n",
    "            balances.append(balance)\n",
    "        else:\n",
    "            if balance - vals[e] < 0:\n",
    "                return random.choice(balances), False\n",
    "            else:\n",
    "                balance = balance - vals[e]\n",
    "    return balance, True\n",
    "\n",
    "def get_prompt_for_vending_machine(point, use_desc=\"\", max_exemplars=10, shuffle_exemplars=False, is_cot=False):\n",
    "    '''Get the system and user prompts for this problem. \n",
    "    It takes as input a (raw) datapoint (so no labels), and some extra params to make it shiny.\n",
    "    ---\n",
    "    Params:\n",
    "    point (str): your datapoint\n",
    "    use_desc (str, \"\"): the system prompt / description of the task (optional)\n",
    "    max_exemplars (int, 10): number of shots\n",
    "    shuffle_exemplars (False): this shuffles exemplars positionally only. There's another notebook for the other bits.\n",
    "    is_cot (False): do you need a full CoT exemplar?\n",
    "    '''\n",
    "    vals = {\"biscuit\": 20,\n",
    "            \"coffee\": 15,\n",
    "            \"soda\": 25}\n",
    "\n",
    "    def build_cot_exemplar(ex, lab):\n",
    "        is_positive = lab == \"1\"\n",
    "        exemplar = f\"{ex}: \\n\"\n",
    "        balance = 0\n",
    "        balances = []\n",
    "\n",
    "        if type(use_desc) == str:\n",
    "            exemplar += \"Let's think and solve this step-by-step. We start with a balance of 0.\\n\"\n",
    "        else:\n",
    "            exemplar += f\"{' '.join(random.sample(use_desc, k=6))}. {' '.join(random.sample(use_desc, k=7))}.\\n\"            \n",
    "        for e in ex.split(\",\")[:-1]:\n",
    "            if e == \"\":\n",
    "                continue\n",
    "            if type(use_desc) == str:\n",
    "                exemplar += f\"We read \\\"{e}\\\",\"\n",
    "            else:\n",
    "                exemplar += f\"{' '.join(random.sample(use_desc, k=2))} \\\"{e}\\\",\"\n",
    "            if e[0] == \"+\":\n",
    "                balance += int(e[1:])\n",
    "                balances.append(balance)\n",
    "                if type(use_desc) == str:\n",
    "                    exemplar += f\" so we add {e[1:]} to our current balance and we now have {balance}.\\n\"\n",
    "                else:\n",
    "                    exemplar += f\" {' '.join(random.sample(use_desc, k=3))} {e[1:]} {' '.join(random.sample(use_desc, k=8))} {balance}.\\n\"                    \n",
    "            else:\n",
    "                if type(use_desc) == str:\n",
    "                    exemplar += f\" so we return a {e} and substract {vals[e]} from our balance and now we have {balance - vals[e]}.\\n\"\n",
    "                else:\n",
    "                    exemplar += f\" {' '.join(random.sample(use_desc, k=3))} {e} {' '.join(random.sample(use_desc, k=2))} {vals[e]} {' '.join(random.sample(use_desc, k=7))} {balance - vals[e]}.\\n\"\n",
    "                if balance - vals[e] < 0:\n",
    "                    balance = balance - vals[e]\n",
    "                else:\n",
    "                    balance = balance - vals[e]\n",
    "\n",
    "        final_balance = ex.split(\",\")[-1]\n",
    "        if type(use_desc) == str:\n",
    "            base = f\"The machine's balance is {final_balance}\"\n",
    "        else:\n",
    "            base = f\"{' '.join(random.sample(use_desc, k=4))} {final_balance}\"\n",
    "        exemplar += f\"Our final balance is {balance}. {base}. the answer is then {lab}\"\n",
    "        return exemplar\n",
    "\n",
    "    prompt = []\n",
    "    base_prompt = use_desc if type(use_desc) == str else \" \".join(random.sample(use_desc, k=random.randint(15, 40)))\n",
    "    if base_prompt != \"\":\n",
    "         prompt.append({\"role\": \"system\", \"content\": base_prompt})\n",
    "\n",
    "    exemplars = corpus_id[:max_exemplars]\n",
    "    if shuffle_exemplars:\n",
    "        random.shuffle(exemplars)\n",
    "    for i in range(len(exemplars)):\n",
    "        prompt.append({\"role\": \"user\", \"content\": corpus_id[i][\"Entry\"] + \": \"})\n",
    "        ex = str(corpus_id[i][\"Label\"])\n",
    "        if is_cot:\n",
    "            ex = build_cot_exemplar(corpus_id[i][\"Entry\"], str(corpus_id[i][\"Label\"]))\n",
    "        prompt.append({\"role\": \"assistant\", \"content\": ex})\n",
    "    user_str = f\"{point}: \"\n",
    "    prompt.append({\"role\": \"user\", \"content\": user_str})\n",
    "\n",
    "    return prompt\n",
    "\n",
    "\n",
    "def get_prompt_for_vending_machine_with_sum(point, use_desc=\"\", max_exemplars=10, shuffle_exemplars=False, is_cot=False):\n",
    "    '''\n",
    "    Turn vending machine into an arithmetic problem.\n",
    "    Note: we ignore the label on this one and precompute the correct label.\n",
    "    ---\n",
    "    Params:\n",
    "    point (str): your datapoint\n",
    "    use_desc (str, \"\"): the system prompt / description of the task (optional)\n",
    "    max_exemplars (int, 10): number of shots\n",
    "    shuffle_exemplars (False): this shuffles exemplars positionally only. There's another notebook for the other bits.\n",
    "    is_cot (False): do you need a full CoT exemplar?\n",
    "    '''\n",
    "    vals = {\"biscuit\": 20,\n",
    "            \"coffee\": 15,\n",
    "            \"soda\": 25}\n",
    "\n",
    "    def get_label_for(en):\n",
    "        balance = 0\n",
    "        for e in en.split(\",\"):\n",
    "            if e == \"\":\n",
    "                continue\n",
    "            if e[0] == \"+\":\n",
    "                balance += int(e[1:])\n",
    "            else:\n",
    "                balance -= vals[e]\n",
    "        return str(balance)\n",
    "\n",
    "    def build_cot_exemplar(ex, lab):\n",
    "        exemplar = f\"{ex}: \\n\"\n",
    "        balance = 0\n",
    "        balances = []\n",
    "        exemplar += \"Let's think and solve this step-by-step. We start with a balance of 0.\\n\"\n",
    "        for e in ex.split(\",\"):\n",
    "            if e == \"\":\n",
    "                continue\n",
    "            if type(use_desc) == str:\n",
    "                exemplar += f\"We read \\\"{e}\\\",\"\n",
    "            else:\n",
    "                exemplar += f\"{' '.join(random.sample(use_desc, k=2))} \\\"{e}\\\",\"\n",
    "            if e[0] == \"+\":\n",
    "                balance += int(e[1:])\n",
    "                balances.append(balance)\n",
    "                if type(use_desc) == str:\n",
    "                    exemplar += f\" so we add {e[1:]} to our current balance and we now have {balance}.\\n\"\n",
    "                else:\n",
    "                    exemplar += f\" {' '.join(random.sample(use_desc, k=3))} {e[1:]} {' '.join(random.sample(use_desc, k=8))} {balance}.\\n\"\n",
    "            else:\n",
    "                if type(use_desc) == str:\n",
    "                    exemplar += f\" so we return a {e} and substract {vals[e]} from our balance and now we have {balance - vals[e]}.\\n\"\n",
    "                else:\n",
    "                    exemplar += f\" {' '.join(random.sample(use_desc, k=3))} {e} {' '.join(random.sample(use_desc, k=2))} {vals[e]} {' '.join(random.sample(use_desc, k=6))} {balance - vals[e]}.\\n\"\n",
    "                if balance - vals[e] < 0:\n",
    "                    balance = balance - vals[e]\n",
    "                else:\n",
    "                    balance = balance - vals[e]\n",
    "\n",
    "        exemplar += f\"Our final balance is {balance}. The answer is then {balance}\"\n",
    "        return exemplar\n",
    "\n",
    "    prompt = []\n",
    "    base_prompt = use_desc if type(use_desc) == str else \" \".join(random.sample(use_desc, k=random.randint(15, 40)))\n",
    "    if base_prompt != \"\":\n",
    "         prompt.append({\"role\": \"system\", \"content\": base_prompt})\n",
    "    exemplars = corpus_id[:max_exemplars]\n",
    "    if shuffle_exemplars:\n",
    "        random.shuffle(exemplars)\n",
    "    for i in range(len(exemplars)):\n",
    "        entry = corpus_id[i][\"Entry\"]\n",
    "        entry = \",\".join(corpus_id[i][\"Entry\"].split(\",\")[:-1])\n",
    "        prompt.append({\"role\": \"user\", \"content\": f\"{entry}:\"})\n",
    "        ex = get_label_for(entry)\n",
    "        if is_cot:\n",
    "            ex = build_cot_exemplar(entry, ex)\n",
    "        prompt.append({\"role\": \"assistant\", \"content\": ex})\n",
    "\n",
    "    user_str = f\"{point}: \"\n",
    "    prompt.append({\"role\": \"user\", \"content\": user_str})\n",
    "    return prompt\n"
   ]
  },
  {
   "cell_type": "markdown",
   "id": "f977444e-ac96-4b0a-973a-10dcbdc2514b",
   "metadata": {
    "jp-MarkdownHeadingCollapsed": true
   },
   "source": [
    "## Modus Ponens"
   ]
  },
  {
   "cell_type": "code",
   "execution_count": null,
   "id": "a348f0b0-4940-4f59-bb24-0a536679a938",
   "metadata": {
    "scrolled": true
   },
   "outputs": [],
   "source": [
    "problem = \"vending_machine\"\n",
    "suff = \"modus_ponens_vending_machine\"\n",
    "\n",
    "call_and_solve_for(problem=problem, suff=suff, dataset=corpus_id_test, out_dir_root=out_dir_root, shuffle_exemplars=False)\n",
    "call_and_solve_for(problem=problem, suff=suff, dataset=corpus_od_test_w_negs, do_ood=True, out_dir_root=out_dir_root, shuffle_exemplars=False)\n",
    "\n",
    "suff = \"modus_ponens_vending_machine_shuffled\"\n",
    "call_and_solve_for(problem=problem, suff=suff, dataset=corpus_id_test, out_dir_root=out_dir_root, shuffle_exemplars=True)\n",
    "call_and_solve_for(problem=problem, suff=suff, dataset=corpus_od_test_w_negs, do_ood=True, out_dir_root=out_dir_root, shuffle_exemplars=True)"
   ]
  },
  {
   "cell_type": "code",
   "execution_count": null,
   "id": "9387622e-4818-4150-92f4-d648c278ae8e",
   "metadata": {
    "scrolled": true
   },
   "outputs": [],
   "source": [
    "problem = \"vending_machine_with_sum\"\n",
    "suff = \"modus_ponens_vending_machine_sum\"\n",
    "\n",
    "call_and_solve_for(problem=problem, suff=suff, dataset=corpus_id_test, out_dir_root=out_dir_root, shuffle_exemplars=False)\n",
    "call_and_solve_for(problem=problem, suff=suff, dataset=corpus_od_test_w_negs, do_ood=True, out_dir_root=out_dir_root, shuffle_exemplars=False)\n",
    "\n",
    "problem = \"vending_machine_with_sum\"\n",
    "suff = \"modus_ponens_vending_machine_sum_shuffled\"\n",
    "call_and_solve_for(problem=problem, suff=suff, dataset=corpus_id_test, out_dir_root=out_dir_root, shuffle_exemplars=True)\n",
    "call_and_solve_for(problem=problem, suff=suff, dataset=corpus_od_test_w_negs, do_ood=True, out_dir_root=out_dir_root, shuffle_exemplars=True)"
   ]
  },
  {
   "cell_type": "markdown",
   "id": "5a0b87d4-9179-4b20-b15e-162e23839e66",
   "metadata": {
    "editable": true,
    "jp-MarkdownHeadingCollapsed": true,
    "slideshow": {
     "slide_type": ""
    },
    "tags": []
   },
   "source": [
    "## With description"
   ]
  },
  {
   "cell_type": "code",
   "execution_count": null,
   "id": "41235540-2f37-422a-801e-783b6c90ee2c",
   "metadata": {
    "scrolled": true
   },
   "outputs": [],
   "source": [
    "parity_desc = \"This is a vending machine. You are given a sequence of additions of balance (+10, +5, etc) or a selection (soda, biscuit, or coffee). The last number is always the remaining balance.\\n\"\n",
    "parity_desc += \"Your job is to output 1 if the remaining balance is correct given the sequence, or 0 if it is not.\\n\"\n",
    "parity_desc += \"Each soda is worth 25. Each biscuit is 20. Each coffee is 15. When someone selects a soda, biscuit, or coffee, the value of the item is subtracted from the balance.\\n\"\n",
    "\n",
    "parity_desc_zero_shot = parity_desc + \"Give your answer as a single label (0 or 1), and your reasoning in a new line.\\n\"\n",
    "parity_desc_zero_shot += \"For example:\\n+10,+10,biscuit,0:1\\nThe sequence is correct.\\n\\n\"\n",
    "\n",
    "parity_desc += \"Given the data below, determine what is the most likely label for the given string and output ONLY the label.\\n\"\n",
    "parity_desc += \"Data:\\n\\n\"\n",
    "\n",
    "problem = \"vending_machine\"\n",
    "suff = \"w_desc_vending_machine\"\n",
    "\n",
    "call_and_solve_for(problem, suff, corpus_id_test, SHOTS=[0, 2, 5, 10, 20, 50, 100],\n",
    "                   zero_shot_prompt = parity_desc_zero_shot, few_shot_prompt = parity_desc, shuffle_exemplars=False,\n",
    "                   do_ood=False, out_dir_root=out_dir_root, is_cot=False)\n",
    "\n",
    "call_and_solve_for(problem, suff, dataset=corpus_od_test_w_negs, SHOTS=[0, 2, 5, 10, 20, 50, 100],\n",
    "                   zero_shot_prompt = parity_desc_zero_shot, few_shot_prompt = parity_desc, shuffle_exemplars=False,\n",
    "                   do_ood=True, out_dir_root=out_dir_root, is_cot=False)\n",
    "\n",
    "problem = \"vending_machine\"\n",
    "suff = \"w_desc_vending_machine_shuffled\"\n",
    "\n",
    "call_and_solve_for(problem, suff, corpus_id_test, SHOTS=[0, 2, 5, 10, 20, 50, 100],\n",
    "                   zero_shot_prompt = parity_desc_zero_shot, few_shot_prompt = parity_desc, shuffle_exemplars=True,\n",
    "                   do_ood=False, out_dir_root=out_dir_root, is_cot=False)\n",
    "\n",
    "call_and_solve_for(problem, suff, dataset=corpus_od_test_w_negs, SHOTS=[0, 2, 5, 10, 20, 50, 100],\n",
    "                   zero_shot_prompt = parity_desc_zero_shot, few_shot_prompt = parity_desc, shuffle_exemplars=True,\n",
    "                   do_ood=True, out_dir_root=out_dir_root, is_cot=False)"
   ]
  },
  {
   "cell_type": "code",
   "execution_count": null,
   "id": "8242b83b-8c33-44fc-afcd-45a4c3d5156d",
   "metadata": {
    "scrolled": true
   },
   "outputs": [],
   "source": [
    "parity_desc = \"You are a vending machine. You are given a sequence of additions of balance (+10, +5, etc) or a selection (soda, biscuit, or coffee).\\n\"\n",
    "parity_desc += \"Your job is to output the remaining balance given the sequence.\\n\"\n",
    "parity_desc += \"Each soda is worth 25. Each biscuit is 20. Each coffee is 15. When someone selects a soda, biscuit, or coffee, the value of the item is subtracted from the balance.\\n\"\n",
    "\n",
    "parity_desc_zero_shot = parity_desc + \"Give your answer as a single integer, and your reasoning in a new line.\\n\"\n",
    "parity_desc_zero_shot += \"For example:\\n+10,+10,biscuit:0\\nWe had a balance of 20, and biscuits are worth 20, so we are left with zero.\\n\\n\"\n",
    "\n",
    "parity_desc += \"Given the data below, determine what is the most likely balance for the given string and output ONLY the balance.\\n\"\n",
    "parity_desc += \"Data:\\n\\n\"\n",
    "\n",
    "problem = \"vending_machine_with_sum\"\n",
    "suff = \"w_desc_vending_machine_sum\"\n",
    "\n",
    "call_and_solve_for(problem, suff, corpus_id_test, SHOTS=[0, 2, 5, 10, 20, 50, 100],\n",
    "                   zero_shot_prompt = parity_desc_zero_shot, few_shot_prompt = parity_desc, shuffle_exemplars=False,\n",
    "                   do_ood=False, out_dir_root=out_dir_root, is_cot=False)\n",
    "\n",
    "call_and_solve_for(problem, suff, corpus_od_test_w_negs, SHOTS=[0, 2, 5, 10, 20, 50, 100],\n",
    "                   zero_shot_prompt = parity_desc_zero_shot, few_shot_prompt = parity_desc, shuffle_exemplars=False,\n",
    "                   do_ood=True, out_dir_root=out_dir_root, is_cot=False)\n",
    "\n",
    "problem = \"vending_machine_with_sum\"\n",
    "suff = \"w_desc_vending_machine_sum_shuffled\"\n",
    "\n",
    "call_and_solve_for(problem, suff, corpus_id_test, SHOTS=[0, 2, 5, 10, 20, 50, 100],\n",
    "                   zero_shot_prompt = parity_desc_zero_shot, few_shot_prompt = parity_desc, shuffle_exemplars=True,\n",
    "                   do_ood=False, out_dir_root=out_dir_root, is_cot=False)\n",
    "\n",
    "call_and_solve_for(problem, suff, corpus_od_test_w_negs, SHOTS=[0, 2, 5, 10, 20, 50, 100],\n",
    "                   zero_shot_prompt = parity_desc_zero_shot, few_shot_prompt = parity_desc, shuffle_exemplars=True,\n",
    "                   do_ood=True, out_dir_root=out_dir_root, is_cot=False)"
   ]
  },
  {
   "cell_type": "markdown",
   "id": "34d9780d-009a-487d-a9a1-50de2df2b856",
   "metadata": {
    "jp-MarkdownHeadingCollapsed": true
   },
   "source": [
    "## Word Salad"
   ]
  },
  {
   "cell_type": "code",
   "execution_count": null,
   "id": "9a55db37-9a5d-48ac-87dd-6549d978e1f3",
   "metadata": {
    "scrolled": true
   },
   "outputs": [],
   "source": [
    "parity_desc = list(set([l.strip().replace(\".\", \" \") for l in open(\"datasets/words.txt\", \"r\", encoding=\"utf-8\").readlines()[0].split(\" \")]))\n",
    "parity_desc_zero_shot = parity_desc\n",
    "problem = \"vending_machine\"\n",
    "\n",
    "suff = f\"word_salad_{problem}\"\n",
    "\n",
    "call_and_solve_for(problem, suff, corpus_id_test, SHOTS=[0, 2, 5, 10, 20, 50, 100],\n",
    "                   zero_shot_prompt = parity_desc_zero_shot, few_shot_prompt = parity_desc, shuffle_exemplars=False,\n",
    "                   do_ood=False, out_dir_root=out_dir_root, is_cot=False)\n",
    "\n",
    "call_and_solve_for(problem, suff, dataset=corpus_od_test_w_negs, SHOTS=[0, 2, 5, 10, 20, 50, 100],\n",
    "                   zero_shot_prompt = parity_desc_zero_shot, few_shot_prompt = parity_desc, shuffle_exemplars=False,\n",
    "                   do_ood=True, out_dir_root=out_dir_root, is_cot=False)\n",
    "\n",
    "\n",
    "suff = f\"word_salad_{problem}_shuffled\"\n",
    "\n",
    "call_and_solve_for(problem, suff, corpus_id_test, SHOTS=[0, 2, 5, 10, 20, 50, 100],\n",
    "                   zero_shot_prompt = parity_desc_zero_shot, few_shot_prompt = parity_desc, shuffle_exemplars=True,\n",
    "                   do_ood=False, out_dir_root=out_dir_root, is_cot=False)\n",
    "\n",
    "call_and_solve_for(problem, suff, dataset=corpus_od_test_w_negs, SHOTS=[0, 2, 5, 10, 20, 50, 100],\n",
    "                   zero_shot_prompt = parity_desc_zero_shot, few_shot_prompt = parity_desc, shuffle_exemplars=True,\n",
    "                   do_ood=True, out_dir_root=out_dir_root, is_cot=False)"
   ]
  },
  {
   "cell_type": "code",
   "execution_count": null,
   "id": "8d8ec388-af1e-4020-8219-00746a993496",
   "metadata": {
    "scrolled": true
   },
   "outputs": [],
   "source": [
    "parity_desc = list(set([l.strip().replace(\".\", \" \") for l in open(\"datasets/words.txt\", \"r\", encoding=\"utf-8\").readlines()[0].split(\" \")]))\n",
    "parity_desc_zero_shot = parity_desc\n",
    "problem = \"vending_machine_with_sum\"\n",
    "suff = f\"word_salad_{problem}\"\n",
    "\n",
    "call_and_solve_for(problem, suff, corpus_id_test, SHOTS=[0, 2, 5, 10, 20, 50, 100],\n",
    "                   zero_shot_prompt = parity_desc_zero_shot, few_shot_prompt = parity_desc, shuffle_exemplars=False,\n",
    "                   do_ood=False, out_dir_root=out_dir_root, is_cot=False)\n",
    "\n",
    "call_and_solve_for(problem, suff, corpus_od_test_w_negs, SHOTS=[0, 2, 5, 10, 20, 50, 100], #\n",
    "                   zero_shot_prompt = parity_desc_zero_shot, few_shot_prompt = parity_desc, shuffle_exemplars=False,\n",
    "                   do_ood=True, out_dir_root=out_dir_root, is_cot=False)\n",
    "\n",
    "\n",
    "suff = f\"word_salad_{problem}_shuffled\"\n",
    "\n",
    "call_and_solve_for(problem, suff, corpus_id_test, SHOTS=[0, 2, 5, 10, 20, 50, 100],\n",
    "                   zero_shot_prompt = parity_desc_zero_shot, few_shot_prompt = parity_desc, shuffle_exemplars=True,\n",
    "                   do_ood=False, out_dir_root=out_dir_root, is_cot=False)\n",
    "\n",
    "call_and_solve_for(problem, suff, corpus_od_test_w_negs, SHOTS=[0, 2, 5, 10, 20, 50, 100], #\n",
    "                   zero_shot_prompt = parity_desc_zero_shot, few_shot_prompt = parity_desc, shuffle_exemplars=True,\n",
    "                   do_ood=True, out_dir_root=out_dir_root, is_cot=False)"
   ]
  },
  {
   "cell_type": "markdown",
   "id": "b14d0226-73fe-48c2-91fd-af6300880ee3",
   "metadata": {
    "editable": true,
    "slideshow": {
     "slide_type": ""
    },
    "tags": []
   },
   "source": [
    "## CoT"
   ]
  },
  {
   "cell_type": "code",
   "execution_count": null,
   "id": "c859dde8-042f-49d7-8b46-2a63c7fc96e4",
   "metadata": {},
   "outputs": [],
   "source": [
    "parity_desc = \"This is a vending machine. You are given a sequence of additions of balance (+10, +5, etc) or a selection (soda, biscuit, or coffee). The last number is always the remaining balance.\\n\"\n",
    "parity_desc += \"Your job is to output 1 if the remaining balance is correct given the sequence, or 0 if it is not.\\n\"\n",
    "parity_desc += \"Each soda is worth 25. Each biscuit is 20. Each coffee is 15. When someone selects a soda, biscuit, or coffee, the value of the item is subtracted from the balance.\\n\"\n",
    "\n",
    "parity_desc_zero_shot = parity_desc + \"Give your answer as a single label (0 or 1), and your reasoning in a new line.\\n\"\n",
    "parity_desc_zero_shot += \"For example:\\n+10,+10,biscuit,0:1\\nThe sequence is correct.\\n\\n\"\n",
    "\n",
    "parity_desc += \"Given the data below, determine what is the most likely label for the given string and output ONLY the label.\\n\"\n",
    "parity_desc += \"Data:\\n\\n\"\n",
    "\n",
    "problem = \"vending_machine\"\n",
    "\n",
    "llm.update_params({tkey: cot_tokens})\n"
   ]
  },
  {
   "cell_type": "code",
   "execution_count": null,
   "id": "b27b71a0-ee80-4524-816c-8d4531524736",
   "metadata": {
    "scrolled": true
   },
   "outputs": [],
   "source": [
    "suff = f\"CoT_{problem}\"\n",
    "\n",
    "call_and_solve_for(problem, suff, corpus_id_test, SHOTS=[0, 5, 10, 20, 50, 100],\n",
    "                   zero_shot_prompt = parity_desc_zero_shot, few_shot_prompt = parity_desc, shuffle_exemplars=False,\n",
    "                   do_ood=False, out_dir_root=out_dir_root, is_cot=True)\n",
    "\n",
    "call_and_solve_for(problem, suff, corpus_od_test_w_negs, SHOTS=[0, 5, 10, 20, 50, 100], #\n",
    "                   zero_shot_prompt = parity_desc_zero_shot, few_shot_prompt = parity_desc, shuffle_exemplars=False,\n",
    "                   do_ood=True, out_dir_root=out_dir_root, is_cot=True)"
   ]
  },
  {
   "cell_type": "code",
   "execution_count": null,
   "id": "896d9beb-fcaf-4564-ba14-e0d54898aa44",
   "metadata": {
    "scrolled": true
   },
   "outputs": [],
   "source": [
    "suff = f\"CoT_{problem}_shuffled\" #708\n",
    "\n",
    "call_and_solve_for(problem, suff, corpus_id_test, SHOTS=[0, 5, 10, 20, 50, 100],\n",
    "                   zero_shot_prompt = parity_desc_zero_shot, few_shot_prompt = parity_desc, shuffle_exemplars=True,\n",
    "                   do_ood=False, out_dir_root=out_dir_root, is_cot=True)\n",
    "\n",
    "call_and_solve_for(problem, suff, corpus_od_test_w_negs, SHOTS=[0, 5, 10, 20, 50, 100], #965\n",
    "                   zero_shot_prompt = parity_desc_zero_shot, few_shot_prompt = parity_desc, shuffle_exemplars=True,\n",
    "                   do_ood=True, out_dir_root=out_dir_root, is_cot=True)"
   ]
  },
  {
   "cell_type": "code",
   "execution_count": null,
   "id": "301f015f-9d52-444b-8b18-644884ede870",
   "metadata": {},
   "outputs": [],
   "source": [
    "parity_desc = \"You are a vending machine. You are given a sequence of additions of balance (+10, +5, etc) or a selection (soda, biscuit, or coffee).\\n\"\n",
    "parity_desc += \"Your job is to output the remaining balance given the sequence.\\n\"\n",
    "parity_desc += \"Each soda is worth 25. Each biscuit is 20. Each coffee is 15. When someone selects a soda, biscuit, or coffee, the value of the item is subtracted from the balance.\\n\"\n",
    "\n",
    "parity_desc_zero_shot = parity_desc + \"Give your answer as a single integer, and your reasoning in a new line.\\n\"\n",
    "parity_desc_zero_shot += \"For example:\\n+10,+10,biscuit:0\\nWe had a balance of 20, and biscuits are worth 20, so we are left with zero.\\n\\n\"\n",
    "\n",
    "parity_desc += \"Given the data below, determine what is the most likely balance for the given string and output ONLY the balance.\\n\"\n",
    "parity_desc += \"Data:\\n\\n\"\n",
    "\n",
    "llm.update_params({tkey: cot_tokens})\n",
    "\n",
    "problem = \"vending_machine_with_sum\""
   ]
  },
  {
   "cell_type": "code",
   "execution_count": null,
   "id": "fd46264a-3196-4cc2-8a7d-f233fb091853",
   "metadata": {
    "scrolled": true
   },
   "outputs": [],
   "source": [
    "suff = f\"CoT_{problem}\"\n",
    "\n",
    "call_and_solve_for(problem, suff, corpus_id_test, SHOTS=[0, 5, 10, 20, 50, 100],\n",
    "                   zero_shot_prompt = parity_desc_zero_shot, few_shot_prompt = parity_desc, shuffle_exemplars=False,\n",
    "                   do_ood=False, out_dir_root=out_dir_root, is_cot=True) #346\n",
    "\n",
    "call_and_solve_for(problem, suff, corpus_od_test_w_negs, SHOTS=[0, 5, 10, 20, 50, 100],\n",
    "                   zero_shot_prompt = parity_desc_zero_shot, few_shot_prompt = parity_desc, shuffle_exemplars=False,\n",
    "                   do_ood=True, out_dir_root=out_dir_root, is_cot=True)\n",
    "#177"
   ]
  },
  {
   "cell_type": "code",
   "execution_count": null,
   "id": "ba6814f9-1a85-4406-bf14-42526dfcfea2",
   "metadata": {
    "scrolled": true
   },
   "outputs": [],
   "source": [
    "suff = f\"CoT_{problem}_shuffled\"\n",
    "\n",
    "call_and_solve_for(problem, suff, corpus_id_test, SHOTS=[0, 5, 10, 20, 50, 100],\n",
    "                   zero_shot_prompt = parity_desc_zero_shot, few_shot_prompt = parity_desc, shuffle_exemplars=True,\n",
    "                   do_ood=False, out_dir_root=out_dir_root, is_cot=True) #346\n",
    "\n",
    "call_and_solve_for(problem, suff, corpus_od_test_w_negs, SHOTS=[0, 5, 10, 20, 50, 100],\n",
    "                   zero_shot_prompt = parity_desc_zero_shot, few_shot_prompt = parity_desc, shuffle_exemplars=True,\n",
    "                   do_ood=True, out_dir_root=out_dir_root, is_cot=True)\n",
    "#891"
   ]
  },
  {
   "cell_type": "markdown",
   "id": "b8f247f7",
   "metadata": {},
   "source": [
    "## SoT"
   ]
  },
  {
   "cell_type": "code",
   "execution_count": null,
   "id": "288ecc26",
   "metadata": {},
   "outputs": [],
   "source": [
    "parity_desc = list(set([l.strip().replace(\".\", \" \") for l in open(\"datasets/words.txt\", \"r\", encoding=\"utf-8\").readlines()[0].split(\" \")]))\n",
    "parity_desc_zero_shot = parity_desc\n",
    "problem = \"vending_machine\"\n",
    "\n",
    "llm.update_params({tkey: cot_tokens})"
   ]
  },
  {
   "cell_type": "code",
   "execution_count": null,
   "id": "84b930ef",
   "metadata": {},
   "outputs": [],
   "source": [
    "suff = f\"SoT_{problem}\"\n",
    "\n",
    "call_and_solve_for(problem, suff, corpus_id_test, SHOTS=[0, 5, 10, 20, 50, 100],\n",
    "                   zero_shot_prompt = parity_desc_zero_shot, few_shot_prompt = parity_desc, shuffle_exemplars=False,\n",
    "                   do_ood=False, out_dir_root=out_dir_root, is_cot=True)\n",
    "\n",
    "call_and_solve_for(problem, suff, corpus_od_test_w_negs, SHOTS=[0, 5, 10, 20 , 50, 100], #\n",
    "                   zero_shot_prompt = parity_desc_zero_shot, few_shot_prompt = parity_desc, shuffle_exemplars=False,\n",
    "                   do_ood=True, out_dir_root=out_dir_root, is_cot=True)"
   ]
  },
  {
   "cell_type": "code",
   "execution_count": null,
   "id": "08e09d44",
   "metadata": {},
   "outputs": [],
   "source": [
    "suff = f\"SoT_{problem}_shuffled\"\n",
    "\n",
    "call_and_solve_for(problem, suff, corpus_id_test, SHOTS=[0, 5, 10, 20, 50, 100],\n",
    "                   zero_shot_prompt = parity_desc_zero_shot, few_shot_prompt = parity_desc, shuffle_exemplars=True,\n",
    "                   do_ood=False, out_dir_root=out_dir_root, is_cot=True)\n",
    "\n",
    "call_and_solve_for(problem, suff, corpus_od_test_w_negs, SHOTS=[0, 5, 10, 20, 50, 100], #\n",
    "                   zero_shot_prompt = parity_desc_zero_shot, few_shot_prompt = parity_desc, shuffle_exemplars=True,\n",
    "                   do_ood=True, out_dir_root=out_dir_root, is_cot=True)"
   ]
  },
  {
   "cell_type": "code",
   "execution_count": null,
   "id": "38ed42e8",
   "metadata": {},
   "outputs": [],
   "source": [
    "parity_desc = list(set([l.strip().replace(\".\", \" \") for l in open(\"datasets/words.txt\", \"r\", encoding=\"utf-8\").readlines()[0].split(\" \")]))\n",
    "parity_desc_zero_shot = parity_desc\n",
    "\n",
    "llm.update_params({tkey: cot_tokens})\n",
    "\n",
    "problem = \"vending_machine_with_sum\""
   ]
  },
  {
   "cell_type": "code",
   "execution_count": null,
   "id": "27cb2689",
   "metadata": {},
   "outputs": [],
   "source": [
    "suff = f\"SoT_{problem}\"\n",
    "\n",
    "call_and_solve_for(problem, suff, corpus_id_test, SHOTS=[0, 5, 10, 20, 50, 100],\n",
    "                   zero_shot_prompt = parity_desc_zero_shot, few_shot_prompt = parity_desc, shuffle_exemplars=False,\n",
    "                   do_ood=False, out_dir_root=out_dir_root, is_cot=True) #346\n",
    "\n",
    "call_and_solve_for(problem, suff, corpus_od_test_w_negs, SHOTS=[0, 5, 10, 20, 50, 100],\n",
    "                   zero_shot_prompt = parity_desc_zero_shot, few_shot_prompt = parity_desc, shuffle_exemplars=True,\n",
    "                   do_ood=True, out_dir_root=out_dir_root, is_cot=True)\n",
    "#891"
   ]
  },
  {
   "cell_type": "code",
   "execution_count": null,
   "id": "191649c0",
   "metadata": {},
   "outputs": [],
   "source": [
    "suff = f\"SoT_{problem}_shuffled\"\n",
    "\n",
    "call_and_solve_for(problem, suff, corpus_id_test, SHOTS=[0, 5, 10, 20, 50, 100],\n",
    "                   zero_shot_prompt = parity_desc_zero_shot, few_shot_prompt = parity_desc, shuffle_exemplars=True,\n",
    "                   do_ood=False, out_dir_root=out_dir_root, is_cot=True) #346\n",
    "\n",
    "call_and_solve_for(problem, suff, corpus_od_test_w_negs, SHOTS=[0, 5, 10, 20, 50, 100],\n",
    "                   zero_shot_prompt = parity_desc_zero_shot, few_shot_prompt = parity_desc, shuffle_exemplars=True,\n",
    "                   do_ood=True, out_dir_root=out_dir_root, is_cot=True)\n"
   ]
  },
  {
   "cell_type": "markdown",
   "id": "b2ebd364-9157-441b-ad68-16cad7252c30",
   "metadata": {
    "editable": true,
    "slideshow": {
     "slide_type": ""
    },
    "tags": []
   },
   "source": [
    "## Automata"
   ]
  },
  {
   "cell_type": "code",
   "execution_count": null,
   "id": "7e0605fc-5d59-4d14-a0ac-5367c5d1ef82",
   "metadata": {},
   "outputs": [],
   "source": [
    "ecm_str_desc = \"def vending_machine(P, is_neg=False, max_length = 24_000, debug=False):\\n    \\\"\\\"\\\"\\n    Automaton generating strings for the vending machine.\\n    One coffee costs 15. One soda costs 25. One biscuit costs 20.\\n    You have 5 and 10 coins.\\n    This ends with a sequence of items and change (press \\\"change\\\" to end)\\n    This vending machine continues the transactions until someone clicks \\\"end\\\".\\n    \\\"\\\"\\\"\\n    # Transition matrix for the automaton\\n    T = [[None, \\\"+10\\\", None,        \\\"+5\\\", None, None,      \\\"change\\\"], # S0 = 0\\n         [None, None, \\\"+10\\\",        None, \\\"+5\\\", None,      \\\"change\\\"], # S1 = 10\\n         [\\\"biscuit\\\", None, \\\"coffee\\\", None, None, \\\"+5\\\",      \\\"change\\\"], # S2 = 20\\n         [None, None, None,         None, \\\"+10\\\", None,     \\\"change\\\"], # S3 = 5\\n         [\\\"coffee\\\", None,  None,    None, None, \\\"+10\\\",     \\\"change\\\"], # S4 = 15\\n         [\\\"soda\\\", \\\"coffee\\\", None,   \\\"biscuit\\\", None, None,  \\\"change\\\"], # S5 = 25\\n         [None, None, None,         None, None, None,      \\\"change\\\"], # Sf = change\\n        ]\\n\\n    state = \\\"S0\\\"\\n    end_states = [\\\"S0\\\"] if is_neg else [\\\"S6\\\"]\\n    tape = \\\"\\\" # Start with the empty tape \\n    steps = 0\\n\\n    # Transitions _to_ the state in question. \\n    # - weights are handled by P\\n    arr = [0, 1, 2, 3, 4, 5, \\\"f\\\"] \\n    terminate = False\\n\\n    while True:\\n        ix = int(state[-1])\\n        if not terminate:\\n            x = random.choices(arr, weights=P[ix], k=1)[0]\\n        else:\\n            x = \\\"f\\\"\\n        if x == \\\"f\\\":\\n            break\\n\\n        next_state = \\\"S\\\" + str(x)\\n        if debug:\\n            print(f\\\"from S{ix} to {next_state}\\\")\\n        write_to = T[ix][x]\\n        if \\\",\\\" in write_to:\\n            write_to = random.choice(write_to.split(\\\",\\\"))\\n        tape += write_to + \\\",\\\"\\n        if debug:\\n            print(tape)\\n        state = next_state\\n        \\n        steps += 1\\n        if max_length is not None:\\n            if steps >= max_length:\\n                terminate = True\\n    if tape == \\\"\\\":\\n        return None\\n    return tape\"\n",
    "\n",
    "parity_desc = \"This is a vending machine. You are given a sequence of additions of balance (+10, +5, etc) or a selection (soda, biscuit, or coffee). The last number is always the remaining balance.\\n\"\n",
    "parity_desc += \"Your job is to output 1 if the remaining balance is correct given the sequence, or 0 if it is not.\\n\"\n",
    "parity_desc += \"Each soda is worth 25. Each biscuit is 20. Each coffee is 15. When someone selects a soda, biscuit, or coffee, the value of the item is subtracted from the balance.\\n\"\n",
    "\n",
    "parity_desc += \"Here's the code for the vending machine:\\n\\n\"\n",
    "parity_desc += ecm_str_desc\n",
    "parity_desc += \"\\n\\n\"\n",
    "\n",
    "parity_desc_zero_shot = parity_desc + \"Give your answer as a single label (0 or 1), and your reasoning in a new line.\\n\"\n",
    "parity_desc_zero_shot += \"For example:\\n+10,+10,biscuit,0:1\\nThe sequence is correct.\\n\\n\"\n",
    "\n",
    "parity_desc += \"Given the data below, determine what is the most likely label for the given string and output ONLY the label.\\n\"\n",
    "parity_desc += \"Data:\\n\\n\"\n",
    "\n",
    "llm.update_params({tkey: tokens})\n",
    "suff = \"w_automaton_vending_machine\"\n",
    "problem = \"vending_machine\""
   ]
  },
  {
   "cell_type": "code",
   "execution_count": null,
   "id": "3d2150da-c9a5-4a47-9cc9-52fdd8dad6f6",
   "metadata": {
    "scrolled": true
   },
   "outputs": [],
   "source": [
    "call_and_solve_for(problem, suff, corpus_id_test, SHOTS=[0, 2, 5, 10, 20, 50, 100],\n",
    "                   zero_shot_prompt = parity_desc_zero_shot, few_shot_prompt = parity_desc,\n",
    "                   do_ood=False, out_dir_root=out_dir_root, is_cot=False)\n",
    "\n",
    "call_and_solve_for(problem, suff, corpus_od_test_w_negs, SHOTS=[0, 2, 5, 10, 20, 50, 100],\n",
    "                   zero_shot_prompt = parity_desc_zero_shot, few_shot_prompt = parity_desc,\n",
    "                   do_ood=True, out_dir_root=out_dir_root, is_cot=False)"
   ]
  },
  {
   "cell_type": "code",
   "execution_count": null,
   "id": "7d248e93-ec5e-4408-a942-8259e8bcd2c0",
   "metadata": {},
   "outputs": [],
   "source": [
    "suff = \"w_automaton_vending_machine_shuffled\"\n",
    "\n",
    "call_and_solve_for(problem, suff, corpus_id_test, SHOTS=[0, 2, 5, 10, 20, 50, 100],\n",
    "                   zero_shot_prompt = parity_desc_zero_shot, few_shot_prompt = parity_desc, shuffle_exemplars=True,\n",
    "                   do_ood=False, out_dir_root=out_dir_root, is_cot=False)\n",
    "\n",
    "call_and_solve_for(problem, suff, corpus_od_test_w_negs, SHOTS=[0, 2, 5, 10, 20, 50, 100],\n",
    "                   zero_shot_prompt = parity_desc_zero_shot, few_shot_prompt = parity_desc, shuffle_exemplars=True,\n",
    "                   do_ood=True, out_dir_root=out_dir_root, is_cot=False)"
   ]
  },
  {
   "cell_type": "code",
   "execution_count": null,
   "id": "047e177e-faf7-4db0-9199-d73a799fe0cb",
   "metadata": {},
   "outputs": [],
   "source": [
    "ecm_str_desc = \"def vending_machine(P, is_neg=False, max_length = 24_000, debug=False):\\n    \\\"\\\"\\\"\\n    Automaton generating strings for the vending machine.\\n    One coffee costs 15. One soda costs 25. One biscuit costs 20.\\n    You have 5 and 10 coins.\\n    This ends with a sequence of items and change (press \\\"change\\\" to end)\\n    This vending machine continues the transactions until someone clicks \\\"end\\\".\\n    \\\"\\\"\\\"\\n    # Transition matrix for the automaton\\n    T = [[None, \\\"+10\\\", None,        \\\"+5\\\", None, None,      \\\"change\\\"], # S0 = 0\\n         [None, None, \\\"+10\\\",        None, \\\"+5\\\", None,      \\\"change\\\"], # S1 = 10\\n         [\\\"biscuit\\\", None, \\\"coffee\\\", None, None, \\\"+5\\\",      \\\"change\\\"], # S2 = 20\\n         [None, None, None,         None, \\\"+10\\\", None,     \\\"change\\\"], # S3 = 5\\n         [\\\"coffee\\\", None,  None,    None, None, \\\"+10\\\",     \\\"change\\\"], # S4 = 15\\n         [\\\"soda\\\", \\\"coffee\\\", None,   \\\"biscuit\\\", None, None,  \\\"change\\\"], # S5 = 25\\n         [None, None, None,         None, None, None,      \\\"change\\\"], # Sf = change\\n        ]\\n\\n    state = \\\"S0\\\"\\n    end_states = [\\\"S0\\\"] if is_neg else [\\\"S6\\\"]\\n    tape = \\\"\\\" # Start with the empty tape \\n    steps = 0\\n\\n    # Transitions _to_ the state in question. \\n    # - weights are handled by P\\n    arr = [0, 1, 2, 3, 4, 5, \\\"f\\\"] \\n    terminate = False\\n\\n    while True:\\n        ix = int(state[-1])\\n        if not terminate:\\n            x = random.choices(arr, weights=P[ix], k=1)[0]\\n        else:\\n            x = \\\"f\\\"\\n        if x == \\\"f\\\":\\n            break\\n\\n        next_state = \\\"S\\\" + str(x)\\n        if debug:\\n            print(f\\\"from S{ix} to {next_state}\\\")\\n        write_to = T[ix][x]\\n        if \\\",\\\" in write_to:\\n            write_to = random.choice(write_to.split(\\\",\\\"))\\n        tape += write_to + \\\",\\\"\\n        if debug:\\n            print(tape)\\n        state = next_state\\n        \\n        steps += 1\\n        if max_length is not None:\\n            if steps >= max_length:\\n                terminate = True\\n    if tape == \\\"\\\":\\n        return None\\n    return tape\"\n",
    "\n",
    "parity_desc = \"You are a vending machine. You are given a sequence of additions of balance (+10, +5, etc) or a selection (soda, biscuit, or coffee).\\n\"\n",
    "parity_desc += \"Your job is to output the remaining balance given the sequence.\\n\"\n",
    "parity_desc += \"Each soda is worth 25. Each biscuit is 20. Each coffee is 15. When someone selects a soda, biscuit, or coffee, the value of the item is subtracted from the balance.\\n\"\n",
    "\n",
    "parity_desc += \"Here's the code for the vending machine:\\n\\n\"\n",
    "parity_desc += ecm_str_desc\n",
    "parity_desc += \"\\n\\n\"\n",
    "\n",
    "parity_desc_zero_shot = parity_desc + \"Give your answer as a single integer, and your reasoning in a new line.\\n\"\n",
    "parity_desc_zero_shot += \"For example:\\n+10,+10,biscuit:0\\nWe had a balance of 20, and biscuits are worth 20, so we are left with zero.\\n\\n\"\n",
    "\n",
    "parity_desc += \"Given the data below, determine what is the most likely balance for the given string and output ONLY the balance.\\n\"\n",
    "parity_desc += \"Data:\\n\\n\"\n",
    "\n",
    "llm.update_params({tkey: tokens})\n",
    "suff = \"w_automaton_vending_machine_with_sum\""
   ]
  },
  {
   "cell_type": "code",
   "execution_count": null,
   "id": "627c27b4-9a46-4292-ab23-1b8a232a18b6",
   "metadata": {
    "scrolled": true
   },
   "outputs": [],
   "source": [
    "problem = \"vending_machine_with_sum\"\n",
    "suff = \"w_automaton_vending_machine_with_sum\"\n",
    "\n",
    "call_and_solve_for(problem, suff, corpus_id_test, SHOTS=[0, 2, 5, 10, 20, 50, 100],\n",
    "                   zero_shot_prompt = parity_desc_zero_shot, few_shot_prompt = parity_desc, \n",
    "                   do_ood=False, out_dir_root=out_dir_root, is_cot=False)\n",
    "\n",
    "call_and_solve_for(problem, suff, corpus_od_test_w_negs, SHOTS=[0, 2, 5, 10, 20, 50, 100],\n",
    "                   zero_shot_prompt = parity_desc_zero_shot, few_shot_prompt = parity_desc,\n",
    "                   do_ood=True, out_dir_root=out_dir_root, is_cot=False)"
   ]
  },
  {
   "cell_type": "code",
   "execution_count": null,
   "id": "3d3b363c-633b-4255-8c74-7679c868684f",
   "metadata": {
    "scrolled": true
   },
   "outputs": [],
   "source": [
    "problem = \"vending_machine_with_sum\"\n",
    "suff = \"w_automaton_vending_machine_with_sum_shuffled\"\n",
    "\n",
    "call_and_solve_for(problem, suff, corpus_id_test, SHOTS=[0, 2, 5, 10, 20, 50, 100],\n",
    "                   zero_shot_prompt = parity_desc_zero_shot, few_shot_prompt = parity_desc, shuffle_exemplars=True,\n",
    "                   do_ood=False, out_dir_root=out_dir_root, is_cot=False)\n",
    "\n",
    "call_and_solve_for(problem, suff, corpus_od_test_w_negs, SHOTS=[0, 2, 5, 10, 20, 50, 100],\n",
    "                   zero_shot_prompt = parity_desc_zero_shot, few_shot_prompt = parity_desc, shuffle_exemplars=True,\n",
    "                   do_ood=True, out_dir_root=out_dir_root, is_cot=False)"
   ]
  },
  {
   "cell_type": "markdown",
   "id": "3b76405c-e064-422d-8ae1-262e4d12dde4",
   "metadata": {
    "editable": true,
    "slideshow": {
     "slide_type": ""
    },
    "tags": []
   },
   "source": [
    "## APO"
   ]
  },
  {
   "cell_type": "code",
   "execution_count": null,
   "id": "84621164-2c26-431c-a760-b53f6661e0fc",
   "metadata": {
    "scrolled": true
   },
   "outputs": [],
   "source": [
    "parity_desc = \"This is a vending machine. You are given a sequence of additions of balance (+10, +5, etc) or a selection (soda, biscuit, or coffee). The last number is always the remaining balance.\\n\"\n",
    "parity_desc += \"Your job is to output 1 if the remaining balance is correct given the sequence, or 0 if it is not.\\n\"\n",
    "parity_desc += \"Each soda is worth 25. Each biscuit is 20. Each coffee is 15. When someone selects a soda, biscuit, or coffee, the value of the item is subtracted from the balance.\\n\"\n",
    "parity_desc += \"Given the data below, determine what is the most likely label for the given string and output ONLY the label.\\n\"\n",
    "parity_desc += \"Data:\\n\\n\"\n",
    "\n",
    "problem = \"vending_machine\"\n",
    "suff = f\"apo_{problem}\"\n",
    "\n",
    "p_hat_candidates = apo(parity_desc, corpus_id, problem=problem) # Use training for optimisation\n",
    "p_hat = p_hat_candidates[0][0]\n",
    "score = p_hat_candidates[0][-1]\n",
    "\n",
    "with open(f\"{out_dir_root}/apo_prompt_{problem}.json\", \"w\", encoding=\"utf-8\") as f:\n",
    "    f.write(json.dumps({\"Prompt\": p_hat, \"Score\": score, \"InitialPrompt\": parity_desc, \"OtherCandidates\": p_hat_candidates, \"Problem\": problem}, ensure_ascii=False))\n"
   ]
  },
  {
   "cell_type": "code",
   "execution_count": null,
   "id": "1154caa7-0feb-4e2c-953e-d49027c26b16",
   "metadata": {
    "editable": true,
    "scrolled": true,
    "slideshow": {
     "slide_type": ""
    },
    "tags": []
   },
   "outputs": [],
   "source": [
    "problem = \"vending_machine\"\n",
    "suff = f\"apo_{problem}\"\n",
    "\n",
    "p_hat = [json.loads(l) for l in open(f\"{out_dir_root}/apo_prompt_{problem}.json\", \"r\", encoding=\"utf-8\").readlines()][0][\"Prompt\"]\n",
    "llm.update_params({tkey: tokens})\n",
    "\n",
    "# APO is a zero-shot problem, but we'll humour ourselves and try it out with shots anyway.\n",
    "\n",
    "call_and_solve_for(problem, suff, corpus_id_test, SHOTS=[0, 2, 5, 10, 20, 50, 100],\n",
    "                   zero_shot_prompt = p_hat, few_shot_prompt = p_hat,\n",
    "                   do_ood=False, out_dir_root=out_dir_root, is_cot=False)\n",
    "\n",
    "call_and_solve_for(problem, suff, corpus_od_test_w_negs, SHOTS=[0, 2, 5, 10, 20, 50, 100],\n",
    "                   zero_shot_prompt = p_hat, few_shot_prompt = p_hat,\n",
    "                   do_ood=True, out_dir_root=out_dir_root, is_cot=False)\n",
    "\n",
    "suff = f\"apo_{problem}_shuffled\"\n",
    "# APO is a zero-shot problem, but we'll humour ourselves and try it out with shots anyway.\n",
    "call_and_solve_for(problem, suff, corpus_id_test, SHOTS=[0, 2, 5, 10, 20, 50, 100], shuffle_exemplars=True,\n",
    "                   zero_shot_prompt = p_hat, few_shot_prompt = p_hat,\n",
    "                   do_ood=False, out_dir_root=out_dir_root, is_cot=False)\n",
    "\n",
    "call_and_solve_for(problem, suff, corpus_od_test_w_negs, SHOTS=[0, 2, 5, 10, 20, 50, 100], shuffle_exemplars=True,\n",
    "                   zero_shot_prompt = p_hat, few_shot_prompt = p_hat,\n",
    "                   do_ood=True, out_dir_root=out_dir_root, is_cot=False)\n"
   ]
  },
  {
   "cell_type": "code",
   "execution_count": null,
   "id": "ffb6d099-3f35-4c6b-8e78-b02c9db410ce",
   "metadata": {
    "scrolled": true
   },
   "outputs": [],
   "source": [
    "parity_desc = \"You are a vending machine. You are given a sequence of additions of balance (+10, +5, etc) or a selection (soda, biscuit, or coffee).\\n\"\n",
    "parity_desc += \"Your job is to output the remaining balance given the sequence.\\n\"\n",
    "parity_desc += \"Each soda is worth 25. Each biscuit is 20. Each coffee is 15. When someone selects a soda, biscuit, or coffee, the value of the item is subtracted from the balance.\\n\"\n",
    "parity_desc += \"Given the data below, determine what is the most likely balance for the given string and output ONLY the balance.\\n\"\n",
    "parity_desc += \"Data:\\n\\n\"\n",
    "\n",
    "problem = \"vending_machine_with_sum\"\n",
    "suff = f\"apo_{problem}\"\n",
    "\n",
    "p_hat_candidates = apo(parity_desc, corpus_id, problem=problem) # Use training for optimisation\n",
    "p_hat = p_hat_candidates[0][0]\n",
    "score = p_hat_candidates[0][-1]\n",
    "\n",
    "with open(f\"{out_dir_root}/apo_prompt_{problem}.json\", \"w\", encoding=\"utf-8\") as f:\n",
    "    f.write(json.dumps({\"Prompt\": p_hat, \"Score\": score, \"InitialPrompt\": parity_desc, \"OtherCandidates\": p_hat_candidates, \"Problem\": problem}, ensure_ascii=False))"
   ]
  },
  {
   "cell_type": "code",
   "execution_count": null,
   "id": "22223aae-bb4e-457c-9a7f-c2c26157862e",
   "metadata": {
    "editable": true,
    "scrolled": true,
    "slideshow": {
     "slide_type": ""
    },
    "tags": []
   },
   "outputs": [],
   "source": [
    "p_hat = [json.loads(l) for l in open(f\"{out_dir_root}/apo_prompt_{problem}.json\", \"r\", encoding=\"utf-8\").readlines()][0][\"Prompt\"]\n",
    "llm.update_params({tkey: tokens})\n",
    "\n",
    "# APO is a zero-shot problem, but we'll humour ourselves and try it out with shots anyway.\n",
    "call_and_solve_for(problem, suff, corpus_id_test, SHOTS=[0, 2, 5, 10, 20, 50, 100],\n",
    "                   zero_shot_prompt = p_hat, few_shot_prompt = p_hat,\n",
    "                   do_ood=False, out_dir_root=out_dir_root, is_cot=False)\n",
    "\n",
    "call_and_solve_for(problem, suff, corpus_od_test_w_negs, SHOTS=[0, 2, 5, 10, 20, 50, 100],\n",
    "                   zero_shot_prompt = p_hat, few_shot_prompt = p_hat,\n",
    "                   do_ood=True, out_dir_root=out_dir_root, is_cot=False)\n",
    "\n",
    "suff = f\"apo_{problem}_shuffled\"\n",
    "# APO is a zero-shot problem, but we'll humour ourselves and try it out with shots anyway.\n",
    "call_and_solve_for(problem, suff, corpus_id_test, SHOTS=[0, 2, 5, 10, 20, 50, 100],\n",
    "                   zero_shot_prompt = p_hat, few_shot_prompt = p_hat, shuffle_exemplars=True,\n",
    "                   do_ood=False, out_dir_root=out_dir_root, is_cot=False)\n",
    "\n",
    "call_and_solve_for(problem, suff, corpus_od_test_w_negs, SHOTS=[0, 2, 5, 10, 20, 50, 100],\n",
    "                   zero_shot_prompt = p_hat, few_shot_prompt = p_hat, shuffle_exemplars=True,\n",
    "                   do_ood=True, out_dir_root=out_dir_root, is_cot=False)\n"
   ]
  },
  {
   "cell_type": "markdown",
   "id": "f9aa4263-2922-4dbd-8449-1954f7f26f19",
   "metadata": {
    "editable": true,
    "jp-MarkdownHeadingCollapsed": true,
    "slideshow": {
     "slide_type": ""
    },
    "tags": []
   },
   "source": [
    "# Hamiltonian"
   ]
  },
  {
   "cell_type": "markdown",
   "id": "c35deaff-512b-4577-8945-f61b77ac775a",
   "metadata": {},
   "source": [
    "## Shared functions"
   ]
  },
  {
   "cell_type": "code",
   "execution_count": null,
   "id": "f82d07f6-797d-4ffe-92c9-0f7780402d71",
   "metadata": {
    "editable": true,
    "slideshow": {
     "slide_type": ""
    },
    "tags": []
   },
   "outputs": [],
   "source": [
    "corpus_id = [json.loads(l) for l in open(\"datasets/Hamiltonian/corpus_hamiltonian_id_4k.json\", \"r\", encoding=\"utf-8\").readlines()]\n",
    "corpus_id_test = [json.loads(l) for l in open(\"datasets/Hamiltonian/corpus_hamiltonian_id_4k_test.json\", \"r\", encoding=\"utf-8\").readlines()]\n",
    "corpus_od_test_w_negs = [json.loads(l) for l in open(\"datasets/Hamiltonian/corpus_hamiltonian_ood_4k_test.json\", \"r\", encoding=\"utf-8\").readlines()]\n",
    "\n",
    "out_dir_root = f\"{root_out}/Hamiltonian/\"\n",
    "problem = \"hamiltonian\"\n",
    "\n",
    "sample_graph = {'0': ['2', '3'], '1': ['0', '2', '3'], '2': ['0', '3'], '3': ['0']}\n",
    "\n",
    "parity_desc = \"You are a theorem verifier. You are given a directed graph in adjacency matrix form, and a path.\\n\"\n",
    "parity_desc += \"Your job is to output whether the path given is a valid Hamiltonian path (1) or is not (0) for the given graph.\\n\"\n",
    "parity_desc += \"The root will always be the vertex labelled as \\\"0\\\".\\n\"\n",
    "\n",
    "parity_desc_zero_shot = parity_desc + \"Give your answer as a single value (0 or 1), and your reasoning in a new line.\\n\"\n",
    "parity_desc_zero_shot += f\"For example:\\n{sample_graph} | path: 0,2,3,1 : 0\\nThis path is not a Hamiltonian path because there is no path to vertex 1 from 3.\\n\\n\"\n",
    "\n",
    "parity_desc += \"Given the data below, determine whether the given path is a Hamiltonian path for the directed graph (0 or 1) and output ONLY the label.\\n\"\n",
    "parity_desc += \"Data:\\n\\n\"\n",
    "\n",
    "\n",
    "def get_prompt_for_hamiltonian(point, path=None, use_desc=\"\", max_exemplars=10, shuffle_exemplars=False, is_cot=False):\n",
    "    \"\"\" Get the system and user prompts for this problem. \n",
    "    It takes as input a (raw) datapoint (so no labels), and some extra params to make it shiny.\n",
    "    ---\n",
    "    Params:\n",
    "    point (str): your datapoint\n",
    "    use_desc (str, \"\"): the system prompt / description of the task (optional)\n",
    "    max_exemplars (int, 10): number of shots\n",
    "    shuffle_exemplars (False): this shuffles exemplars positionally only. There's another notebook for the other bits.\n",
    "    is_cot (False): do you need a full CoT exemplar?\n",
    "    \"\"\"\n",
    "\n",
    "    def build_cot_exemplar(graph, path, lab):\n",
    "        \n",
    "        exemplar = f\"{graph} | path: {path} : \\n\"\n",
    "        exemplar += \"Let's think and solve this step-by-step. We start at vertex 0.\\n\"\n",
    "        path = path.split(\",\")\n",
    "        _path = set(path)\n",
    "        _graph = set([k for k in graph.keys()])\n",
    "        if type(use_desc) == str:\n",
    "            exemplar += f\"There are {len(path)} vertices in the path, and {len(graph)} vertices in the graph.\\n\"\n",
    "        else:\n",
    "            exemplar += f\"{' '.join(random.sample(use_desc, k=2))} {len(path)}\"\n",
    "            exemplar += f\" {' '.join(random.sample(use_desc, k=5))} {len(graph)} {' '.join(random.sample(use_desc, k=4))}\\n\"\n",
    "\n",
    "        if len(path) != len(graph):\n",
    "            lenn = \"shorter\" if len(path) < len(graph) else \"longer\"\n",
    "            if type(use_desc) == str:\n",
    "                exemplar += f\"The path is {lenn}, so it can't be a Hamiltonian path.\\n\"\n",
    "            else:\n",
    "                exemplar += f\"{' '.join(random.sample(use_desc, k=3))} {lenn} {' '.join(random.sample(use_desc, k=7))}.\"                \n",
    "            exemplar += f\"The answer is then {lab}\"\n",
    "            return exemplar\n",
    "\n",
    "        if type(use_desc) == str:\n",
    "            exemplar += \"Since the path and graph match, we now traverse it.\\n\"\n",
    "        else:\n",
    "            exemplar += f\"{' '.join(random.sample(use_desc, k=10))}.\\n\"\n",
    "\n",
    "        seen = {}\n",
    "        for p_index in range(1, len(path) + 1):\n",
    "            vertex = path[p_index - 1]\n",
    "            if type(use_desc) == str:\n",
    "                exemplar += f\"We are at vertex {vertex} in the path. \"\n",
    "            else:\n",
    "                exemplar += f\"{' '.join(random.sample(use_desc, k=4))} {vertex} {' '.join(random.sample(use_desc, k=3))}.\\n\"\n",
    "            v = graph[str(vertex)]\n",
    "\n",
    "            p = path[p_index] if p_index < len(path) else \"the last vertex\"\n",
    "            if type(use_desc) == str:\n",
    "                exemplar += f\"This vertex has children \\\"{v}\\\", and the next vertex in the path is {p}. \"\n",
    "            else:\n",
    "                exemplar += f\"{' '.join(random.sample(use_desc, k=4))} \\\"{v}\\\", {' '.join(random.sample(use_desc, k=7))} {p}.\\n\"\n",
    "\n",
    "            if p != \"the last vertex\":\n",
    "                if p not in graph:\n",
    "                    if type(use_desc) == str:\n",
    "                        exemplar += f\"The next vertex in the path, {p}, is not in the graph, so this is not a valid path.\\nThe answer is then {lab}.\"\n",
    "                    else:\n",
    "                        exemplar += f\"{' '.join(random.sample(use_desc, k=6))}, {p}, {' '.join(random.sample(use_desc, k=12))}.\\n\"\n",
    "                        exemplar += f\"The answer is then {lab}.\"\n",
    "                    return exemplar\n",
    "                if p in v:\n",
    "                    if type(use_desc) == str:\n",
    "                        exemplar += f\"The vertex is in the children set. \"\n",
    "                    else:\n",
    "                        exemplar += f\"{' '.join(random.sample(use_desc, k=7))}.\\n\"\n",
    "                else:\n",
    "                    if type(use_desc) == str:\n",
    "                        exemplar += f\"The vertex is not in the children set, so this is not a valid path.\\nThe answer is then {lab}.\"\n",
    "                    else:\n",
    "                        exemplar += f\"{' '.join(random.sample(use_desc, k=8))}, {' '.join(random.sample(use_desc, k=7))}.\\n\"\n",
    "                        exemplar += f\"The answer is then {lab}.\"\n",
    "                    return exemplar\n",
    "                if p in seen:\n",
    "                    if type(use_desc) == str:\n",
    "                        exemplar += f\"But we already saw {p}, so this can't be a Hamiltonian path.\\nThe answer is then {lab}.\"\n",
    "                    else:\n",
    "                        exemplar += f\"{' '.join(random.sample(use_desc, k=4))} {p}, {' '.join(random.sample(use_desc, k=7))}.\\n\"\n",
    "                        exemplar += f\"The answer is then {lab}.\"\n",
    "                    return exemplar\n",
    "                else:\n",
    "                    if type(use_desc) == str:\n",
    "                        exemplar += f\"Since we haven't seen it, we continue.\\n\"\n",
    "                    else:\n",
    "                        exemplar += f\"{' '.join(random.sample(use_desc, k=5))}, {' '.join(random.sample(use_desc, k=2))}.\\n\"\n",
    "                    seen[p] = 1\n",
    "\n",
    "        if type(use_desc) == str:\n",
    "            exemplar += f\"We traversed all nodes without repetition.\\nThe answer is then {lab}.\"\n",
    "        else:\n",
    "            exemplar += f\"{' '.join(random.sample(use_desc, k=6))}.\\n\"\n",
    "            exemplar += f\"The answer is then {lab}.\"\n",
    "        return exemplar\n",
    "\n",
    "    prompt = []\n",
    "    base_prompt = use_desc if type(use_desc) == str else \" \".join(random.sample(use_desc, k=random.randint(15, 40)))\n",
    "    if base_prompt != \"\":\n",
    "         prompt.append({\"role\": \"system\", \"content\": base_prompt})\n",
    "    exemplars = corpus_id[:max_exemplars]\n",
    "    if shuffle_exemplars:\n",
    "        random.shuffle(exemplars)\n",
    "    for i in range(max_exemplars):\n",
    "        prompt.append({\"role\": \"user\", \"content\": f\"{corpus_id[i][\"Entry\"]} | path: {corpus_id[i][\"Path\"]}:\"})\n",
    "        ex = str(corpus_id[i][\"Label\"])\n",
    "        if is_cot:\n",
    "            ex = build_cot_exemplar(corpus_id[i][\"Entry\"], corpus_id[i][\"Path\"], str(corpus_id[i][\"Label\"]))\n",
    "        prompt.append({\"role\": \"assistant\", \"content\": ex})\n",
    "    user_str = f\"{point} | path: {path} :\"\n",
    "    prompt.append({\"role\": \"user\", \"content\": user_str})\n",
    "    return prompt\n"
   ]
  },
  {
   "cell_type": "markdown",
   "id": "f934b321-5816-4e49-a24f-b4b43cad08ee",
   "metadata": {
    "jp-MarkdownHeadingCollapsed": true
   },
   "source": [
    "## Modus Ponens"
   ]
  },
  {
   "cell_type": "code",
   "execution_count": null,
   "id": "3d83fb1c-fa7a-4df5-b950-7cb616a3558e",
   "metadata": {
    "scrolled": true
   },
   "outputs": [],
   "source": [
    "suff = f\"modus_ponens_{problem}\"\n",
    "\n",
    "call_and_solve_for(problem=problem, suff=suff, dataset=corpus_id_test, out_dir_root=out_dir_root)\n",
    "call_and_solve_for(problem=problem, suff=suff, dataset=corpus_od_test_w_negs, do_ood=True, out_dir_root=out_dir_root)\n",
    "\n",
    "suff = f\"modus_ponens_{problem}_shuffled\"\n",
    "\n",
    "call_and_solve_for(problem=problem, suff=suff, dataset=corpus_id_test, out_dir_root=out_dir_root, shuffle_exemplars=True)\n",
    "call_and_solve_for(problem=problem, suff=suff, dataset=corpus_od_test_w_negs, do_ood=True, out_dir_root=out_dir_root, shuffle_exemplars=True)"
   ]
  },
  {
   "cell_type": "markdown",
   "id": "e335098c-a9f4-451e-a468-4b16a7caf241",
   "metadata": {
    "jp-MarkdownHeadingCollapsed": true
   },
   "source": [
    "## With description"
   ]
  },
  {
   "cell_type": "code",
   "execution_count": null,
   "id": "76870881-6347-4268-9a00-053867cec0a6",
   "metadata": {
    "editable": true,
    "scrolled": true,
    "slideshow": {
     "slide_type": ""
    },
    "tags": []
   },
   "outputs": [],
   "source": [
    "suff = f\"w_desc_{problem}\"\n",
    "\n",
    "call_and_solve_for(problem, suff, corpus_id_test, SHOTS=[0, 2, 5, 10, 20, 50, 100],\n",
    "                   zero_shot_prompt = parity_desc_zero_shot, few_shot_prompt = parity_desc,\n",
    "                   do_ood=False, out_dir_root=out_dir_root, is_cot=False)\n",
    "\n",
    "call_and_solve_for(problem, suff, corpus_od_test_w_negs, SHOTS=[0, 2, 5, 10, 20, 50, 100],\n",
    "                   zero_shot_prompt = parity_desc_zero_shot, few_shot_prompt = parity_desc,\n",
    "                   do_ood=True, out_dir_root=out_dir_root, is_cot=False)\n",
    "\n",
    "\n",
    "suff = f\"w_desc_{problem}_shuffled\"\n",
    "\n",
    "call_and_solve_for(problem, suff, corpus_id_test, SHOTS=[0, 2, 5, 10, 20, 50, 100],\n",
    "                   zero_shot_prompt = parity_desc_zero_shot, few_shot_prompt = parity_desc, shuffle_exemplars=True,\n",
    "                   do_ood=False, out_dir_root=out_dir_root, is_cot=False)\n",
    "\n",
    "call_and_solve_for(problem, suff, corpus_od_test_w_negs, SHOTS=[0, 2, 5, 10, 20, 50, 100],\n",
    "                   zero_shot_prompt = parity_desc_zero_shot, few_shot_prompt = parity_desc, shuffle_exemplars=True,\n",
    "                   do_ood=True, out_dir_root=out_dir_root, is_cot=False) #866"
   ]
  },
  {
   "cell_type": "markdown",
   "id": "6496ae69-a288-48a0-ac34-321c136e662f",
   "metadata": {
    "jp-MarkdownHeadingCollapsed": true
   },
   "source": [
    "## Word Salad"
   ]
  },
  {
   "cell_type": "code",
   "execution_count": null,
   "id": "d0bca43c-b4e2-4af9-befd-afafd92c0721",
   "metadata": {
    "scrolled": true
   },
   "outputs": [],
   "source": [
    "parity_desc = list(set([l.strip().replace(\".\", \" \") for l in open(\"datasets/words.txt\", \"r\", encoding=\"utf-8\").readlines()[0].split(\" \")]))\n",
    "parity_desc_zero_shot = parity_desc\n",
    "\n",
    "suff = f\"word_salad_{problem}\"\n",
    "\n",
    "call_and_solve_for(problem, suff, corpus_id_test, SHOTS=[0, 2, 5, 10, 20, 50, 100],\n",
    "                   zero_shot_prompt = parity_desc_zero_shot, few_shot_prompt = parity_desc, shuffle_exemplars=False,\n",
    "                   do_ood=False, out_dir_root=out_dir_root, is_cot=False)\n",
    "\n",
    "call_and_solve_for(problem, suff, dataset=corpus_od_test_w_negs, SHOTS=[0, 2, 5, 10, 20, 50, 100],\n",
    "                   zero_shot_prompt = parity_desc_zero_shot, few_shot_prompt = parity_desc, shuffle_exemplars=False,\n",
    "                   do_ood=True, out_dir_root=out_dir_root, is_cot=False)\n",
    "\n",
    "\n",
    "suff = f\"word_salad_{problem}_shuffled\"\n",
    "\n",
    "call_and_solve_for(problem, suff, corpus_id_test, SHOTS=[0, 2, 5, 10, 20, 50, 100],\n",
    "                   zero_shot_prompt = parity_desc_zero_shot, few_shot_prompt = parity_desc, shuffle_exemplars=True,\n",
    "                   do_ood=False, out_dir_root=out_dir_root, is_cot=False)\n",
    "\n",
    "call_and_solve_for(problem, suff, dataset=corpus_od_test_w_negs, SHOTS=[0, 2, 5, 10, 20, 50, 100],\n",
    "                   zero_shot_prompt = parity_desc_zero_shot, few_shot_prompt = parity_desc, shuffle_exemplars=True,\n",
    "                   do_ood=True, out_dir_root=out_dir_root, is_cot=False)"
   ]
  },
  {
   "cell_type": "markdown",
   "id": "f49a16af-45c7-44ce-afc7-a3c365b6ea07",
   "metadata": {},
   "source": [
    "## CoT"
   ]
  },
  {
   "cell_type": "code",
   "execution_count": null,
   "id": "76ee8e34-8d06-45ee-824a-24e19bec3394",
   "metadata": {},
   "outputs": [],
   "source": [
    "parity_desc = \"You are a theorem verifier. You are given a directed graph in adjacency matrix form, and a path.\\n\"\n",
    "parity_desc += \"Your job is to output whether the path given is a valid Hamiltonian path (1) or is not (0) for the given graph.\\n\"\n",
    "parity_desc += \"The root will always be the vertex labelled as \\\"0\\\".\\n\"\n",
    "\n",
    "parity_desc_zero_shot = parity_desc + \"Give your answer as a single value (0 or 1), and your reasoning in a new line.\\n\"\n",
    "parity_desc_zero_shot += f\"For example:\\n{sample_graph} | path: 0,2,3,1 : 0\\nThis path is not a Hamiltonian path because there is no path to vertex 1 from 3.\\n\\n\"\n",
    "\n",
    "parity_desc += \"Given the data below, determine whether the given path is a Hamiltonian path for the directed graph (0 or 1) and output ONLY the label.\\n\"\n",
    "parity_desc += \"Data:\\n\\n\"\n",
    "\n",
    "llm.update_params({tkey: cot_tokens})"
   ]
  },
  {
   "cell_type": "code",
   "execution_count": null,
   "id": "217854fa-3efd-4986-ae27-47ebd92bdbe4",
   "metadata": {
    "scrolled": true
   },
   "outputs": [],
   "source": [
    "suff = f\"CoT_{problem}\"\n",
    "\n",
    "call_and_solve_for(problem, suff, corpus_id_test, SHOTS=[0, 5, 10, 20, 50, 100], \n",
    "                   zero_shot_prompt = parity_desc_zero_shot, few_shot_prompt = parity_desc,\n",
    "                   do_ood=False, out_dir_root=out_dir_root, is_cot=True)\n",
    "\n",
    "call_and_solve_for(problem, suff, corpus_od_test_w_negs, SHOTS=[0, 5, 10, 20, 50, 100],\n",
    "                   zero_shot_prompt = parity_desc_zero_shot, few_shot_prompt = parity_desc,\n",
    "                   do_ood=True, out_dir_root=out_dir_root, is_cot=True)\n"
   ]
  },
  {
   "cell_type": "code",
   "execution_count": null,
   "id": "8d18e377-bcb5-4b84-8f5d-1d13d0cc94a5",
   "metadata": {
    "scrolled": true
   },
   "outputs": [],
   "source": [
    "suff = f\"CoT_{problem}_shuffled\"\n",
    "\n",
    "call_and_solve_for(problem, suff, corpus_id_test, SHOTS=[0, 5, 10, 20, 50, 100], \n",
    "                   zero_shot_prompt = parity_desc_zero_shot, few_shot_prompt = parity_desc, shuffle_exemplars=True,\n",
    "                   do_ood=False, out_dir_root=out_dir_root, is_cot=True)\n",
    "\n",
    "call_and_solve_for(problem, suff, corpus_od_test_w_negs, SHOTS=[0, 5, 10, 20, 50, 100],\n",
    "                   zero_shot_prompt = parity_desc_zero_shot, few_shot_prompt = parity_desc, shuffle_exemplars=True,\n",
    "                   do_ood=True, out_dir_root=out_dir_root, is_cot=True)\n"
   ]
  },
  {
   "cell_type": "markdown",
   "id": "fc2965d1",
   "metadata": {},
   "source": [
    "## Salad-of-Thought"
   ]
  },
  {
   "cell_type": "code",
   "execution_count": null,
   "id": "4b3f4cd8",
   "metadata": {},
   "outputs": [],
   "source": [
    "parity_desc = list(set([l.strip().replace(\".\", \" \") for l in open(\"datasets/words.txt\", \"r\", encoding=\"utf-8\").readlines()[0].split(\" \")]))\n",
    "parity_desc_zero_shot = parity_desc\n",
    "\n",
    "\n",
    "suffix = f\"SoT_{problem}\"\n",
    "llm.update_params({tkey: cot_tokens})\n",
    "\n",
    "call_and_solve_for(problem, suffix, corpus_id_test, SHOTS=[0, 5, 10, 20, 50, 100], #0, \n",
    "                   zero_shot_prompt = parity_desc_zero_shot, few_shot_prompt = parity_desc, shuffle_exemplars=False,\n",
    "                   do_ood=False, out_dir_root=out_dir_root, is_cot=True)\n",
    "\n",
    "call_and_solve_for(problem, suffix, corpus_od_test_w_negs, SHOTS=[0, 5, 10, 20, 50, 100],\n",
    "                   zero_shot_prompt = parity_desc_zero_shot, few_shot_prompt = parity_desc, shuffle_exemplars=False,\n",
    "                   do_ood=True, out_dir_root=out_dir_root, is_cot=True)"
   ]
  },
  {
   "cell_type": "code",
   "execution_count": null,
   "id": "2afe9bd5",
   "metadata": {},
   "outputs": [],
   "source": [
    "parity_desc = list(set([l.strip().replace(\".\", \" \") for l in open(\"datasets/words.txt\", \"r\", encoding=\"utf-8\").readlines()[0].split(\" \")]))\n",
    "parity_desc_zero_shot = parity_desc\n",
    "\n",
    "\n",
    "suffix = f\"SoT_{problem}_shuffled\"\n",
    "llm.update_params({tkey: cot_tokens})\n",
    "\n",
    "call_and_solve_for(problem, suffix, corpus_id_test, SHOTS=[0, 5, 10, 20, 50, 100], #0, \n",
    "                   zero_shot_prompt = parity_desc_zero_shot, few_shot_prompt = parity_desc, shuffle_exemplars=True,\n",
    "                   do_ood=False, out_dir_root=out_dir_root, is_cot=True)\n",
    "\n",
    "call_and_solve_for(problem, suffix, corpus_od_test_w_negs, SHOTS=[0, 5, 10, 20, 50, 100],\n",
    "                   zero_shot_prompt = parity_desc_zero_shot, few_shot_prompt = parity_desc, shuffle_exemplars=True,\n",
    "                   do_ood=True, out_dir_root=out_dir_root, is_cot=True) #689"
   ]
  },
  {
   "cell_type": "markdown",
   "id": "a63ba145-5b06-44e3-93cc-215047ddc487",
   "metadata": {},
   "source": [
    "## Automaton Encoded"
   ]
  },
  {
   "cell_type": "code",
   "execution_count": null,
   "id": "6a0b181e-1452-40fa-b275-0fbb52952b9f",
   "metadata": {
    "editable": true,
    "slideshow": {
     "slide_type": ""
    },
    "tags": []
   },
   "outputs": [],
   "source": [
    "ecm_str_desc = \"def is_acyclic(graph):\\n    in_degree = [0 for _ in graph.keys()]\\n    q = []\\n    for u, edges in graph.items():\\n        for v in edges:\\n            in_degree[int(v)] += 1\\n    for u in graph.keys():\\n        if in_degree[int(u)] == 0:\\n            q.append(u)\\n    \\# BFS traversal\\n    visited = 0\\n    while q:\\n        u = q.pop(0)\\n        visited += 1\\n        for v in graph[u]:\\n            in_degree[int(v)] -= 1\\n            if in_degree[int(v)] == 0:\\n                q.append(v)\\n\\n    return visited == len(graph.keys())\\n\\n\\ndef random_graph(n_vertices, weights=None, fully_connected=False, acyclic=True):\\n    graph = []\\n    vertices = {str(i): [] for i in range(n_vertices)}\\n    these_entities = random.choices(entities, k=n_vertices)\\n\\n    for u in vertices.keys():\\n        if acyclic:\\n            target_sources = [v for v in vertices.keys() if u != v and u not in vertices[v]]\\n        else:\\n            target_sources = [v for v in vertices.keys() if u != v]            \\n        if not fully_connected:\\n            if weights is None:\\n                target_sources = [v for v in target_sources if random.randint(0, 1) == 1]\\n            else:\\n                target_sources = [v for v in target_sources if random.uniform(0, 1) < weights[int(v)]]\\n        vertices[u] = target_sources\\n\\n    if not is_acyclic(vertices):\\n        if acyclic:\\n            return None\\n    \\n    return vertices\\n\\n\\ndef find_hamiltonian_cycle(graph):\\n\\n    def is_safe_to_add(v, pos, path): \\n        if str(v) not in graph[str(path[pos-1])]: \\n            return False\\n        return v not in path \\# if v in path return false\\n\\n    def hamiltonian_cycle_util(path, pos): \\n        if pos == len(graph): \\n            if str(path[0]) in graph[str(path[pos-1])][path[0]]: \\n                return True\\n            else:\\n                return False\\n        for v in range(1, len(graph)): \\n            if is_safe_to_add(v, pos, path): \\n                path[pos] = v \\n                if hamiltonian_cycle_util(path, pos+1):\\n                    return True\\n                path[pos] = -1\\n        return False\\n\\n    path = [-1 for _ in graph.keys()]\\n    path[0] = 0\\n    if not hamiltonian_cycle_util(path, 1): \\n        return None\\n    return [{\\\"Index\\\": i, \\\"Vertex\\\": p} for i, p in enumerate(path)]\\n\"\n",
    "\n",
    "parity_desc = \"You are a theorem verifier. You are given a directed graph in adjacency matrix form, and a path, both generated by the code below.\\n\"\n",
    "parity_desc += \"Your job is to output whether the path given is a valid Hamiltonian path (1) or is not (0) for the given graph.\\n\"\n",
    "parity_desc += \"The root will always be the vertex labelled as \\\"0\\\".\\n\"\n",
    "parity_desc += \"In the limit where the automaton is deterministic, if the number of zeros in the input string is even, the label is always 1. Else, it is 0.\\n\"\n",
    "\n",
    "parity_desc += \"Here's the code:\\n\\n\"\n",
    "parity_desc += ecm_str_desc\n",
    "parity_desc += \"\\n\\n\"\n",
    "\n",
    "parity_desc_zero_shot = parity_desc + \"Give your answer as a single value (0 or 1), and your reasoning in a new line.\\n\"\n",
    "parity_desc_zero_shot += f\"For example:\\n{sample_graph} | path: 0,2,3,1 : 0\\nThis path is not a Hamiltonian path because there is no path to vertex 1 from 3.\\n\\n\"\n",
    "\n",
    "parity_desc += \"Given the data below, determine whether the given path is a Hamiltonian path for the directed graph (0 or 1) and output ONLY the label.\\n\"\n",
    "parity_desc += \"Data:\\n\\n\"\n",
    "\n",
    "\n",
    "suffix = f\"w_automaton_{problem}\"\n",
    "\n",
    "llm.update_params({tkey: tokens})\n",
    "\n",
    "call_and_solve_for(problem, suffix, corpus_id_test, SHOTS=[0, 2, 5, 10, 20, 50, 100],\n",
    "                   zero_shot_prompt = parity_desc_zero_shot, few_shot_prompt = parity_desc, shuffle_exemplars=False,\n",
    "                   do_ood=False, out_dir_root=out_dir_root, is_cot=False)\n",
    "\n",
    "call_and_solve_for(problem, suffix, corpus_od_test_w_negs, SHOTS=[0, 2, 5, 10, 20, 50, 100],\n",
    "                   zero_shot_prompt = parity_desc_zero_shot, few_shot_prompt = parity_desc, shuffle_exemplars=False,\n",
    "                   do_ood=True, out_dir_root=out_dir_root, is_cot=False)\n",
    "#988\n",
    "\n",
    "suffix = f\"w_automaton_{problem}_shuffled\"\n",
    "\n",
    "call_and_solve_for(problem, suffix, corpus_id_test, SHOTS=[0, 2, 5, 10, 20, 50, 100],\n",
    "                   zero_shot_prompt = parity_desc_zero_shot, few_shot_prompt = parity_desc, shuffle_exemplars=True,\n",
    "                   do_ood=False, out_dir_root=out_dir_root, is_cot=False)\n",
    "\n",
    "call_and_solve_for(problem, suffix, corpus_od_test_w_negs, SHOTS=[0, 2, 5, 10, 20, 50, 100],\n",
    "                   zero_shot_prompt = parity_desc_zero_shot, few_shot_prompt = parity_desc, shuffle_exemplars=True,\n",
    "                   do_ood=True, out_dir_root=out_dir_root, is_cot=False)\n",
    "#988"
   ]
  },
  {
   "cell_type": "markdown",
   "id": "30b18822-3882-4b57-a819-85629fea595b",
   "metadata": {},
   "source": [
    "## APO"
   ]
  },
  {
   "cell_type": "code",
   "execution_count": null,
   "id": "ab02ad45-242d-4f55-a178-13bc5ab1c3b9",
   "metadata": {
    "editable": true,
    "scrolled": true,
    "slideshow": {
     "slide_type": ""
    },
    "tags": []
   },
   "outputs": [],
   "source": [
    "parity_desc = \"You are a theorem verifier. You are given a directed graph in adjacency matrix form, and a path.\\n\"\n",
    "parity_desc += \"Your job is to output whether the path given is a valid Hamiltonian path (1) or is not (0) for the given graph.\\n\"\n",
    "parity_desc += \"The root will always be the vertex labelled as \\\"0\\\".\\n\"\n",
    "\n",
    "parity_desc_zero_shot = parity_desc + \"Give your answer as a single value (0 or 1), and your reasoning in a new line.\\n\"\n",
    "parity_desc_zero_shot += f\"For example:\\n{sample_graph} | path: 0,2,3,1 : 0\\nThis path is not a Hamiltonian path because there is no path to vertex 1 from 3.\\n\\n\"\n",
    "\n",
    "parity_desc += \"Given the data below, determine whether the given path is a Hamiltonian path for the directed graph (0 or 1) and output ONLY the label.\\n\"\n",
    "parity_desc += \"Data:\\n\\n\"\n",
    "\n",
    "p_hat_candidates = apo(parity_desc, corpus_id, problem=problem) # Use training for optimisation\n",
    "p_hat = p_hat_candidates[0][0]\n",
    "score = p_hat_candidates[0][-1]\n",
    "\n",
    "with open(f\"{out_dir_root}/apo_prompt_{problem}.json\", \"w\", encoding=\"utf-8\") as f:\n",
    "    f.write(json.dumps({\"Prompt\": p_hat, \"Score\": score, \"InitialPrompt\": parity_desc, \"OtherCandidates\": p_hat_candidates, \"Problem\": problem}, ensure_ascii=False))"
   ]
  },
  {
   "cell_type": "code",
   "execution_count": null,
   "id": "aa7fe680-c4a0-4f3c-9a9d-e6a3c1674e44",
   "metadata": {
    "editable": true,
    "scrolled": true,
    "slideshow": {
     "slide_type": ""
    },
    "tags": []
   },
   "outputs": [],
   "source": [
    "suff = f\"apo_{problem}\"\n",
    "\n",
    "p_hat = [json.loads(l) for l in open(f\"{out_dir_root}/apo_prompt_{problem}.json\", \"r\", encoding=\"utf-8\").readlines()][0][\"Prompt\"]\n",
    "# APO is a zero-shot problem, but we'll humour ourselves and try it out with shots anyway.\n",
    "call_and_solve_for(problem, suff, corpus_id_test, SHOTS=[0, 2, 5, 10, 20, 50, 100],\n",
    "                   zero_shot_prompt = p_hat, few_shot_prompt = p_hat,\n",
    "                   do_ood=False, out_dir_root=out_dir_root, is_cot=False)\n",
    "\n",
    "call_and_solve_for(problem, suff, corpus_od_test_w_negs, SHOTS=[0, 2, 5, 10, 20, 50, 100],\n",
    "                   zero_shot_prompt = p_hat, few_shot_prompt = p_hat,\n",
    "                   do_ood=True, out_dir_root=out_dir_root, is_cot=False)\n"
   ]
  },
  {
   "cell_type": "code",
   "execution_count": null,
   "id": "9e69e50a-2dc9-4f97-8408-eb484dae7c34",
   "metadata": {
    "scrolled": true
   },
   "outputs": [],
   "source": [
    "suff = f\"apo_{problem}_shuffled\"\n",
    "\n",
    "p_hat = [json.loads(l) for l in open(f\"{out_dir_root}/apo_prompt_{problem}.json\", \"r\", encoding=\"utf-8\").readlines()][0][\"Prompt\"]\n",
    "# APO is a zero-shot problem, but we'll humour ourselves and try it out with shots anyway.\n",
    "call_and_solve_for(problem, suff, corpus_id_test, SHOTS=[0, 2, 5, 10, 20, 50, 100], shuffle_exemplars=True,\n",
    "                   zero_shot_prompt = p_hat, few_shot_prompt = p_hat,\n",
    "                   do_ood=False, out_dir_root=out_dir_root, is_cot=False)\n",
    "\n",
    "call_and_solve_for(problem, suff, corpus_od_test_w_negs, SHOTS=[0, 2, 5, 10, 20, 50, 100], shuffle_exemplars=True,\n",
    "                   zero_shot_prompt = p_hat, few_shot_prompt = p_hat,\n",
    "                   do_ood=True, out_dir_root=out_dir_root, is_cot=False)\n"
   ]
  },
  {
   "cell_type": "markdown",
   "id": "1d6b4c21-fdcb-479c-9885-99478e4875c7",
   "metadata": {
    "editable": true,
    "jp-MarkdownHeadingCollapsed": true,
    "slideshow": {
     "slide_type": ""
    },
    "tags": []
   },
   "source": [
    "# Stack"
   ]
  },
  {
   "cell_type": "markdown",
   "id": "b3bb1e7a-cdff-4603-a0b9-7bfefbfe7676",
   "metadata": {},
   "source": [
    "## Shared functions"
   ]
  },
  {
   "cell_type": "code",
   "execution_count": null,
   "id": "ec4c0775-a144-480e-9fd9-b76af3f775a6",
   "metadata": {
    "editable": true,
    "slideshow": {
     "slide_type": ""
    },
    "tags": []
   },
   "outputs": [],
   "source": [
    "corpus_id = [json.loads(l) for l in open(\"datasets/Stack/corpus_stack_id_4k.json\", \"r\", encoding=\"utf-8\").readlines()]\n",
    "corpus_id_test = [json.loads(l) for l in open(\"datasets/Stack/corpus_stack_id_4k_test.json\", \"r\", encoding=\"utf-8\").readlines()]\n",
    "corpus_od_test_w_negs = [json.loads(l) for l in open(\"datasets/Stack/corpus_stack_ood_4k_test.json\", \"r\", encoding=\"utf-8\").readlines()]\n",
    "\n",
    "problem = \"stack\"\n",
    "out_dir_root = f\"{root_out}/Stack/\"\n",
    "\n",
    "\n",
    "def get_prompt_for_stack(point, use_desc=\"\", max_exemplars=10, shuffle_exemplars=False, is_cot=False):\n",
    "    \"\"\" Get the system and user prompts for this problem. \n",
    "    It takes as input a (raw) datapoint (so no labels), and some extra params to make it shiny.\n",
    "    ---\n",
    "    Params:\n",
    "    point (str): your datapoint\n",
    "    use_desc (str, \"\"): the system prompt / description of the task (optional)\n",
    "    max_exemplars (int, 10): number of shots\n",
    "    shuffle_exemplars (False): this shuffles exemplars positionally only. There's another notebook for the other bits.\n",
    "    is_cot (False): do you need a full CoT exemplar?\n",
    "    \"\"\"\n",
    "    def build_cot_exemplar(ex, lab):\n",
    "\n",
    "        initial, sequence, final = ex.split(\"\\n\")\n",
    "        is_correct = str(lab) == \"1\" # Need this for noise\n",
    "        exemplar = \"Let's think and solve this step-by-step. \"\n",
    "        this_string = initial[:]\n",
    "        for state in sequence.split(\",\"):\n",
    "            _this_string = this_string if this_string != \"\" else \"empty\"\n",
    "            if type(use_desc) == str:\n",
    "                exemplar += f\"Our stack is {_this_string}.\\nWe read: \\\"{state}\\\". \"\n",
    "            else:\n",
    "                exemplar += f\"{' '.join(random.sample(use_desc, k=1))} {_this_string}.\\n{' '.join(random.sample(use_desc, k=1))}: \\\"{state}\\\". \"\n",
    "            if state == \"pop\":\n",
    "                if this_string == \"\":\n",
    "                    if type(use_desc) == str:\n",
    "                        exemplar += f\"We have no elements in our string, so we ignore it.\\n\"\n",
    "                    else:\n",
    "                        exemplar += f\"{' '.join(random.sample(use_desc, k=1))}\\n\"\n",
    "                else:\n",
    "                    _this_string = this_string[:-1]\n",
    "                    if this_string[:-1] == \"\":\n",
    "                        _this_string = \"empty\"\n",
    "                    if type(use_desc) == str:\n",
    "                        exemplar += f\"We pop \\\"{this_string[-1]}\\\" and our new stack is {_this_string}.\\n\"\n",
    "                    else:\n",
    "                        exemplar += f\"{' '.join(random.sample(use_desc, k=1))} \\\"{this_string[-1]}\\\" {' '.join(random.sample(use_desc, k=1))} {_this_string}.\\n\"\n",
    "                    this_string = this_string[:-1]\n",
    "            if state == \"push\":\n",
    "                if type(use_desc) == str:\n",
    "                    exemplar += \"We get ready to push to the stack.\\n\"\n",
    "                else:\n",
    "                    exemplar += f\"{' '.join(random.sample(use_desc, k=1))}\\n\"\n",
    "                continue\n",
    "            if state in [\"0\", \"1\"]:\n",
    "                this_string = this_string + state\n",
    "                if type(use_desc) == str:\n",
    "                    exemplar += f\"We push \\\"{state}\\\" to the stack and our new stack is {this_string}.\\n\"\n",
    "                else:\n",
    "                    exemplar += f\"{' '.join(random.sample(use_desc, k=1))} \\\"{state}\\\" {' '.join(random.sample(use_desc, k=1))} {this_string}.\\n\"\n",
    "            if state == \"stop\":\n",
    "                if type(use_desc) == str:\n",
    "                    exemplar += f\"We terminate.\\n\"\n",
    "                else:\n",
    "                    exemplar += f\"{' '.join(random.sample(use_desc, k=1))}\\n\"\n",
    "                break\n",
    "\n",
    "        if this_string == \"\":\n",
    "            this_string = \"empty\"\n",
    "\n",
    "        if type(use_desc) == str:\n",
    "            exemplar += f\"Our final stack is {this_string} and the solution says {final}.\\n\"\n",
    "        else:\n",
    "            exemplar += f\"{' '.join(random.sample(use_desc, k=1))} {this_string} {' '.join(random.sample(use_desc, k=1))} {final}.\\n\"\n",
    "        exemplar += \"So the answer is {}\".format(lab)        \n",
    "        return exemplar\n",
    "\n",
    "    prompt = []\n",
    "    base_prompt = use_desc if type(use_desc) == str else \" \".join(random.sample(use_desc, k=random.randint(15, 40)))\n",
    "    if base_prompt != \"\":\n",
    "         prompt.append({\"role\": \"system\", \"content\": base_prompt})\n",
    "    exemplars = corpus_id[:max_exemplars]\n",
    "    if shuffle_exemplars:\n",
    "        random.shuffle(exemplars)\n",
    "    for i in range(len(exemplars)):\n",
    "        prompt.append({\"role\": \"user\", \"content\": corpus_id[i][\"Entry\"] + \": \"})\n",
    "        ex = str(corpus_id[i][\"Label\"])\n",
    "        if is_cot:\n",
    "            ex = build_cot_exemplar(corpus_id[i][\"Entry\"], str(corpus_id[i][\"Label\"]))\n",
    "        prompt.append({\"role\": \"assistant\", \"content\": ex})\n",
    "    user_str = f\"{point}: \"\n",
    "    prompt.append({\"role\": \"user\", \"content\": user_str})\n",
    "    return prompt\n"
   ]
  },
  {
   "cell_type": "markdown",
   "id": "cd8c7dd8-199f-48c0-86c3-765413585190",
   "metadata": {
    "editable": true,
    "jp-MarkdownHeadingCollapsed": true,
    "slideshow": {
     "slide_type": ""
    },
    "tags": []
   },
   "source": [
    "## Modus ponens"
   ]
  },
  {
   "cell_type": "code",
   "execution_count": null,
   "id": "b583f435-fd29-4975-b851-d17c7c4844f8",
   "metadata": {
    "editable": true,
    "scrolled": true,
    "slideshow": {
     "slide_type": ""
    },
    "tags": []
   },
   "outputs": [],
   "source": [
    "suff = f\"modus_ponens_{problem}\"\n",
    "\n",
    "call_and_solve_for(problem=problem, suff=suff, dataset=corpus_id_test, out_dir_root=out_dir_root, shuffle_exemplars=False)\n",
    "call_and_solve_for(problem=problem, suff=suff, dataset=corpus_od_test_w_negs, do_ood=True, out_dir_root=out_dir_root, shuffle_exemplars=False)"
   ]
  },
  {
   "cell_type": "code",
   "execution_count": null,
   "id": "18caf7fd-3aee-4529-a8e6-1d22a22b425b",
   "metadata": {
    "scrolled": true
   },
   "outputs": [],
   "source": [
    "suff = f\"modus_ponens_{problem}_shuffled\"\n",
    "\n",
    "call_and_solve_for(problem=problem, suff=suff, dataset=corpus_id_test, out_dir_root=out_dir_root, shuffle_exemplars=True)\n",
    "call_and_solve_for(problem=problem, suff=suff, dataset=corpus_od_test_w_negs, do_ood=True, out_dir_root=out_dir_root, shuffle_exemplars=True)"
   ]
  },
  {
   "cell_type": "markdown",
   "id": "0884e193-b0dd-4d5a-82ca-082008b5a2da",
   "metadata": {
    "jp-MarkdownHeadingCollapsed": true
   },
   "source": [
    "## With description"
   ]
  },
  {
   "cell_type": "code",
   "execution_count": null,
   "id": "f1cd80d2-cd2f-4a76-9c38-4d52a6ef55b3",
   "metadata": {
    "scrolled": true
   },
   "outputs": [],
   "source": [
    "parity_desc = \"This is a stack simulator. You will be given (in three lines) an initial state, a sequence of operations, and a final state.\\n\"\n",
    "parity_desc += \"Your job is to determine whether the final state is correct given the initial state and a sequence of operations.\\n\"\n",
    "parity_desc += \"You must always output 0 (incorrect) or 1 (correct).\\n\"\n",
    "parity_desc += \"Pop operations on an empty stack are ignored.\\n\"\n",
    "parity_desc += \"Push is always followed by the symbol that is pushed.\\nThe only allowable symbols are 0 and 1, and the only allowable operations are push, pop, and stop.\\n\"\n",
    "\n",
    "parity_desc_zero_shot = parity_desc + \"Give your answer as a single integer, and your reasoning in a new line.\\n\"\n",
    "parity_desc_zero_shot += \"For example:\\n000\\npush,1,pop,stop,\\n000: 0\\nThe label is correct because pushing and popping the same element returns the original state, which matches the final state.\\n\\n\"\n",
    "\n",
    "parity_desc += \"Given the data below, determine what is the most likely label for the given initial state, sequence of operations, and a final state; and output ONLY the label.\\n\"\n",
    "parity_desc += \"Data:\\n\\n\"\n",
    "\n",
    "suff = f\"w_description_{problem}\"\n",
    "\n",
    "call_and_solve_for(problem, suff=suff, dataset=corpus_id_test, SHOTS=[0, 2, 5, 10, 20, 50, 100],\n",
    "                   zero_shot_prompt = parity_desc_zero_shot, few_shot_prompt = parity_desc, shuffle_exemplars=False,\n",
    "                   do_ood=False, out_dir_root=out_dir_root, is_cot=False)\n",
    "call_and_solve_for(problem, suff=suff, dataset=corpus_od_test_w_negs, SHOTS=[0, 2, 5, 10, 20, 50, 100],\n",
    "                   zero_shot_prompt = parity_desc_zero_shot, few_shot_prompt = parity_desc, shuffle_exemplars=False,\n",
    "                   do_ood=True, out_dir_root=out_dir_root, is_cot=False)\n",
    "\n",
    "suff = f\"w_description_{problem}_shuffled\"\n",
    "\n",
    "call_and_solve_for(problem, suff=suff, dataset=corpus_id_test, SHOTS=[0, 2, 5, 10, 20, 50, 100],\n",
    "                   zero_shot_prompt = parity_desc_zero_shot, few_shot_prompt = parity_desc, shuffle_exemplars=True,\n",
    "                   do_ood=False, out_dir_root=out_dir_root, is_cot=False)\n",
    "call_and_solve_for(problem, suff=suff, dataset=corpus_od_test_w_negs, SHOTS=[0, 2, 5, 10, 20, 50, 100],\n",
    "                   zero_shot_prompt = parity_desc_zero_shot, few_shot_prompt = parity_desc, shuffle_exemplars=True,\n",
    "                   do_ood=True, out_dir_root=out_dir_root, is_cot=False)"
   ]
  },
  {
   "cell_type": "markdown",
   "id": "6110ab23-ade6-465f-9673-bade68784634",
   "metadata": {
    "jp-MarkdownHeadingCollapsed": true
   },
   "source": [
    "## Word Salad"
   ]
  },
  {
   "cell_type": "code",
   "execution_count": null,
   "id": "3e5b317b-5a4c-40c7-b47e-9fda41c272a9",
   "metadata": {
    "scrolled": true
   },
   "outputs": [],
   "source": [
    "parity_desc = list(set([l.strip().replace(\".\", \" \") for l in open(\"datasets/words.txt\", \"r\", encoding=\"utf-8\").readlines()[0].split(\" \")]))\n",
    "parity_desc_zero_shot = parity_desc\n",
    "\n",
    "suff = f\"word_salad_{problem}\"\n",
    "\n",
    "call_and_solve_for(problem, suff=suff, dataset=corpus_id_test, SHOTS=[0, 2, 5, 10, 20, 50, 100],\n",
    "                   zero_shot_prompt = parity_desc_zero_shot, few_shot_prompt = parity_desc, shuffle_exemplars=False,\n",
    "                   do_ood=False, out_dir_root=out_dir_root, is_cot=False)\n",
    "call_and_solve_for(problem, suff=suff, dataset=corpus_od_test_w_negs, SHOTS=[0, 2, 5, 10, 20, 50, 100],\n",
    "                   zero_shot_prompt = parity_desc_zero_shot, few_shot_prompt = parity_desc, shuffle_exemplars=False,\n",
    "                   do_ood=True, out_dir_root=out_dir_root, is_cot=False)\n",
    "\n",
    "\n",
    "suff = f\"word_salad_{problem}_shuffled\"\n",
    "\n",
    "call_and_solve_for(problem, suff=suff, dataset=corpus_id_test, SHOTS=[0, 2, 5, 10, 20, 50, 100],\n",
    "                   zero_shot_prompt = parity_desc_zero_shot, few_shot_prompt = parity_desc, shuffle_exemplars=True,\n",
    "                   do_ood=False, out_dir_root=out_dir_root, is_cot=False)\n",
    "call_and_solve_for(problem, suff=suff, dataset=corpus_od_test_w_negs, SHOTS=[0, 2, 5, 10, 20, 50, 100],\n",
    "                   zero_shot_prompt = parity_desc_zero_shot, few_shot_prompt = parity_desc, shuffle_exemplars=True,\n",
    "                   do_ood=True, out_dir_root=out_dir_root, is_cot=False)\n",
    "#92"
   ]
  },
  {
   "cell_type": "markdown",
   "id": "7ee8e7bd-5989-4fe8-8842-ea9de8e031b5",
   "metadata": {
    "jp-MarkdownHeadingCollapsed": true
   },
   "source": [
    "## CoT"
   ]
  },
  {
   "cell_type": "code",
   "execution_count": null,
   "id": "4b2beecf-0b8f-400d-9fbf-a68200dd8417",
   "metadata": {
    "scrolled": true
   },
   "outputs": [],
   "source": [
    "parity_desc = \"This is a stack simulator. You will be given (in three lines) an initial state, a sequence of operations, and a final state.\\n\"\n",
    "parity_desc += \"Your job is to determine whether the final state is correct given the initial state and a sequence of operations.\\n\"\n",
    "parity_desc += \"You must always output 0 (incorrect) or 1 (correct).\\n\"\n",
    "parity_desc += \"Pop operations on an empty stack are ignored.\\n\"\n",
    "parity_desc += \"Push is always followed by the symbol that is pushed.\\nThe only allowable symbols are 0 and 1, and the only allowable operations are push, pop, and stop.\\n\"\n",
    "\n",
    "parity_desc_zero_shot = parity_desc + \"Give your answer as a single integer, and your reasoning in a new line.\\n\"\n",
    "parity_desc_zero_shot += \"For example:\\n000\\npush,1,pop,stop,\\n000: 0\\nThe label is correct because pushing and popping the same element returns the original state, which matches the final state.\\n\\n\"\n",
    "\n",
    "parity_desc += \"Given the data below, determine what is the most likely label for the given initial state, sequence of operations, and a final state; and output ONLY the label.\\n\"\n",
    "parity_desc += \"Data:\\n\\n\"\n",
    "\n",
    "suffix = f\"CoT_{problem}\"\n",
    "llm.update_params({tkey: cot_tokens})"
   ]
  },
  {
   "cell_type": "code",
   "execution_count": null,
   "id": "ff03c553-ad75-42bc-bb77-3e8dfcaffb9e",
   "metadata": {
    "scrolled": true
   },
   "outputs": [],
   "source": [
    "call_and_solve_for(problem, suffix, corpus_id_test, SHOTS=[0, 5, 10, 20, 50, 100], #0, \n",
    "                   zero_shot_prompt = parity_desc_zero_shot, few_shot_prompt = parity_desc, shuffle_exemplars=False,\n",
    "                   do_ood=False, out_dir_root=out_dir_root, is_cot=True)\n",
    "\n",
    "call_and_solve_for(problem, suffix, corpus_od_test_w_negs, SHOTS=[0, 5, 10, 20, 50, 100],\n",
    "                   zero_shot_prompt = parity_desc_zero_shot, few_shot_prompt = parity_desc, shuffle_exemplars=False,\n",
    "                   do_ood=True, out_dir_root=out_dir_root, is_cot=True)"
   ]
  },
  {
   "cell_type": "code",
   "execution_count": null,
   "id": "840389d6-51c2-4808-9b54-3ef6dff3250d",
   "metadata": {
    "editable": true,
    "scrolled": true,
    "slideshow": {
     "slide_type": ""
    },
    "tags": []
   },
   "outputs": [],
   "source": [
    "suffix = f\"CoT_{problem}_shuffled\"\n",
    "\n",
    "call_and_solve_for(problem, suffix, corpus_id_test, SHOTS=[0, 5, 10, 20, 50, 100], #0, \n",
    "                   zero_shot_prompt = parity_desc_zero_shot, few_shot_prompt = parity_desc, shuffle_exemplars=True,\n",
    "                   do_ood=False, out_dir_root=out_dir_root, is_cot=True)\n",
    "\n",
    "call_and_solve_for(problem, suffix, corpus_od_test_w_negs, SHOTS=[0, 5, 10, 20, 50, 100],\n",
    "                   zero_shot_prompt = parity_desc_zero_shot, few_shot_prompt = parity_desc, shuffle_exemplars=True,\n",
    "                   do_ood=True, out_dir_root=out_dir_root, is_cot=True)"
   ]
  },
  {
   "cell_type": "markdown",
   "id": "ebfcc2c3-3d97-4c70-a3d4-09d484582067",
   "metadata": {
    "jp-MarkdownHeadingCollapsed": true
   },
   "source": [
    "## Salad-of-Thought"
   ]
  },
  {
   "cell_type": "code",
   "execution_count": null,
   "id": "92c830ff-9d2b-4344-856b-c7dd2be7e706",
   "metadata": {
    "scrolled": true
   },
   "outputs": [],
   "source": [
    "parity_desc = list(set([l.strip().replace(\".\", \" \") for l in open(\"datasets/words.txt\", \"r\", encoding=\"utf-8\").readlines()[0].split(\" \")]))\n",
    "parity_desc_zero_shot = parity_desc\n",
    "\n",
    "\n",
    "suffix = f\"SoT_{problem}\"\n",
    "llm.update_params({tkey: cot_tokens})\n",
    "\n",
    "call_and_solve_for(problem, suffix, corpus_id_test, SHOTS=[0, 5, 10, 20, 50, 100], #0, \n",
    "                   zero_shot_prompt = parity_desc_zero_shot, few_shot_prompt = parity_desc, shuffle_exemplars=False,\n",
    "                   do_ood=False, out_dir_root=out_dir_root, is_cot=True)\n",
    "\n",
    "call_and_solve_for(problem, suffix, corpus_od_test_w_negs, SHOTS=[0, 5, 10, 20, 50, 100],\n",
    "                   zero_shot_prompt = parity_desc_zero_shot, few_shot_prompt = parity_desc, shuffle_exemplars=False,\n",
    "                   do_ood=True, out_dir_root=out_dir_root, is_cot=True)"
   ]
  },
  {
   "cell_type": "code",
   "execution_count": null,
   "id": "9faab468-45a9-49bf-9c23-7f05e440b609",
   "metadata": {
    "scrolled": true
   },
   "outputs": [],
   "source": [
    "parity_desc = list(set([l.strip().replace(\".\", \" \") for l in open(\"datasets/words.txt\", \"r\", encoding=\"utf-8\").readlines()[0].split(\" \")]))\n",
    "parity_desc_zero_shot = parity_desc\n",
    "\n",
    "\n",
    "suffix = f\"SoT_{problem}_shuffled\"\n",
    "llm.update_params({tkey: cot_tokens})\n",
    "\n",
    "call_and_solve_for(problem, suffix, corpus_id_test, SHOTS=[0, 5, 10, 20, 50, 100], #0, \n",
    "                   zero_shot_prompt = parity_desc_zero_shot, few_shot_prompt = parity_desc, shuffle_exemplars=True,\n",
    "                   do_ood=False, out_dir_root=out_dir_root, is_cot=True)\n",
    "\n",
    "call_and_solve_for(problem, suffix, corpus_od_test_w_negs, SHOTS=[0, 5, 10, 20, 50, 100],\n",
    "                   zero_shot_prompt = parity_desc_zero_shot, few_shot_prompt = parity_desc, shuffle_exemplars=True,\n",
    "                   do_ood=True, out_dir_root=out_dir_root, is_cot=True)"
   ]
  },
  {
   "cell_type": "markdown",
   "id": "89ae6006-e32f-4e9f-9623-92ae4bb414ca",
   "metadata": {
    "editable": true,
    "jp-MarkdownHeadingCollapsed": true,
    "slideshow": {
     "slide_type": ""
    },
    "tags": []
   },
   "source": [
    "## Automata encoded"
   ]
  },
  {
   "cell_type": "code",
   "execution_count": null,
   "id": "28b418dc-55c6-44b0-9538-82d6f710931b",
   "metadata": {
    "editable": true,
    "scrolled": true,
    "slideshow": {
     "slide_type": ""
    },
    "tags": []
   },
   "outputs": [],
   "source": [
    "ecm_str_desc = \"def pushpop(k, min_seq=None, this_tape=None, probs = [0.25, 0.25, 0.25, 0.5]):\\n    \\\"\\\"\\\"\\n    Probs: [ Pr[push], Pr[pop], Pr[stop], Pr[0] if push ]\\n    So Pr[0] = 1 - Pr[1].\\n    \\\"\\\"\\\"\\n    initial_string = \\\"\\\".join([str(j) for j in random.choices([0, 1], k = k)])\\n    if this_tape is not None:\\n        initial_string = this_tape\\n    _probs = probs[:3]\\n    state_sequences = []\\n    is_stop = False\\n    count = 0\\n    while not is_stop:\\n        next_state = random.choices([\\\"push\\\", \\\"pop\\\", \\\"stop\\\"], weights=_probs, k=1)[0]\\n        count += 1\\n        if next_state != \\\"stop\\\":\\n            state_sequences.append(next_state)\\n            if next_state == \\\"push\\\":\\n                state_sequences.append(random.choices([\\\"0\\\", \\\"1\\\"], \\n                                                      weights=[probs[-1], 1 - probs[-1]], \\n                                                      k=1)[0])\\n        else:\\n            if min_seq is None or min_seq <= count:\\n                is_stop = True\\n                state_sequences.append(next_state)\\n                break\\n\\n    this_string = initial_string[:]\\n    for i in range(len(state_sequences)):\\n        state = state_sequences[i]\\n        if state == \\\"pop\\\":\\n            if this_string == \\\"\\\":\\n                continue\\n            if len(this_string) == 1:\\n                this_string = \\\"\\\"\\n            else:\\n                this_string = this_string[:-1]\\n        if state == \\\"push\\\":\\n            continue\\n        if state in [\\\"0\\\", \\\"1\\\"]:\\n            this_string = this_string + state\\n        if state == \\\"stop\\\":\\n            break\\n\\n    if this_string == \\\"\\\":\\n        this_string = \\\"empty\\\"\\n    return initial_string, state_sequences, this_string\\n\"\n",
    "\n",
    "parity_desc = \"This is a stack push-pop simulator. You will be given (in three lines) an initial state, a sequence of operations, and a final state.\\n\"\n",
    "parity_desc += \"Your job is to determine whether the final state is correct given the initial state and a sequence of operations.\\n\"\n",
    "parity_desc += \"You must always output 0 (incorrect) or 1 (correct).\\n\"\n",
    "parity_desc += \"The stack is simulated by the code shown below.\\n\"\n",
    "parity_desc += \"Pop operations on an empty stack are ignored.\\n\"\n",
    "parity_desc += \"Push is always followed by the symbol that is pushed.\\nThe only allowable symbols are 0 and 1, and the only allowable operations are push, pop, and stop.\\n\"\n",
    "\n",
    "parity_desc += f\"Here's the code:\\n{ecm_str_desc}\\n\"\n",
    "\n",
    "parity_desc_zero_shot = parity_desc + \"Give your answer as a single integer, and your reasoning in a new line.\\n\"\n",
    "parity_desc_zero_shot += \"For example:\\n000\\npush,1,pop,stop,\\n000: 0\\nThe label is correct because pushing and popping the same element returns the original state, which matches the final state.\\n\\n\"\n",
    "\n",
    "parity_desc += \"Given the data below, determine what is the most likely label for the given initial state, sequence of operations, and a final state; and output ONLY the label.\\n\"\n",
    "parity_desc += \"Data:\\n\\n\"\n",
    "\n",
    "suffix = f\"w_automaton_{problem}\"\n",
    "\n",
    "llm.update_params({tkey: tokens})\n",
    "\n",
    "call_and_solve_for(problem, suffix, corpus_id_test, SHOTS=[0, 2, 5, 10, 20, 50, 100],\n",
    "                   zero_shot_prompt = parity_desc_zero_shot, few_shot_prompt = parity_desc, shuffle_exemplars=False,\n",
    "                   do_ood=False, out_dir_root=out_dir_root, is_cot=False)\n",
    "\n",
    "call_and_solve_for(problem, suffix, corpus_od_test_w_negs, SHOTS=[0, 2, 5, 10, 20, 50, 100],\n",
    "                   zero_shot_prompt = parity_desc_zero_shot, few_shot_prompt = parity_desc, shuffle_exemplars=False,\n",
    "                   do_ood=True, out_dir_root=out_dir_root, is_cot=False)\n",
    "#988\n",
    "\n",
    "suffix = f\"w_automaton_{problem}_shuffled\"\n",
    "\n",
    "call_and_solve_for(problem, suffix, corpus_id_test, SHOTS=[0, 2, 5, 10, 20, 50, 100],\n",
    "                   zero_shot_prompt = parity_desc_zero_shot, few_shot_prompt = parity_desc, shuffle_exemplars=True,\n",
    "                   do_ood=False, out_dir_root=out_dir_root, is_cot=False)\n",
    "\n",
    "call_and_solve_for(problem, suffix, corpus_od_test_w_negs, SHOTS=[0, 2, 5, 10, 20, 50, 100],\n",
    "                   zero_shot_prompt = parity_desc_zero_shot, few_shot_prompt = parity_desc, shuffle_exemplars=True,\n",
    "                   do_ood=True, out_dir_root=out_dir_root, is_cot=False)\n",
    "#988"
   ]
  },
  {
   "cell_type": "markdown",
   "id": "b390eff7-5778-49e6-b388-cfd5516913e9",
   "metadata": {
    "editable": true,
    "jp-MarkdownHeadingCollapsed": true,
    "slideshow": {
     "slide_type": ""
    },
    "tags": []
   },
   "source": [
    "## APO"
   ]
  },
  {
   "cell_type": "code",
   "execution_count": null,
   "id": "5d9e4492-42a6-456c-9285-ac505b5a5b8c",
   "metadata": {
    "editable": true,
    "scrolled": true,
    "slideshow": {
     "slide_type": ""
    },
    "tags": []
   },
   "outputs": [],
   "source": [
    "parity_desc = \"This is a stack push-pop simulator. You will be given (in three lines) an initial state, a sequence of operations, and a final state.\\n\"\n",
    "parity_desc += \"Your job is to determine whether the final state is correct given the initial state and a sequence of operations.\\n\"\n",
    "parity_desc += \"You must always output 0 (incorrect) or 1 (correct).\\n\"\n",
    "parity_desc += \"Pop operations on an empty stack are ignored.\\n\"\n",
    "parity_desc += \"Push is always followed by the symbol that is pushed.\\nThe only allowable symbols are 0 and 1, and the only allowable operations are push, pop, and stop.\\n\"\n",
    "\n",
    "parity_desc_zero_shot = parity_desc + \"Give your answer as a single integer, and your reasoning in a new line.\\n\"\n",
    "parity_desc_zero_shot += \"For example:\\n000\\npush,1,pop,stop,\\n000: 0\\nThe label is correct because pushing and popping the same element returns the original state, which matches the final state.\\n\\n\"\n",
    "\n",
    "parity_desc += \"Given the data below, determine what is the most likely label for the given initial state, sequence of operations, and a final state; and output ONLY the label.\\n\"\n",
    "parity_desc += \"Data:\\n\\n\"\n",
    "\n",
    "p_hat_candidates = apo(parity_desc, corpus_id, problem=problem) # Use training for optimisation\n",
    "p_hat = p_hat_candidates[0][0]\n",
    "score = p_hat_candidates[0][-1]\n",
    "\n",
    "with open(f\"{out_dir_root}/apo_prompt_{problem}.json\", \"w\", encoding=\"utf-8\") as f:\n",
    "    f.write(json.dumps({\"Prompt\": p_hat, \"Score\": score, \"InitialPrompt\": parity_desc, \"OtherCandidates\": p_hat_candidates, \"Problem\": problem}, ensure_ascii=False))"
   ]
  },
  {
   "cell_type": "code",
   "execution_count": null,
   "id": "b397f7e3-944d-42ed-9fd4-85652bb0ae07",
   "metadata": {
    "editable": true,
    "scrolled": true,
    "slideshow": {
     "slide_type": ""
    },
    "tags": []
   },
   "outputs": [],
   "source": [
    "suff = f\"apo_{problem}\"\n",
    "\n",
    "p_hat = [json.loads(l) for l in open(f\"{out_dir_root}/apo_prompt_{problem}.json\", \"r\", encoding=\"utf-8\").readlines()][0][\"Prompt\"]\n",
    "# APO is a zero-shot problem, but we'll humour ourselves and try it out with shots anyway.\n",
    "call_and_solve_for(problem, suff, corpus_id_test, SHOTS=[0, 2, 5, 10, 20, 50, 100],\n",
    "                   zero_shot_prompt = p_hat, few_shot_prompt = p_hat,\n",
    "                   do_ood=False, out_dir_root=out_dir_root, is_cot=False)\n",
    "\n",
    "call_and_solve_for(problem, suff, corpus_od_test_w_negs, SHOTS=[0, 2, 5, 10, 20, 50, 100],\n",
    "                   zero_shot_prompt = p_hat, few_shot_prompt = p_hat,\n",
    "                   do_ood=True, out_dir_root=out_dir_root, is_cot=False)\n"
   ]
  },
  {
   "cell_type": "code",
   "execution_count": null,
   "id": "5e7926d8-c542-4f3b-b23c-405ccd6f0094",
   "metadata": {
    "scrolled": true
   },
   "outputs": [],
   "source": [
    "suff = f\"apo_{problem}_shuffled\"\n",
    "\n",
    "p_hat = [json.loads(l) for l in open(f\"{out_dir_root}/apo_prompt_{problem}.json\", \"r\", encoding=\"utf-8\").readlines()][0][\"Prompt\"]\n",
    "# APO is a zero-shot problem, but we'll humour ourselves and try it out with shots anyway.\n",
    "call_and_solve_for(problem, suff, corpus_id_test, SHOTS=[0, 2, 5, 10, 20, 50, 100], shuffle_exemplars=True,\n",
    "                   zero_shot_prompt = p_hat, few_shot_prompt = p_hat,\n",
    "                   do_ood=False, out_dir_root=out_dir_root, is_cot=False)\n",
    "\n",
    "call_and_solve_for(problem, suff, corpus_od_test_w_negs, SHOTS=[0, 2, 5, 10, 20, 50, 100], shuffle_exemplars=True,\n",
    "                   zero_shot_prompt = p_hat, few_shot_prompt = p_hat,\n",
    "                   do_ood=True, out_dir_root=out_dir_root, is_cot=False)\n"
   ]
  },
  {
   "cell_type": "markdown",
   "id": "3fe9e3b5-5932-469c-881d-83582a6ea2c7",
   "metadata": {
    "jp-MarkdownHeadingCollapsed": true
   },
   "source": [
    "# Maze Complete"
   ]
  },
  {
   "cell_type": "markdown",
   "id": "cc29417f-b25c-40ad-adb4-99596698adbc",
   "metadata": {},
   "source": [
    "## Shared functions"
   ]
  },
  {
   "cell_type": "code",
   "execution_count": null,
   "id": "6e9eb3e5-6e7f-4dfe-84b8-c9d6de74e9ac",
   "metadata": {
    "editable": true,
    "slideshow": {
     "slide_type": ""
    },
    "tags": []
   },
   "outputs": [],
   "source": [
    "corpus_id = [json.loads(l) for l in open(\"datasets/MazeComplete/corpus_maze_complete_id_4k.json\", \"r\", encoding=\"utf-8\").readlines()]\n",
    "corpus_id_test = [json.loads(l) for l in open(\"datasets/MazeComplete/corpus_maze_complete_id_4k_test.json\", \"r\", encoding=\"utf-8\").readlines()]\n",
    "corpus_od_test_w_negs = [json.loads(l) for l in open(\"datasets/MazeComplete/corpus_maze_complete_ood_4k_test.json\", \"r\", encoding=\"utf-8\").readlines()]\n",
    "\n",
    "problem = \"maze_complete\"\n",
    "out_dir_root = f\"{root_out}/MazeComplete/\"\n",
    "\n",
    "\n",
    "def get_neighbours(split_string, i, j, c = \" \"):\n",
    "    \"\"\"\n",
    "    Neighbours in a Moore neighbourhood of i,j matching character c\n",
    "    \"\"\"\n",
    "    neighbours, neighbour_positions = [], []\n",
    "    for n, (a, b) in [(\"up\", (i - 1, j)), (\"down\", (i + 1, j)), (\"left\", (i, j - 1)), (\"right\", (i, j + 1))]:\n",
    "        if split_string[a][b] == c:\n",
    "            neighbours.append((a, b))\n",
    "            neighbour_positions.append(n)\n",
    "    return {\"Neighbours\": neighbours, \"Position\": neighbour_positions}\n",
    "\n",
    "\n",
    "def get_prompt_for_maze_complete(point, use_desc=\"\", max_exemplars=10, shuffle_exemplars=False, is_cot=False):\n",
    "    \"\"\" Get the system and user prompts for this problem. \n",
    "    It takes as input a (raw) datapoint (so no labels), and some extra params to make it shiny.\n",
    "    ---\n",
    "    Params:\n",
    "    point (str): your datapoint\n",
    "    use_desc (str, \"\"): the system prompt / description of the task (optional)\n",
    "    max_exemplars (int, 10): number of shots\n",
    "    shuffle_exemplars (False): this shuffles exemplars positionally only. There's another notebook for the other bits.\n",
    "    is_cot (False): do you need a full CoT exemplar?\n",
    "    \"\"\"\n",
    "    def build_cot_exemplar(_ex, lab):\n",
    "        ex = _ex.replace(\"Solved maze:\", \"\").replace(\"Missing moves:\", \"\").strip()\n",
    "        maze_split_string = ex.split(\"\\n\")\n",
    "        answer = maze_split_string[-1]\n",
    "        maze_split_string = maze_split_string[:-1]\n",
    "        line_question = [(ix, s) for ix, s in enumerate(maze_split_string) if \"?\" in s][0]\n",
    "\n",
    "        exemplar = f\"Let's think and solve this step-by-step.\\nWe begin at line 0.\"\n",
    "\n",
    "        line_in_maze_ix, line_question_ix = None, None\n",
    "        for j, maze_line in enumerate(maze_split_string):\n",
    "            contains = \"?\" in maze_line\n",
    "            if type(use_desc) == str:\n",
    "                exemplar += f\"This line {'contains' if contains else 'does not contain'} \\\"?\\\".\\n\"\n",
    "            else:\n",
    "                exemplar += f\"{' '.join(random.sample(use_desc, k=1))} {'contains' if contains else 'does not contain'} \\\"?\\\".\\n\"\n",
    "            if contains:\n",
    "                line_in_maze_ix = j\n",
    "                line_question_ix = maze_line.find(\"?\")\n",
    "                if type(use_desc) == str:\n",
    "                    exemplar += f\"The \\\"?\\\" character is at position {line_question_ix} in the line. We will now perform a search on the neighbours to find the path.\\n\"\n",
    "                else:\n",
    "                    exemplar += f\"{random.choice(use_desc)} \\\"?\\\" {' '.join(random.sample(use_desc, k=1))} {line_in_maze_ix} {' '.join(random.sample(use_desc, k=1))}.\\n\"\n",
    "                break\n",
    "            else:\n",
    "                if type(use_desc) == str:\n",
    "                    exemplar += f\"We move on then to line {j + 1}.\\n\"\n",
    "                else:\n",
    "                    exemplar += f\"{' '.join(random.sample(use_desc, k=6))} {j + 1}.\\n\"\n",
    "\n",
    "        # This is a very lazy DFS algorithm but since we only cover three steps, it is easier this way.\n",
    "        question_mark_neighbours = get_neighbours(maze_split_string, line_in_maze_ix, line_question_ix, c=\" \")\n",
    "        found = False\n",
    "        buffer = []\n",
    "        if type(use_desc) == str:\n",
    "            exemplar += f\"This has neighbours: {question_mark_neighbours['Position']} at {question_mark_neighbours['Neighbours']}.\\n\"\n",
    "        else:\n",
    "            exemplar += f\"{' '.join(random.sample(use_desc, k=1))}: {question_mark_neighbours['Position']} {random.choice(use_desc)} {question_mark_neighbours['Neighbours']}.\\n\"\n",
    "        for neighbours, positions in zip(question_mark_neighbours['Neighbours'], question_mark_neighbours['Position']):\n",
    "            if found: break\n",
    "            ix, iy = neighbours\n",
    "            next_neighbours = get_neighbours(maze_split_string, ix, iy, c=\" \")\n",
    "            buffer = [positions]\n",
    "            if type(use_desc) == str:\n",
    "                exemplar += f\"We select the neighbour at {neighbours} (\\\"{positions}\\\") and add it to our buffer. Our buffer is: {buffer}.\\n\"\n",
    "                exemplar += f\"This has neighbours: {next_neighbours['Position']} at {next_neighbours['Neighbours']}.\\n\"\n",
    "            else:\n",
    "                exemplar += f\"{' '.join(random.sample(use_desc, k=1))} (\\\"{positions}\\\") {' '.join(random.sample(use_desc, k=1))}: {buffer}.\\n\"\n",
    "                exemplar += f\"{' '.join(random.sample(use_desc, k=1))}: {next_neighbours['Position']} {random.choice(use_desc)} {next_neighbours['Neighbours']}.\\n\"\n",
    "            for _neighbours, _positions in zip(next_neighbours['Neighbours'], next_neighbours['Position']):\n",
    "                if found: break\n",
    "                buffer = [positions, _positions]\n",
    "                if type(use_desc) == str:\n",
    "                    exemplar += f\"\\tWe select the neighbour at {_neighbours} (\\\"{_positions}\\\") and add it to our buffer. Our buffer is: {buffer}.\\n\"\n",
    "                else:\n",
    "                    exemplar += f\"\\t{' '.join(random.sample(use_desc, k=1))} {_neighbours} (\\\"{_positions}\\\") {' '.join(random.sample(use_desc, k=2))}: {buffer}.\\n\"\n",
    "                jx, jy = _neighbours\n",
    "                # Check if this one neighbours/connects the path.\n",
    "                last_neighbours = get_neighbours(maze_split_string, jx, jy, c=\"+\")\n",
    "                if type(use_desc) == str:\n",
    "                    exemplar += f\"\\tThis one has the following available neighbours connecting to the path: {last_neighbours['Position']} at {last_neighbours['Neighbours']}.\\n\"\n",
    "                else:\n",
    "                    exemplar += f\"\\t{' '.join(random.sample(use_desc, k=1))}: {last_neighbours['Position']} {random.choice(use_desc)} {last_neighbours['Neighbours']}.\\n\"\n",
    "                if last_neighbours['Neighbours'] != []:\n",
    "                    plus_coordinates = last_neighbours[\"Neighbours\"][0]\n",
    "                    plus_direction = last_neighbours[\"Position\"][0]\n",
    "                    buffer.append(plus_direction)\n",
    "                    if type(use_desc) == str:\n",
    "                        exemplar += f\"\\t\\tThis has a \\\"+\\\" neighbour at {plus_coordinates} (\\\"{plus_direction}\\\"), so it connects to the path.\\n\"\n",
    "                        exemplar += f\"\\t\\tWe add it to our buffer. Our buffer is now {buffer}.\\n\"\n",
    "                    else:\n",
    "                        exemplar += f\"\\t\\t{' '.join(random.sample(use_desc, k=1))} \\\"+\\\" {' '.join(random.sample(use_desc, k=1))} {plus_coordinates} (\\\"{plus_direction}\\\"), {' '.join(random.sample(use_desc, k=1))}.\\n\"\n",
    "                        exemplar += f\"\\t\\t{' '.join(random.sample(use_desc, k=1))} {buffer}.\\n\"\n",
    "                    found = True\n",
    "                    break\n",
    "                else:\n",
    "                    if type(use_desc) == str:\n",
    "                        exemplar += \"\\t\\tIt does not connect to the path, so we remove it from our buffer.\\n\"\n",
    "                    else:\n",
    "                        exemplar += f\"\\t\\t{' '.join(random.sample(use_desc, k=1))}.\\n\"\n",
    "        if type(use_desc) == str:\n",
    "            exemplar += f\"We are done!\\nOur final set of positions is {','.join(buffer)} and the solution says {answer}.\\n\"\n",
    "        else:\n",
    "            exemplar += f\"{' '.join(random.sample(use_desc, k=1))}!\\n{' '.join(random.sample(use_desc, k=1))} {','.join(buffer)} {' '.join(random.sample(use_desc, k=1))} {answer}.\\n\"\n",
    "        exemplar += f\"So the answer is {lab}\"\n",
    "        return exemplar\n",
    "\n",
    "    prompt = []\n",
    "    base_prompt = use_desc if type(use_desc) == str else \" \".join(random.sample(use_desc, k=random.randint(15, 40)))\n",
    "    if base_prompt != \"\":\n",
    "         prompt.append({\"role\": \"system\", \"content\": base_prompt})\n",
    "    exemplars = corpus_id[:max_exemplars]\n",
    "    if shuffle_exemplars:\n",
    "        random.shuffle(exemplars)\n",
    "    for i in range(len(exemplars)):\n",
    "        prompt.append({\"role\": \"user\", \"content\": corpus_id[i][\"Entry\"] + \": \"})\n",
    "        ex = str(corpus_id[i][\"Label\"])\n",
    "        if is_cot:\n",
    "            ex = build_cot_exemplar(corpus_id[i][\"Entry\"], str(corpus_id[i][\"Label\"]))\n",
    "        prompt.append({\"role\": \"assistant\", \"content\": ex})\n",
    "    user_str = f\"{point}: \"\n",
    "    prompt.append({\"role\": \"user\", \"content\": user_str})\n",
    "    return prompt\n"
   ]
  },
  {
   "cell_type": "markdown",
   "id": "6cf0b020-32d5-4273-bafa-8a438131f567",
   "metadata": {
    "editable": true,
    "jp-MarkdownHeadingCollapsed": true,
    "slideshow": {
     "slide_type": ""
    },
    "tags": []
   },
   "source": [
    "## Modus ponens"
   ]
  },
  {
   "cell_type": "code",
   "execution_count": null,
   "id": "1d286cc5-dfdd-4706-b3b4-ee734dabe64b",
   "metadata": {
    "editable": true,
    "scrolled": true,
    "slideshow": {
     "slide_type": ""
    },
    "tags": []
   },
   "outputs": [],
   "source": [
    "suff = f\"modus_ponens_{problem}\"\n",
    "\n",
    "call_and_solve_for(problem=problem, suff=suff, dataset=corpus_id_test, out_dir_root=out_dir_root, shuffle_exemplars=False)\n",
    "call_and_solve_for(problem=problem, suff=suff, dataset=corpus_od_test_w_negs, do_ood=True, out_dir_root=out_dir_root, shuffle_exemplars=False)"
   ]
  },
  {
   "cell_type": "code",
   "execution_count": null,
   "id": "eefd20b5-5235-441e-a33c-74782c2d7d7b",
   "metadata": {
    "scrolled": true
   },
   "outputs": [],
   "source": [
    "suff = f\"modus_ponens_{problem}_shuffled\"\n",
    "\n",
    "call_and_solve_for(problem=problem, suff=suff, dataset=corpus_id_test, out_dir_root=out_dir_root, shuffle_exemplars=True)\n",
    "call_and_solve_for(problem=problem, suff=suff, dataset=corpus_od_test_w_negs, do_ood=True, out_dir_root=out_dir_root, shuffle_exemplars=True)"
   ]
  },
  {
   "cell_type": "markdown",
   "id": "4a8f23c8-d573-40f6-8394-770d2376a7fb",
   "metadata": {
    "jp-MarkdownHeadingCollapsed": true
   },
   "source": [
    "## With description"
   ]
  },
  {
   "cell_type": "code",
   "execution_count": null,
   "id": "bd1f418c-5c9b-4336-ae91-81084f2471e0",
   "metadata": {
    "scrolled": true
   },
   "outputs": [],
   "source": [
    "sample_maze = \"Solved maze:\\n#S##\\n#+##\\n#? #\\n#  #\\n# +#\\n# +E#\\n####\\nMissing moves:\\ndown,right,down\"\n",
    "\n",
    "parity_desc = \"You are helping me complete a maze. You will be given a maze almost solved, and sequence of moves to finish solving it.\\n\"\n",
    "parity_desc += \"Your job is to determine whether the moves are correct and will lead to solving the maze solved.\\n\"\n",
    "parity_desc += \"You must always output 0 (incorrect) or 1 (correct).\\n\"\n",
    "parity_desc += \"The path you must complete is denoted by uninterrupted \\\"+\\\", and your completion starts at \\\"?\\\". Walls are denoted by \\\"#\\\", and the start and end are \\\"S\\\" and \\\"E\\\", respectively.\\n\"\n",
    "parity_desc += \"The first move you must verify is the one connecting the path to \\\"?\\\".\\n\"\n",
    "\n",
    "parity_desc_zero_shot = parity_desc + \"Give your answer as a single integer, and your reasoning in a new line.\\n\"\n",
    "parity_desc_zero_shot += f\"For example:{sample_maze}\\n1\\nThe label is 1 because \\\"?\\\" is above and to the left to the last \\\"+\\\" from the path, so moving down,right,down is the right move to connect the path.\\n\\n\"\n",
    "\n",
    "parity_desc += \"Given the data below, determine what is the most likely label for the given maze and moves; and output ONLY the label.\\n\"\n",
    "parity_desc += \"Data:\\n\\n\"\n",
    "\n",
    "suff = f\"w_description_{problem}\"\n",
    "\n",
    "call_and_solve_for(problem, suff=suff, dataset=corpus_id_test, SHOTS=[0, 2, 5, 10, 20, 50, 100],\n",
    "                   zero_shot_prompt = parity_desc_zero_shot, few_shot_prompt = parity_desc, shuffle_exemplars=False,\n",
    "                   do_ood=False, out_dir_root=out_dir_root, is_cot=False)\n",
    "call_and_solve_for(problem, suff=suff, dataset=corpus_od_test_w_negs, SHOTS=[0, 2, 5, 10, 20, 50, 100],\n",
    "                   zero_shot_prompt = parity_desc_zero_shot, few_shot_prompt = parity_desc, shuffle_exemplars=False,\n",
    "                   do_ood=True, out_dir_root=out_dir_root, is_cot=False)\n",
    "\n",
    "suff = f\"w_description_{problem}_shuffled\"\n",
    "\n",
    "call_and_solve_for(problem, suff=suff, dataset=corpus_id_test, SHOTS=[0, 2, 5, 10, 20, 50, 100],\n",
    "                   zero_shot_prompt = parity_desc_zero_shot, few_shot_prompt = parity_desc, shuffle_exemplars=True,\n",
    "                   do_ood=False, out_dir_root=out_dir_root, is_cot=False)\n",
    "call_and_solve_for(problem, suff=suff, dataset=corpus_od_test_w_negs, SHOTS=[0, 2, 5, 10, 20, 50, 100],\n",
    "                   zero_shot_prompt = parity_desc_zero_shot, few_shot_prompt = parity_desc, shuffle_exemplars=True,\n",
    "                   do_ood=True, out_dir_root=out_dir_root, is_cot=False)"
   ]
  },
  {
   "cell_type": "markdown",
   "id": "30141024-2481-431d-baad-5535c60bd095",
   "metadata": {
    "jp-MarkdownHeadingCollapsed": true
   },
   "source": [
    "## Word Salad"
   ]
  },
  {
   "cell_type": "code",
   "execution_count": null,
   "id": "6a5fb341-b88b-44ea-b1e4-ca06aca2705f",
   "metadata": {
    "scrolled": true
   },
   "outputs": [],
   "source": [
    "parity_desc = list(set([l.strip().replace(\".\", \" \") for l in open(\"datasets/words.txt\", \"r\", encoding=\"utf-8\").readlines()[0].split(\" \")]))\n",
    "parity_desc_zero_shot = parity_desc\n",
    "\n",
    "suff = f\"word_salad_{problem}\"\n",
    "\n",
    "call_and_solve_for(problem, suff=suff, dataset=corpus_id_test, SHOTS=[0, 2, 5, 10, 20, 50, 100],\n",
    "                   zero_shot_prompt = parity_desc_zero_shot, few_shot_prompt = parity_desc, shuffle_exemplars=False,\n",
    "                   do_ood=False, out_dir_root=out_dir_root, is_cot=False)\n",
    "call_and_solve_for(problem, suff=suff, dataset=corpus_od_test_w_negs, SHOTS=[0, 2, 5, 10, 20, 50, 100],\n",
    "                   zero_shot_prompt = parity_desc_zero_shot, few_shot_prompt = parity_desc, shuffle_exemplars=False,\n",
    "                   do_ood=True, out_dir_root=out_dir_root, is_cot=False)\n",
    "\n",
    "\n",
    "suff = f\"word_salad_{problem}_shuffled\"\n",
    "\n",
    "call_and_solve_for(problem, suff=suff, dataset=corpus_id_test, SHOTS=[0, 2, 5, 10, 20, 50, 100],\n",
    "                   zero_shot_prompt = parity_desc_zero_shot, few_shot_prompt = parity_desc, shuffle_exemplars=True,\n",
    "                   do_ood=False, out_dir_root=out_dir_root, is_cot=False)\n",
    "call_and_solve_for(problem, suff=suff, dataset=corpus_od_test_w_negs, SHOTS=[0, 2, 5, 10, 20, 50, 100],\n",
    "                   zero_shot_prompt = parity_desc_zero_shot, few_shot_prompt = parity_desc, shuffle_exemplars=True,\n",
    "                   do_ood=True, out_dir_root=out_dir_root, is_cot=False)\n",
    "#92"
   ]
  },
  {
   "cell_type": "markdown",
   "id": "ffd5945e-215e-4632-a478-088246b53bc2",
   "metadata": {
    "jp-MarkdownHeadingCollapsed": true
   },
   "source": [
    "## CoT"
   ]
  },
  {
   "cell_type": "code",
   "execution_count": null,
   "id": "dad1090f-1e84-46ff-a5ab-ca68a39b6ea4",
   "metadata": {
    "scrolled": true
   },
   "outputs": [],
   "source": [
    "sample_maze = \"Solved maze:\\n#S##\\n#+##\\n#? #\\n#  #\\n# +#\\n# +E#\\n####\\nMissing moves:\\ndown,right,down\"\n",
    "\n",
    "parity_desc = \"You are helping me complete a maze. You will be given a maze almost solved, and sequence of moves to finish solving it.\\n\"\n",
    "parity_desc += \"Your job is to determine whether the moves are correct and will lead to solving the maze solved.\\n\"\n",
    "parity_desc += \"You must always output 0 (incorrect) or 1 (correct).\\n\"\n",
    "parity_desc += \"The path you must complete is denoted by uninterrupted \\\"+\\\", and your completion starts at \\\"?\\\". Walls are denoted by \\\"#\\\", and the start and end are \\\"S\\\" and \\\"E\\\", respectively.\\n\"\n",
    "parity_desc += \"The first move you must verify is the one connecting the path to \\\"?\\\".\\n\"\n",
    "\n",
    "parity_desc_zero_shot = parity_desc + \"Give your answer as a single integer, and your reasoning in a new line.\\n\"\n",
    "parity_desc_zero_shot += f\"For example:{sample_maze}\\n1\\nThe label is 1 because \\\"?\\\" is above and to the left to the last \\\"+\\\" from the path, so moving down,right,down is the right move to connect the path.\\n\\n\"\n",
    "\n",
    "parity_desc += \"Given the data below, determine what is the most likely label for the given maze and moves; and output ONLY the label.\\n\"\n",
    "parity_desc += \"Data:\\n\\n\"\n",
    "\n",
    "suffix = f\"CoT_{problem}\"\n",
    "llm.update_params({tkey: cot_tokens})"
   ]
  },
  {
   "cell_type": "code",
   "execution_count": null,
   "id": "03b4e9e9-4968-48d1-a258-0ce0b3a73af8",
   "metadata": {
    "scrolled": true
   },
   "outputs": [],
   "source": [
    "call_and_solve_for(problem, suffix, corpus_id_test, SHOTS=[0, 5, 10, 20, 50, 100], #0, \n",
    "                   zero_shot_prompt = parity_desc_zero_shot, few_shot_prompt = parity_desc, shuffle_exemplars=False,\n",
    "                   do_ood=False, out_dir_root=out_dir_root, is_cot=True)\n",
    "\n",
    "call_and_solve_for(problem, suffix, corpus_od_test_w_negs, SHOTS=[0, 5, 10, 20, 50, 100],\n",
    "                   zero_shot_prompt = parity_desc_zero_shot, few_shot_prompt = parity_desc, shuffle_exemplars=False,\n",
    "                   do_ood=True, out_dir_root=out_dir_root, is_cot=True) #190"
   ]
  },
  {
   "cell_type": "code",
   "execution_count": null,
   "id": "2b139204-7612-434a-80e4-638309e1c24f",
   "metadata": {
    "editable": true,
    "scrolled": true,
    "slideshow": {
     "slide_type": ""
    },
    "tags": []
   },
   "outputs": [],
   "source": [
    "suffix = f\"CoT_{problem}_shuffled\"\n",
    "\n",
    "call_and_solve_for(problem, suffix, corpus_id_test, SHOTS=[0, 5, 10, 20, 50, 100], #0, \n",
    "                   zero_shot_prompt = parity_desc_zero_shot, few_shot_prompt = parity_desc, shuffle_exemplars=True,\n",
    "                   do_ood=False, out_dir_root=out_dir_root, is_cot=True)\n",
    "\n",
    "call_and_solve_for(problem, suffix, corpus_od_test_w_negs, SHOTS=[0, 5, 10, 20, 50, 100],\n",
    "                   zero_shot_prompt = parity_desc_zero_shot, few_shot_prompt = parity_desc, shuffle_exemplars=True,\n",
    "                   do_ood=True, out_dir_root=out_dir_root, is_cot=True)"
   ]
  },
  {
   "cell_type": "markdown",
   "id": "40c63037-6f85-49bb-8600-00478a93fd24",
   "metadata": {
    "jp-MarkdownHeadingCollapsed": true
   },
   "source": [
    "## Salad-of-Thought"
   ]
  },
  {
   "cell_type": "code",
   "execution_count": null,
   "id": "16bc4449-0614-495e-a767-81b8e0002cef",
   "metadata": {
    "scrolled": true
   },
   "outputs": [],
   "source": [
    "parity_desc = list(set([l.strip().replace(\".\", \" \") for l in open(\"datasets/words.txt\", \"r\", encoding=\"utf-8\").readlines()[0].split(\" \")]))\n",
    "parity_desc_zero_shot = parity_desc\n",
    "\n",
    "\n",
    "suffix = f\"SoT_{problem}\"\n",
    "llm.update_params({tkey: cot_tokens})\n",
    "\n",
    "call_and_solve_for(problem, suffix, corpus_id_test, SHOTS=[0, 5, 10, 20, 50, 100], #0, \n",
    "                   zero_shot_prompt = parity_desc_zero_shot, few_shot_prompt = parity_desc, shuffle_exemplars=False,\n",
    "                   do_ood=False, out_dir_root=out_dir_root, is_cot=True)\n",
    "\n",
    "call_and_solve_for(problem, suffix, corpus_od_test_w_negs, SHOTS=[0, 5, 10, 20, 50, 100],\n",
    "                   zero_shot_prompt = parity_desc_zero_shot, few_shot_prompt = parity_desc, shuffle_exemplars=False,\n",
    "                   do_ood=True, out_dir_root=out_dir_root, is_cot=True)"
   ]
  },
  {
   "cell_type": "code",
   "execution_count": null,
   "id": "a3c882cf-d81c-4c40-8342-7efcd6cfb67d",
   "metadata": {
    "scrolled": true
   },
   "outputs": [],
   "source": [
    "parity_desc = list(set([l.strip().replace(\".\", \" \") for l in open(\"datasets/words.txt\", \"r\", encoding=\"utf-8\").readlines()[0].split(\" \")]))\n",
    "parity_desc_zero_shot = parity_desc\n",
    "\n",
    "\n",
    "suffix = f\"SoT_{problem}_shuffled\"\n",
    "llm.update_params({tkey: cot_tokens})\n",
    "# Last one for this problem\n",
    "call_and_solve_for(problem, suffix, corpus_id_test, SHOTS=[0, 5, 10, 20, 50, 100], #0, \n",
    "                   zero_shot_prompt = parity_desc_zero_shot, few_shot_prompt = parity_desc, shuffle_exemplars=True,\n",
    "                   do_ood=False, out_dir_root=out_dir_root, is_cot=True)\n",
    "\n",
    "call_and_solve_for(problem, suffix, corpus_od_test_w_negs, SHOTS=[0, 5, 10, 20, 50, 100],\n",
    "                   zero_shot_prompt = parity_desc_zero_shot, few_shot_prompt = parity_desc, shuffle_exemplars=True,\n",
    "                   do_ood=True, out_dir_root=out_dir_root, is_cot=True)"
   ]
  },
  {
   "cell_type": "markdown",
   "id": "56fd6a97-b005-415c-b4bb-45f2129172fd",
   "metadata": {
    "editable": true,
    "jp-MarkdownHeadingCollapsed": true,
    "slideshow": {
     "slide_type": ""
    },
    "tags": []
   },
   "source": [
    "## Automata encoded"
   ]
  },
  {
   "cell_type": "code",
   "execution_count": null,
   "id": "ba968924-dffb-43cd-b550-de3dfe8e273d",
   "metadata": {
    "editable": true,
    "scrolled": true,
    "slideshow": {
     "slide_type": ""
    },
    "tags": []
   },
   "outputs": [],
   "source": [
    "ecm_str_desc = \"def get_neighbours(split_string, i, j):\\n    \\\"\\\"\\\"\\n    Neighbours in a Moore neighbourhood of i,j\\n    \\\"\\\"\\\"\\n    neighbours = []\\n    for a, b in [(i - 1, j), (i + 1, j), (i, j - 1), (i, j + 1)]:\\n        if split_string[a][b] == \\\"+\\\":\\n            neighbours.append((a, b))\\n    return neighbours\\n\\n\\ndef add_noise(maze, solved_maze_string, ceilings, debug=False):\\n    split_string = solved_maze_string.split(\\\"\\n\\\")\\n    \\n    c = Counter()\\n    solns = maze.solutions[0]\\n    positions = {r[0]: [] for r in solns}\\n    for r in solns:\\n        row, position = r\\n        c[row] += 1\\n        positions[row].append(position)\\n    \\n    ins = lambda s, i: s[:i] + \\\" \\\" + s[i + 1:]\\n    ins2 = lambda s, i: s[:i] + \\\"?\\\" + s[i + 1:]\\n    \\n    ix = random.choice([k for k in positions.keys() if k > ceilings[0] and k < ceilings[1]])\\n    point = random.choice(positions[ix])\\n    new_split_string = [s for s in split_string]\\n    answer = \\\"\\\"\\n    \\n    neighbours = get_neighbours(split_string, ix, point)\\n    i, j = random.choice(neighbours)\\n\\n    iy, jy = 0, 0\\n    if i == ix:\\n        if j == point - 1:\\n            new_split_string[i] = ins2(split_string[i], j)\\n            new_split_string[ix] = ins(new_split_string[ix], point)\\n            neighbours_2 = get_neighbours(new_split_string, ix, point)\\n            iy, jy = ix, point\\n        else: #j == point + 1:\\n            new_split_string[i] = ins(split_string[i], j)\\n            new_split_string[ix] = ins2(new_split_string[ix], point)\\n            neighbours_2 = get_neighbours(new_split_string, i, j)\\n            iy, jy = i, j\\n        answer = \\\"right,right\\\"\\n    elif i == ix - 1: #j == point (moore)\\n            new_split_string[i] = ins2(split_string[i], j)\\n            new_split_string[ix] = ins(new_split_string[ix], point)\\n            neighbours_2 = get_neighbours(new_split_string, ix, point)\\n            iy, jy = ix, point\\n            answer = \\\"down,down\\\"\\n    elif i == ix + 1: #j == point:\\n            new_split_string[i] = ins(split_string[i], j)\\n            new_split_string[ix] = ins2(new_split_string[ix], point)\\n            neighbours_2 = get_neighbours(new_split_string, i, j)\\n            iy, jy = i, j\\n            answer = \\\"down,down\\\"\\n\\n    i, j  = random.choice(neighbours_2)\\n\\n    if i == iy:\\n        if j == jy - 1:\\n            new_split_string[i] = ins(new_split_string[i], j)\\n            new_split_string[iy] = ins(new_split_string[iy], jy)\\n        else: #j == point + 1:\\n            new_split_string[i] = ins(new_split_string[i], j)\\n            new_split_string[iy] = ins(new_split_string[iy], jy)\\n        answer += \\\",right\\\"\\n    elif i == iy - 1: #j == point (moore)\\n            new_split_string[i] = ins(new_split_string[i], j)\\n            new_split_string[iy] = ins(new_split_string[iy], jy)\\n            answer += \\\",down\\\"\\n    elif i == iy + 1: #j == point:\\n            new_split_string[i] = ins(new_split_string[i], j)\\n            new_split_string[iy] = ins(new_split_string[iy], jy)\\n            answer += \\\",down\\\"\\n    \\n    final_string = \\\"\\n\\\".join(new_split_string)\\n    return final_string, answer\\n\\n\"\n",
    "sample_maze = \"Solved maze:\\n#S##\\n#+##\\n#? #\\n#  #\\n# +#\\n# +E#\\n####\\nMissing moves:\\ndown,right,down\"\n",
    "\n",
    "parity_desc = \"You are helping me complete a maze. You will be given a maze almost solved, and sequence of moves to finish solving it, along with code to determine what are the positions of the neighbours.\\n\"\n",
    "parity_desc += \"Your job is to determine whether the moves are correct and will lead to solving the maze solved.\\n\"\n",
    "parity_desc += \"You must always output 0 (incorrect) or 1 (correct).\\n\"\n",
    "parity_desc += \"The path you must complete is denoted by uninterrupted \\\"+\\\", and your completion starts at \\\"?\\\". Walls are denoted by \\\"#\\\", and the start and end are \\\"S\\\" and \\\"E\\\", respectively.\\n\"\n",
    "parity_desc += \"The first move you must verify is the one connecting the path to \\\"?\\\".\\n\"\n",
    "\n",
    "parity_desc += f\"Here's the code:\\n{ecm_str_desc}\\n\"\n",
    "\n",
    "parity_desc_zero_shot = parity_desc + \"Give your answer as a single integer, and your reasoning in a new line.\\n\"\n",
    "parity_desc_zero_shot += f\"For example:{sample_maze}\\n1\\nThe label is 1 because \\\"?\\\" is above and to the left to the last \\\"+\\\" from the path, so moving down,right,down is the right move to connect the path.\\n\\n\"\n",
    "\n",
    "parity_desc += \"Given the data below, determine what is the most likely label for the given maze and moves; and output ONLY the label.\\n\"\n",
    "parity_desc += \"Data:\\n\\n\"\n",
    "\n",
    "suffix = f\"w_automaton_{problem}\"\n",
    "\n",
    "llm.update_params({tkey: tokens})\n",
    "\n",
    "call_and_solve_for(problem, suffix, corpus_id_test, SHOTS=[0, 2, 5, 10, 20, 50, 100],\n",
    "                   zero_shot_prompt = parity_desc_zero_shot, few_shot_prompt = parity_desc, shuffle_exemplars=False,\n",
    "                   do_ood=False, out_dir_root=out_dir_root, is_cot=False)\n",
    "\n",
    "call_and_solve_for(problem, suffix, corpus_od_test_w_negs, SHOTS=[0, 2, 5, 10, 20, 50, 100],\n",
    "                   zero_shot_prompt = parity_desc_zero_shot, few_shot_prompt = parity_desc, shuffle_exemplars=False,\n",
    "                   do_ood=True, out_dir_root=out_dir_root, is_cot=False)\n",
    "#988\n",
    "\n",
    "suffix = f\"w_automaton_{problem}_shuffled\"\n",
    "\n",
    "call_and_solve_for(problem, suffix, corpus_id_test, SHOTS=[0, 2, 5, 10, 20, 50, 100],\n",
    "                   zero_shot_prompt = parity_desc_zero_shot, few_shot_prompt = parity_desc, shuffle_exemplars=True,\n",
    "                   do_ood=False, out_dir_root=out_dir_root, is_cot=False)\n",
    "\n",
    "call_and_solve_for(problem, suffix, corpus_od_test_w_negs, SHOTS=[0, 2, 5, 10, 20, 50, 100],\n",
    "                   zero_shot_prompt = parity_desc_zero_shot, few_shot_prompt = parity_desc, shuffle_exemplars=True,\n",
    "                   do_ood=True, out_dir_root=out_dir_root, is_cot=False)\n",
    "#988"
   ]
  },
  {
   "cell_type": "markdown",
   "id": "da7006e7-15a3-4f00-a66f-3f8b5408ca32",
   "metadata": {
    "editable": true,
    "jp-MarkdownHeadingCollapsed": true,
    "slideshow": {
     "slide_type": ""
    },
    "tags": []
   },
   "source": [
    "## APO"
   ]
  },
  {
   "cell_type": "code",
   "execution_count": null,
   "id": "a8ce91ea-b49e-4a74-b123-89bfb36b0c0a",
   "metadata": {
    "editable": true,
    "scrolled": true,
    "slideshow": {
     "slide_type": ""
    },
    "tags": []
   },
   "outputs": [],
   "source": [
    "sample_maze = \"Solved maze:\\n#S##\\n#+##\\n#? #\\n#  #\\n# +#\\n# +E#\\n####\\nMissing moves:\\ndown,right,down\"\n",
    "\n",
    "parity_desc = \"You are helping me complete a maze. You will be given a maze almost solved, and sequence of moves to finish solving it.\\n\"\n",
    "parity_desc += \"Your job is to determine whether the moves are correct and will lead to solving the maze solved.\\n\"\n",
    "parity_desc += \"You must always output 0 (incorrect) or 1 (correct).\\n\"\n",
    "parity_desc += \"The path you must complete is denoted by uninterrupted \\\"+\\\", and your completion starts at \\\"?\\\". Walls are denoted by \\\"#\\\", and the start and end are \\\"S\\\" and \\\"E\\\", respectively.\\n\"\n",
    "parity_desc += \"The first move you must verify is the one connecting the path to \\\"?\\\".\\n\"\n",
    "\n",
    "parity_desc_zero_shot = parity_desc + \"Give your answer as a single integer, and your reasoning in a new line.\\n\"\n",
    "parity_desc_zero_shot += f\"For example:{sample_maze}\\n1\\nThe label is 1 because \\\"?\\\" is above and to the left to the last \\\"+\\\" from the path, so moving down,right,down is the right move to connect the path.\\n\\n\"\n",
    "\n",
    "parity_desc += \"Given the data below, determine what is the most likely label for the given maze and moves; and output ONLY the label.\\n\"\n",
    "parity_desc += \"Data:\\n\\n\"\n",
    "\n",
    "p_hat_candidates = apo(parity_desc, corpus_id, problem=problem) # Use training for optimisation\n",
    "p_hat = p_hat_candidates[0][0]\n",
    "score = p_hat_candidates[0][-1]\n",
    "\n",
    "with open(f\"{out_dir_root}/apo_prompt_{problem}.json\", \"w\", encoding=\"utf-8\") as f:\n",
    "    f.write(json.dumps({\"Prompt\": p_hat, \"Score\": score, \"InitialPrompt\": parity_desc, \"OtherCandidates\": p_hat_candidates, \"Problem\": problem}, ensure_ascii=False))"
   ]
  },
  {
   "cell_type": "code",
   "execution_count": null,
   "id": "91a743b1-e943-4878-9ea0-a079d8d2caf6",
   "metadata": {
    "editable": true,
    "scrolled": true,
    "slideshow": {
     "slide_type": ""
    },
    "tags": []
   },
   "outputs": [],
   "source": [
    "suff = f\"apo_{problem}\"\n",
    "\n",
    "p_hat = [json.loads(l) for l in open(f\"{out_dir_root}/apo_prompt_{problem}.json\", \"r\", encoding=\"utf-8\").readlines()][0][\"Prompt\"]\n",
    "# APO is a zero-shot problem, but we'll humour ourselves and try it out with shots anyway.\n",
    "call_and_solve_for(problem, suff, corpus_id_test, SHOTS=[0, 2, 5, 10, 20, 50, 100],\n",
    "                   zero_shot_prompt = p_hat, few_shot_prompt = p_hat,\n",
    "                   do_ood=False, out_dir_root=out_dir_root, is_cot=False)\n",
    "\n",
    "call_and_solve_for(problem, suff, corpus_od_test_w_negs, SHOTS=[0, 2, 5, 10, 20, 50, 100],\n",
    "                   zero_shot_prompt = p_hat, few_shot_prompt = p_hat,\n",
    "                   do_ood=True, out_dir_root=out_dir_root, is_cot=False)\n"
   ]
  },
  {
   "cell_type": "code",
   "execution_count": null,
   "id": "e0fc50e4-728d-46f3-a032-f8226bb5da3b",
   "metadata": {
    "scrolled": true
   },
   "outputs": [],
   "source": [
    "suff = f\"apo_{problem}_shuffled\"\n",
    "\n",
    "p_hat = [json.loads(l) for l in open(f\"{out_dir_root}/apo_prompt_{problem}.json\", \"r\", encoding=\"utf-8\").readlines()][0][\"Prompt\"]\n",
    "# APO is a zero-shot problem, but we'll humour ourselves and try it out with shots anyway.\n",
    "call_and_solve_for(problem, suff, corpus_id_test, SHOTS=[0, 2, 5, 10, 20, 50, 100], shuffle_exemplars=True,\n",
    "                   zero_shot_prompt = p_hat, few_shot_prompt = p_hat,\n",
    "                   do_ood=False, out_dir_root=out_dir_root, is_cot=False)\n",
    "\n",
    "call_and_solve_for(problem, suff, corpus_od_test_w_negs, SHOTS=[0, 2, 5, 10, 20, 50, 100], shuffle_exemplars=True,\n",
    "                   zero_shot_prompt = p_hat, few_shot_prompt = p_hat,\n",
    "                   do_ood=True, out_dir_root=out_dir_root, is_cot=False)\n"
   ]
  },
  {
   "cell_type": "markdown",
   "id": "ff33b28c-3505-4dfa-ae6e-50b080789bf3",
   "metadata": {
    "jp-MarkdownHeadingCollapsed": true
   },
   "source": [
    "# Maze Solve"
   ]
  },
  {
   "cell_type": "markdown",
   "id": "d79e983c-9f6d-4d03-b272-7075d0bed14c",
   "metadata": {},
   "source": [
    "## Shared functions"
   ]
  },
  {
   "cell_type": "code",
   "execution_count": null,
   "id": "b56ccefa-47fe-43df-8e02-86108b8437da",
   "metadata": {
    "editable": true,
    "slideshow": {
     "slide_type": ""
    },
    "tags": []
   },
   "outputs": [],
   "source": [
    "corpus_id = [json.loads(l) for l in open(\"datasets/MazeSolve/corpus_maze_solve_id_4k.json\", \"r\", encoding=\"utf-8\").readlines()]\n",
    "corpus_id_test = [json.loads(l) for l in open(\"datasets/MazeSolve/corpus_maze_solve_id_4k_test.json\", \"r\", encoding=\"utf-8\").readlines()]\n",
    "corpus_od_test_w_negs = [json.loads(l) for l in open(\"datasets/MazeSolve/corpus_maze_solve_ood_4k_test.json\", \"r\", encoding=\"utf-8\").readlines()]\n",
    "\n",
    "problem = \"maze_solve\"\n",
    "out_dir_root = f\"{root_out}/MazeSolve/\"\n",
    "\n",
    "\n",
    "def get_neighbours(split_string, i, j, c = \" \"):\n",
    "    \"\"\"\n",
    "    Neighbours in a Moore neighbourhood of i,j matching character c\n",
    "    \"\"\"\n",
    "    neighbours, neighbour_positions = [], []\n",
    "    def skip(m, n):\n",
    "        if m  < 0 or n < 0:\n",
    "            return True\n",
    "        if m > len(split_string) - 1 or n > len(split_string[0]) - 1:\n",
    "            return True\n",
    "        return False\n",
    "\n",
    "    for n, (a, b) in [(\"up\", (i - 1, j)), (\"down\", (i + 1, j)), (\"left\", (i, j - 1)), (\"right\", (i, j + 1))]:\n",
    "        if skip(a, b):\n",
    "            continue\n",
    "        if split_string[a][b] == c:\n",
    "            neighbours.append((a, b))\n",
    "            neighbour_positions.append(n)\n",
    "    return {\"Neighbours\": neighbours, \"Position\": neighbour_positions}\n",
    "\n",
    "\n",
    "def get_prompt_for_maze_solve(point, use_desc=\"\", max_exemplars=10, shuffle_exemplars=False, is_cot=False):\n",
    "    \"\"\" Get the system and user prompts for this problem. \n",
    "    It takes as input a (raw) datapoint (so no labels), and some extra params to make it shiny.\n",
    "    ---\n",
    "    Params:\n",
    "    point (str): your datapoint\n",
    "    use_desc (str, \"\"): the system prompt / description of the task (optional)\n",
    "    max_exemplars (int, 10): number of shots\n",
    "    shuffle_exemplars (False): this shuffles exemplars positionally only. There's another notebook for the other bits.\n",
    "    is_cot (False): do you need a full CoT exemplar?\n",
    "    \"\"\"\n",
    "    def build_cot_exemplar(_ex, lab):\n",
    "        ex = _ex.replace(\"Solved maze:\", \"\").replace(\"Solution:\", \"\").strip()\n",
    "        maze_split_string = ex.split(\"\\n\")\n",
    "        answer = maze_split_string[-1].split(\",\")\n",
    "        maze_split_string = maze_split_string[:-1]\n",
    "\n",
    "        exemplar = f\"Let's think and solve this step-by-step.\\nWe begin under \\\"S\\\", at line 1, position (1, 1).\\n\"\n",
    "        if type(use_desc) != str:\n",
    "            exemplar = f\"{' '.join(random.sample(use_desc, k=1))}\\n{' '.join(random.sample(use_desc, k=1))} \\\"S\\\", {' '.join(random.sample(use_desc, k=1))} 1.\\n\"\n",
    "            exemplar += f\"{random.choice(use_desc)} (1, 1).\\n\"\n",
    "\n",
    "        running_tally = \"\"\n",
    "        i, j = (1, 1)\n",
    "        state = \"down\"\n",
    "        sequence = []\n",
    "        for k, _state in enumerate(answer):\n",
    "            is_exit = get_neighbours(maze_split_string, i, j, c=\"E\")\n",
    "            neighbours = get_neighbours(maze_split_string, i, j, c=\"+\")\n",
    "\n",
    "            if is_exit[\"Position\"] != []:\n",
    "                sequence.append(is_exit[\"Position\"][0])\n",
    "                if type(use_desc) == str:\n",
    "                    exemplar += f\"The exit is in the neighbours, at \\\"{is_exit['Position'][0]}\\\". We add it to our buffer and terminate.\"\n",
    "                    exemplar += f\" Our buffer is now: {sequence}.\\n\"\n",
    "                else:\n",
    "                    exemplar += f\"{' '.join(random.sample(use_desc, k=1))} \\\"{is_exit['Position'][0]}\\\". {' '.join(random.sample(use_desc, k=1))}.\"\n",
    "                    exemplar += f\" {' '.join(random.sample(use_desc, k=1))}: {sequence}.\\n\"\n",
    "                break\n",
    "\n",
    "            if type(use_desc) == str:\n",
    "                exemplar += f\"The {'next' if k != 0 else 'first'} move in the answer is \\\"{_state}\\\". The list of available neighbours for this move is {neighbours['Position']}.\\n\"\n",
    "            else:\n",
    "                exemplar += f\"{' '.join(random.sample(use_desc, k=1))} \\\"{_state}\\\".\" \n",
    "                exemplar += f\"{' '.join(random.sample(use_desc, k=1))} {neighbours['Position']}.\\n\"\n",
    "            if _state in neighbours['Position']:\n",
    "                sequence.append(_state)\n",
    "                i, j = neighbours['Neighbours'][neighbours[\"Position\"].index(_state)]\n",
    "                if type(use_desc) == str:\n",
    "                    exemplar += f\"This move is available, so we add it to our buffer. Our buffer is now: {sequence}.\\n\"\n",
    "                else:\n",
    "                    exemplar += f\"{' '.join(random.sample(use_desc, k=2))}: {sequence}\\n\"\n",
    "            else:\n",
    "                if type(use_desc) == str:\n",
    "                    exemplar += \"This move is not available, so it cannot be the correct answer. We terminate.\\n\"\n",
    "                else:\n",
    "                    exemplar += f\"{' '.join(random.sample(use_desc, k=1))}.\\n\"\n",
    "                break\n",
    "\n",
    "        if type(use_desc) == str:\n",
    "            exemplar += f\"We are done!\\nOur final set of moves is {','.join(sequence)} and the solution says {','.join(answer)}.\\n\"\n",
    "        else:\n",
    "            exemplar += f\"{' '.join(random.sample(use_desc, k=1))}!\\n\"\n",
    "            exemplar += f\"{' '.join(random.sample(use_desc, k=1))} {','.join(sequence)} {' '.join(random.sample(use_desc, k=1))} {','.join(answer)}.\\n\"\n",
    "        exemplar += f\"So the answer is {lab}\"\n",
    "        return exemplar\n",
    "\n",
    "    prompt = []\n",
    "    base_prompt = use_desc if type(use_desc) == str else \" \".join(random.sample(use_desc, k=random.randint(15, 40)))\n",
    "    if base_prompt != \"\":\n",
    "         prompt.append({\"role\": \"system\", \"content\": base_prompt})\n",
    "    exemplars = corpus_id[:max_exemplars]\n",
    "    if shuffle_exemplars:\n",
    "        random.shuffle(exemplars)\n",
    "    for i in range(len(exemplars)):\n",
    "        prompt.append({\"role\": \"user\", \"content\": corpus_id[i][\"Entry\"] + \": \"})\n",
    "        ex = str(corpus_id[i][\"Label\"])\n",
    "        if is_cot:\n",
    "            ex = build_cot_exemplar(corpus_id[i][\"Entry\"], str(corpus_id[i][\"Label\"]))\n",
    "        prompt.append({\"role\": \"assistant\", \"content\": ex})\n",
    "    user_str = f\"{point}: \"\n",
    "    prompt.append({\"role\": \"user\", \"content\": user_str})\n",
    "    return prompt"
   ]
  },
  {
   "cell_type": "markdown",
   "id": "99ee18b3-e960-454d-9736-17b7f788c82b",
   "metadata": {
    "editable": true,
    "slideshow": {
     "slide_type": ""
    },
    "tags": []
   },
   "source": [
    "## Modus ponens"
   ]
  },
  {
   "cell_type": "code",
   "execution_count": null,
   "id": "16ef9db0-ee55-4bda-b818-6b54223776af",
   "metadata": {
    "editable": true,
    "scrolled": true,
    "slideshow": {
     "slide_type": ""
    },
    "tags": []
   },
   "outputs": [],
   "source": [
    "suff = f\"modus_ponens_{problem}\"\n",
    "\n",
    "call_and_solve_for(problem=problem, suff=suff, dataset=corpus_id_test, out_dir_root=out_dir_root, shuffle_exemplars=False)\n",
    "call_and_solve_for(problem=problem, suff=suff, dataset=corpus_od_test_w_negs, do_ood=True, out_dir_root=out_dir_root, shuffle_exemplars=False)"
   ]
  },
  {
   "cell_type": "code",
   "execution_count": null,
   "id": "15e6b6de-1649-4efe-83c3-2f3885a108b0",
   "metadata": {
    "scrolled": true
   },
   "outputs": [],
   "source": [
    "suff = f\"modus_ponens_{problem}_shuffled\"\n",
    "\n",
    "call_and_solve_for(problem=problem, suff=suff, dataset=corpus_id_test, out_dir_root=out_dir_root, shuffle_exemplars=True)\n",
    "call_and_solve_for(problem=problem, suff=suff, dataset=corpus_od_test_w_negs, do_ood=True, out_dir_root=out_dir_root, shuffle_exemplars=True)"
   ]
  },
  {
   "cell_type": "markdown",
   "id": "7db7ea1b-1828-4e2a-8e39-6b347c66f4a9",
   "metadata": {
    "jp-MarkdownHeadingCollapsed": true
   },
   "source": [
    "## With description"
   ]
  },
  {
   "cell_type": "code",
   "execution_count": null,
   "id": "6b16246c-d1a1-4107-b78a-e72e43088276",
   "metadata": {
    "scrolled": true
   },
   "outputs": [],
   "source": [
    "sample_maze = \"Solved maze:\\n#S##\\n#+##\\n#? #\\n#  #\\n# +#\\n# +E#\\n####\\nSolution:\\ndown,down,down,down,right,down,right\"\n",
    "\n",
    "parity_desc = \"You are helping verify a solution to a maze. You will be given a maze, and sequence of moves that claim solving it.\\n\"\n",
    "parity_desc += \"Your job is to determine whether the moves are correct and will lead to correctly solving the maze.\\n\"\n",
    "parity_desc += \"You must always output 0 (incorrect) or 1 (correct).\\n\"\n",
    "parity_desc += \"Walls are denoted by \\\"#\\\", and the start and end are \\\"S\\\" and \\\"E\\\", respectively.\\n\"\n",
    "\n",
    "parity_desc_zero_shot = parity_desc + \"Give your answer as a single integer, and your reasoning in a new line.\\n\"\n",
    "parity_desc_zero_shot += f\"For example:{sample_maze}\\n1\\nThe solution is correct because following the moves will lead to E. There are only two right moves required, and the rest must be downs.\\n\\n\"\n",
    "\n",
    "parity_desc += \"Given the data below, determine what is the most likely label for the given maze and moves; and output ONLY the label.\\n\"\n",
    "parity_desc += \"Data:\\n\\n\"\n",
    "\n",
    "suff = f\"w_description_{problem}\"\n",
    "\n",
    "call_and_solve_for(problem, suff=suff, dataset=corpus_id_test, SHOTS=[0, 2, 5, 10, 20, 50, 100],\n",
    "                   zero_shot_prompt = parity_desc_zero_shot, few_shot_prompt = parity_desc, shuffle_exemplars=False,\n",
    "                   do_ood=False, out_dir_root=out_dir_root, is_cot=False)\n",
    "call_and_solve_for(problem, suff=suff, dataset=corpus_od_test_w_negs, SHOTS=[0, 2, 5, 10, 20, 50, 100],\n",
    "                   zero_shot_prompt = parity_desc_zero_shot, few_shot_prompt = parity_desc, shuffle_exemplars=False,\n",
    "                   do_ood=True, out_dir_root=out_dir_root, is_cot=False)\n",
    "\n",
    "suff = f\"w_description_{problem}_shuffled\"\n",
    "\n",
    "call_and_solve_for(problem, suff=suff, dataset=corpus_id_test, SHOTS=[0, 2, 5, 10, 20, 50, 100],\n",
    "                   zero_shot_prompt = parity_desc_zero_shot, few_shot_prompt = parity_desc, shuffle_exemplars=True,\n",
    "                   do_ood=False, out_dir_root=out_dir_root, is_cot=False)\n",
    "call_and_solve_for(problem, suff=suff, dataset=corpus_od_test_w_negs, SHOTS=[0, 2, 5, 10, 20, 50, 100],\n",
    "                   zero_shot_prompt = parity_desc_zero_shot, few_shot_prompt = parity_desc, shuffle_exemplars=True,\n",
    "                   do_ood=True, out_dir_root=out_dir_root, is_cot=False)"
   ]
  },
  {
   "cell_type": "markdown",
   "id": "8d542cc7-b01b-4ba2-b8c9-9a4b58b7c0a5",
   "metadata": {
    "jp-MarkdownHeadingCollapsed": true
   },
   "source": [
    "## Word Salad"
   ]
  },
  {
   "cell_type": "code",
   "execution_count": null,
   "id": "34280965-3c2d-46f6-846f-475cb8f2d2ed",
   "metadata": {
    "scrolled": true
   },
   "outputs": [],
   "source": [
    "parity_desc = list(set([l.strip().replace(\".\", \" \") for l in open(\"datasets/words.txt\", \"r\", encoding=\"utf-8\").readlines()[0].split(\" \")]))\n",
    "parity_desc_zero_shot = parity_desc\n",
    "\n",
    "suff = f\"word_salad_{problem}\"\n",
    "\n",
    "call_and_solve_for(problem, suff=suff, dataset=corpus_id_test, SHOTS=[0, 2, 5, 10, 20, 50, 100],\n",
    "                   zero_shot_prompt = parity_desc_zero_shot, few_shot_prompt = parity_desc, shuffle_exemplars=False,\n",
    "                   do_ood=False, out_dir_root=out_dir_root, is_cot=False)\n",
    "call_and_solve_for(problem, suff=suff, dataset=corpus_od_test_w_negs, SHOTS=[0, 2, 5, 10, 20, 50, 100],\n",
    "                   zero_shot_prompt = parity_desc_zero_shot, few_shot_prompt = parity_desc, shuffle_exemplars=False,\n",
    "                   do_ood=True, out_dir_root=out_dir_root, is_cot=False)\n",
    "\n",
    "\n",
    "suff = f\"word_salad_{problem}_shuffled\"\n",
    "\n",
    "call_and_solve_for(problem, suff=suff, dataset=corpus_id_test, SHOTS=[0, 2, 5, 10, 20, 50, 100],\n",
    "                   zero_shot_prompt = parity_desc_zero_shot, few_shot_prompt = parity_desc, shuffle_exemplars=True,\n",
    "                   do_ood=False, out_dir_root=out_dir_root, is_cot=False)\n",
    "call_and_solve_for(problem, suff=suff, dataset=corpus_od_test_w_negs, SHOTS=[0, 2, 5, 10, 20, 50, 100],\n",
    "                   zero_shot_prompt = parity_desc_zero_shot, few_shot_prompt = parity_desc, shuffle_exemplars=True,\n",
    "                   do_ood=True, out_dir_root=out_dir_root, is_cot=False)\n",
    "#92"
   ]
  },
  {
   "cell_type": "markdown",
   "id": "41eee585-5700-4625-9abe-f51f1dc35950",
   "metadata": {
    "jp-MarkdownHeadingCollapsed": true
   },
   "source": [
    "## CoT"
   ]
  },
  {
   "cell_type": "code",
   "execution_count": null,
   "id": "28979703-5e36-4f28-ad24-a01247b31e45",
   "metadata": {
    "scrolled": true
   },
   "outputs": [],
   "source": [
    "sample_maze = \"Solved maze:\\n#S##\\n#+##\\n#? #\\n#  #\\n# +#\\n# +E#\\n####\\nSolution:\\ndown,down,down,down,right,down,right\"\n",
    "\n",
    "parity_desc = \"You are helping verify a solution to a maze. You will be given a maze, and sequence of moves that claim solving it.\\n\"\n",
    "parity_desc += \"Your job is to determine whether the moves are correct and will lead to correctly solving the maze.\\n\"\n",
    "parity_desc += \"You must always output 0 (incorrect) or 1 (correct).\\n\"\n",
    "parity_desc += \"Walls are denoted by \\\"#\\\", and the start and end are \\\"S\\\" and \\\"E\\\", respectively.\\n\"\n",
    "\n",
    "parity_desc_zero_shot = parity_desc + \"Give your answer as a single integer, and your reasoning in a new line.\\n\"\n",
    "parity_desc_zero_shot += f\"For example:{sample_maze}\\n1\\nThe solution is correct because following the moves will lead to E. There are only two right moves required, and the rest must be downs.\\n\\n\"\n",
    "\n",
    "parity_desc += \"Given the data below, determine what is the most likely label for the given maze and moves; and output ONLY the label.\\n\"\n",
    "parity_desc += \"Data:\\n\\n\"\n",
    "\n",
    "suffix = f\"CoT_{problem}\"\n",
    "llm.update_params({tkey: cot_tokens})"
   ]
  },
  {
   "cell_type": "code",
   "execution_count": null,
   "id": "4a6e890c-ce4e-4d74-80a5-6b5266e34c76",
   "metadata": {
    "scrolled": true
   },
   "outputs": [],
   "source": [
    "call_and_solve_for(problem, suffix, corpus_id_test, SHOTS=[0, 5, 10, 20, 50, 100], #0, \n",
    "                   zero_shot_prompt = parity_desc_zero_shot, few_shot_prompt = parity_desc, shuffle_exemplars=False,\n",
    "                   do_ood=False, out_dir_root=out_dir_root, is_cot=True)\n",
    "\n",
    "call_and_solve_for(problem, suffix, corpus_od_test_w_negs, SHOTS=[0, 5, 10, 20, 50, 100],\n",
    "                   zero_shot_prompt = parity_desc_zero_shot, few_shot_prompt = parity_desc, shuffle_exemplars=False,\n",
    "                   do_ood=True, out_dir_root=out_dir_root, is_cot=True)"
   ]
  },
  {
   "cell_type": "code",
   "execution_count": null,
   "id": "56157b90-1a4f-4794-a3cd-2fa8b0a14dc4",
   "metadata": {
    "editable": true,
    "scrolled": true,
    "slideshow": {
     "slide_type": ""
    },
    "tags": []
   },
   "outputs": [],
   "source": [
    "suffix = f\"CoT_{problem}_shuffled\"\n",
    "\n",
    "call_and_solve_for(problem, suffix, corpus_id_test, SHOTS=[0, 5, 10, 20, 50, 100], #0, \n",
    "                   zero_shot_prompt = parity_desc_zero_shot, few_shot_prompt = parity_desc, shuffle_exemplars=True,\n",
    "                   do_ood=False, out_dir_root=out_dir_root, is_cot=True)\n",
    "\n",
    "call_and_solve_for(problem, suffix, corpus_od_test_w_negs, SHOTS=[0, 5, 10, 20, 50, 100],\n",
    "                   zero_shot_prompt = parity_desc_zero_shot, few_shot_prompt = parity_desc, shuffle_exemplars=True,\n",
    "                   do_ood=True, out_dir_root=out_dir_root, is_cot=True)"
   ]
  },
  {
   "cell_type": "markdown",
   "id": "da6448df-1dc6-4b94-ad5b-d2372ac63e9c",
   "metadata": {
    "jp-MarkdownHeadingCollapsed": true
   },
   "source": [
    "## Salad-of-Thought"
   ]
  },
  {
   "cell_type": "code",
   "execution_count": null,
   "id": "2b1cfbcd-0f7c-479b-b1e7-36cccb4110a1",
   "metadata": {
    "scrolled": true
   },
   "outputs": [],
   "source": [
    "parity_desc = list(set([l.strip().replace(\".\", \" \") for l in open(\"datasets/words.txt\", \"r\", encoding=\"utf-8\").readlines()[0].split(\" \")]))\n",
    "parity_desc_zero_shot = parity_desc\n",
    "\n",
    "\n",
    "suffix = f\"SoT_{problem}\"\n",
    "llm.update_params({tkey: cot_tokens})\n",
    "\n",
    "call_and_solve_for(problem, suffix, corpus_id_test, SHOTS=[0, 5, 10, 20, 50, 100], #\n",
    "                   zero_shot_prompt = parity_desc_zero_shot, few_shot_prompt = parity_desc, shuffle_exemplars=False,\n",
    "                   do_ood=False, out_dir_root=out_dir_root, is_cot=True)\n",
    "\n",
    "call_and_solve_for(problem, suffix, corpus_od_test_w_negs, SHOTS=[0, 5, 10, 20, 50, 100],\n",
    "                   zero_shot_prompt = parity_desc_zero_shot, few_shot_prompt = parity_desc, shuffle_exemplars=False,\n",
    "                   do_ood=True, out_dir_root=out_dir_root, is_cot=True)"
   ]
  },
  {
   "cell_type": "code",
   "execution_count": null,
   "id": "ca54efbd-d12f-41aa-9f4d-f70d030e344c",
   "metadata": {
    "scrolled": true
   },
   "outputs": [],
   "source": [
    "parity_desc = list(set([l.strip().replace(\".\", \" \") for l in open(\"datasets/words.txt\", \"r\", encoding=\"utf-8\").readlines()[0].split(\" \")]))\n",
    "parity_desc_zero_shot = parity_desc\n",
    "\n",
    "\n",
    "suffix = f\"SoT_{problem}_shuffled\"\n",
    "llm.update_params({tkey: cot_tokens})\n",
    "\n",
    "call_and_solve_for(problem, suffix, corpus_id_test, SHOTS=[0, 5, 10, 20, 50, 100], #0, \n",
    "                   zero_shot_prompt = parity_desc_zero_shot, few_shot_prompt = parity_desc, shuffle_exemplars=True,\n",
    "                   do_ood=False, out_dir_root=out_dir_root, is_cot=True)\n",
    "\n",
    "call_and_solve_for(problem, suffix, corpus_od_test_w_negs, SHOTS=[0, 5, 10, 20, 50, 100],\n",
    "                   zero_shot_prompt = parity_desc_zero_shot, few_shot_prompt = parity_desc, shuffle_exemplars=True,\n",
    "                   do_ood=True, out_dir_root=out_dir_root, is_cot=True)"
   ]
  },
  {
   "cell_type": "markdown",
   "id": "e71814da-2f42-4748-adb3-dc6b3d9cdf9c",
   "metadata": {
    "editable": true,
    "jp-MarkdownHeadingCollapsed": true,
    "slideshow": {
     "slide_type": ""
    },
    "tags": []
   },
   "source": [
    "## Automata encoded"
   ]
  },
  {
   "cell_type": "code",
   "execution_count": null,
   "id": "6c4d1120-7124-4460-ac8c-8fbd63ec1db3",
   "metadata": {
    "editable": true,
    "scrolled": true,
    "slideshow": {
     "slide_type": ""
    },
    "tags": []
   },
   "outputs": [],
   "source": [
    "sample_maze = \"Solved maze:\\n#S##\\n#+##\\n#? #\\n#  #\\n# +#\\n# +E#\\n####\\nSolution:\\ndown,down,down,down,right,down,right\"\n",
    "ecm_str = \"\"\n",
    "\n",
    "parity_desc = \"You are helping verify a solution to a maze. You will be given a maze, and sequence of moves that claim solving it, along with some DFS code that could help in solving it.\\n\"\n",
    "parity_desc += \"Your job is to determine whether the moves are correct and will lead to correctly solving the maze.\\n\"\n",
    "parity_desc += \"You must always output 0 (incorrect) or 1 (correct).\\n\"\n",
    "parity_desc += \"Walls are denoted by \\\"#\\\", and the start and end are \\\"S\\\" and \\\"E\\\", respectively.\\n\"\n",
    "\n",
    "parity_desc += f\"Here's the code:\\n{ecm_str}\\n\"\n",
    "\n",
    "parity_desc_zero_shot = parity_desc + \"Give your answer as a single integer, and your reasoning in a new line.\\n\"\n",
    "parity_desc_zero_shot += f\"For example:{sample_maze}\\n1\\nThe solution is correct because following the moves will lead to E. There are only two right moves required, and the rest must be downs.\\n\\n\"\n",
    "\n",
    "parity_desc += \"Given the data below, determine what is the most likely label for the given maze and moves; and output ONLY the label.\\n\"\n",
    "parity_desc += \"Data:\\n\\n\"\n",
    "\n",
    "suffix = f\"w_automaton_{problem}\"\n",
    "\n",
    "llm.update_params({tkey: tokens})\n",
    "\n",
    "call_and_solve_for(problem, suffix, corpus_id_test, SHOTS=[0, 2, 5, 10, 20, 50, 100],\n",
    "                   zero_shot_prompt = parity_desc_zero_shot, few_shot_prompt = parity_desc, shuffle_exemplars=False,\n",
    "                   do_ood=False, out_dir_root=out_dir_root, is_cot=False)\n",
    "\n",
    "call_and_solve_for(problem, suffix, corpus_od_test_w_negs, SHOTS=[0, 2, 5, 10, 20, 50, 100],\n",
    "                   zero_shot_prompt = parity_desc_zero_shot, few_shot_prompt = parity_desc, shuffle_exemplars=False,\n",
    "                   do_ood=True, out_dir_root=out_dir_root, is_cot=False)\n",
    "#988\n",
    "\n",
    "suffix = f\"w_automaton_{problem}_shuffled\"\n",
    "\n",
    "call_and_solve_for(problem, suffix, corpus_id_test, SHOTS=[0, 2, 5, 10, 20, 50, 100],\n",
    "                   zero_shot_prompt = parity_desc_zero_shot, few_shot_prompt = parity_desc, shuffle_exemplars=True,\n",
    "                   do_ood=False, out_dir_root=out_dir_root, is_cot=False)\n",
    "\n",
    "call_and_solve_for(problem, suffix, corpus_od_test_w_negs, SHOTS=[0, 2, 5, 10, 20, 50, 100],\n",
    "                   zero_shot_prompt = parity_desc_zero_shot, few_shot_prompt = parity_desc, shuffle_exemplars=True,\n",
    "                   do_ood=True, out_dir_root=out_dir_root, is_cot=False)\n",
    "#988"
   ]
  },
  {
   "cell_type": "markdown",
   "id": "8b0f70b1-e223-4a23-8f33-d5b0838786cc",
   "metadata": {
    "editable": true,
    "jp-MarkdownHeadingCollapsed": true,
    "slideshow": {
     "slide_type": ""
    },
    "tags": []
   },
   "source": [
    "## APO"
   ]
  },
  {
   "cell_type": "code",
   "execution_count": null,
   "id": "e24eadcb-d190-4a38-95ee-6b25156838c5",
   "metadata": {
    "editable": true,
    "scrolled": true,
    "slideshow": {
     "slide_type": ""
    },
    "tags": []
   },
   "outputs": [],
   "source": [
    "sample_maze = \"Solved maze:\\n#S##\\n#+##\\n#? #\\n#  #\\n# +#\\n# +E#\\n####\\nSolution:\\ndown,down,down,down,right,down,right\"\n",
    "\n",
    "parity_desc = \"You are helping verify a solution to a maze. You will be given a maze, and sequence of moves that claim solving it.\\n\"\n",
    "parity_desc += \"Your job is to determine whether the moves are correct and will lead to correctly solving the maze.\\n\"\n",
    "parity_desc += \"You must always output 0 (incorrect) or 1 (correct).\\n\"\n",
    "parity_desc += \"Walls are denoted by \\\"#\\\", and the start and end are \\\"S\\\" and \\\"E\\\", respectively.\\n\"\n",
    "\n",
    "parity_desc_zero_shot = parity_desc + \"Give your answer as a single integer, and your reasoning in a new line.\\n\"\n",
    "parity_desc_zero_shot += f\"For example:{sample_maze}\\n1\\nThe solution is correct because following the moves will lead to E. There are only two right moves required, and the rest must be downs.\\n\\n\"\n",
    "\n",
    "parity_desc += \"Given the data below, determine what is the most likely label for the given maze and moves; and output ONLY the label.\\n\"\n",
    "parity_desc += \"Data:\\n\\n\"\n",
    "\n",
    "p_hat_candidates = apo(parity_desc, corpus_id, problem=problem) # Use training for optimisation\n",
    "p_hat = p_hat_candidates[0][0]\n",
    "score = p_hat_candidates[0][-1]\n",
    "\n",
    "with open(f\"{out_dir_root}/apo_prompt_{problem}.json\", \"w\", encoding=\"utf-8\") as f:\n",
    "    f.write(json.dumps({\"Prompt\": p_hat, \"Score\": score, \"InitialPrompt\": parity_desc, \"OtherCandidates\": p_hat_candidates, \"Problem\": problem}, ensure_ascii=False))"
   ]
  },
  {
   "cell_type": "code",
   "execution_count": null,
   "id": "d9e707ac-bd24-4617-925d-7629ec074a79",
   "metadata": {
    "editable": true,
    "scrolled": true,
    "slideshow": {
     "slide_type": ""
    },
    "tags": []
   },
   "outputs": [],
   "source": [
    "suff = f\"apo_{problem}\"\n",
    "\n",
    "p_hat = [json.loads(l) for l in open(f\"{out_dir_root}/apo_prompt_{problem}.json\", \"r\", encoding=\"utf-8\").readlines()][0][\"Prompt\"]\n",
    "# APO is a zero-shot problem, but we'll humour ourselves and try it out with shots anyway.\n",
    "call_and_solve_for(problem, suff, corpus_id_test, SHOTS=[0, 2, 5, 10, 20, 50, 100],\n",
    "                   zero_shot_prompt = p_hat, few_shot_prompt = p_hat,\n",
    "                   do_ood=False, out_dir_root=out_dir_root, is_cot=False)\n",
    "\n",
    "call_and_solve_for(problem, suff, corpus_od_test_w_negs, SHOTS=[0, 2, 5, 10, 20, 50, 100],\n",
    "                   zero_shot_prompt = p_hat, few_shot_prompt = p_hat,\n",
    "                   do_ood=True, out_dir_root=out_dir_root, is_cot=False)\n"
   ]
  },
  {
   "cell_type": "code",
   "execution_count": null,
   "id": "b3b4fefa-f190-4b5d-9cc2-ac47d84b8408",
   "metadata": {
    "scrolled": true
   },
   "outputs": [],
   "source": [
    "suff = f\"apo_{problem}_shuffled\"\n",
    "\n",
    "p_hat = [json.loads(l) for l in open(f\"{out_dir_root}/apo_prompt_{problem}.json\", \"r\", encoding=\"utf-8\").readlines()][0][\"Prompt\"]\n",
    "# APO is a zero-shot problem, but we'll humour ourselves and try it out with shots anyway.\n",
    "call_and_solve_for(problem, suff, corpus_id_test, SHOTS=[0, 2, 5, 10, 20, 50, 100], shuffle_exemplars=True,\n",
    "                   zero_shot_prompt = p_hat, few_shot_prompt = p_hat,\n",
    "                   do_ood=False, out_dir_root=out_dir_root, is_cot=False)\n",
    "\n",
    "call_and_solve_for(problem, suff, corpus_od_test_w_negs, SHOTS=[0, 2, 5, 10, 20, 50, 100], shuffle_exemplars=True,\n",
    "                   zero_shot_prompt = p_hat, few_shot_prompt = p_hat,\n",
    "                   do_ood=True, out_dir_root=out_dir_root, is_cot=False)\n"
   ]
  },
  {
   "cell_type": "markdown",
   "id": "6b6816ff-3f18-47d0-afa3-c0424dff7407",
   "metadata": {
    "jp-MarkdownHeadingCollapsed": true
   },
   "source": [
    "# Reversal"
   ]
  },
  {
   "cell_type": "markdown",
   "id": "1983d98a-173a-44d2-b2a7-4f64c778606b",
   "metadata": {},
   "source": [
    "## Shared functions"
   ]
  },
  {
   "cell_type": "code",
   "execution_count": null,
   "id": "f9e48c41-a172-4127-a727-d88d9f475664",
   "metadata": {
    "editable": true,
    "slideshow": {
     "slide_type": ""
    },
    "tags": []
   },
   "outputs": [],
   "source": [
    "corpus_id = [json.loads(l) for l in open(\"datasets/Reversal/corpus_reversal_id_4k.json\", \"r\", encoding=\"utf-8\").readlines()]\n",
    "corpus_id_test = [json.loads(l) for l in open(\"datasets/Reversal/corpus_reversal_id_4k_test.json\", \"r\", encoding=\"utf-8\").readlines()]\n",
    "corpus_od_test_w_negs = [json.loads(l) for l in open(\"datasets/Reversal/corpus_reversal_ood_4k_test.json\", \"r\", encoding=\"utf-8\").readlines()]\n",
    "\n",
    "problem = \"reversal\"\n",
    "out_dir_root = f\"{root_out}/Reversal/\"\n",
    "\n",
    "def split_by_token(s):\n",
    "    if s[0] == \"c\":\n",
    "        return \"chtte\"\n",
    "    if s[0] == \"g\":\n",
    "        return \"gfx\"\n",
    "    if s[0] == \"%\":\n",
    "        return \"%\"\n",
    "    if s[0] == \"l\":\n",
    "        return \"ltintprk\"\n",
    "    if s[0] == \"¯\":\n",
    "        return \"¯\\\\_(ツ)_/¯\"\n",
    "\n",
    "def split_by_token_mirror(s):\n",
    "    if s[0] == \"e\":\n",
    "        return \"chtte\"\n",
    "    if s[0] == \"x\":\n",
    "        return \"gfx\"\n",
    "    if s[0] == \"%\":\n",
    "        return \"%\"\n",
    "    if s[0] == \"k\":\n",
    "        return \"ltintprk\"\n",
    "    if s[0] == \"¯\":\n",
    "        return \"¯\\\\_(ツ)_/¯\"\n",
    "\n",
    "\n",
    "def get_prompt_for_reversal(point, use_desc=\"\", max_exemplars=10, shuffle_exemplars=False, is_cot=False):\n",
    "    \"\"\" Get the system and user prompts for this problem. \n",
    "    It takes as input a (raw) datapoint (so no labels), and some extra params to make it shiny.\n",
    "    ---\n",
    "    Params:\n",
    "    point (str): your datapoint\n",
    "    use_desc (str, \"\"): the system prompt / description of the task (optional)\n",
    "    max_exemplars (int, 10): number of shots\n",
    "    shuffle_exemplars (False): this shuffles exemplars positionally only. There's another notebook for the other bits.\n",
    "    is_cot (False): do you need a full CoT exemplar?\n",
    "    \"\"\"\n",
    "    def build_cot_exemplar(ex, lab):\n",
    "        left, right = ex.split(\"#\")\n",
    "        is_even = str(lab) == \"1\" # Need this for noise\n",
    "        exemplar = \"Let's think and solve this step-by-step. \"\n",
    "        if type(use_desc) == str:\n",
    "            exemplar += f\"We have the strings LEFT: {left} and RIGHT: {right}\\n\"\n",
    "            exemplar += f\"We begin checking LEFT from the left and RIGHT from the right.\\n\"\n",
    "        else:\n",
    "            exemplar += f\"{' '.join(random.sample(use_desc, k=1))} LEFT: {left} and RIGHT: {right}.\\n\"\n",
    "            exemplar += f\"{' '.join(random.sample(use_desc, k=1))}\\n\"\n",
    "        ii = 0\n",
    "        while ii < len(left):\n",
    "            left_token = split_by_token(left[ii])\n",
    "            right_token = split_by_token_mirror(right[len(right) - 1 - ii])\n",
    "            if type(use_desc) == str:\n",
    "                exemplar += f\"We observe to the left: {left_token} and to the right: {right_token}.\\n\"\n",
    "            else:\n",
    "                exemplar += f\"{' '.join(random.sample(use_desc, k=1))} left: {left_token} {' '.join(random.sample(use_desc, k=1))} right: {right_token}.\\n\"\n",
    "            if left_token == right_token:\n",
    "                if type(use_desc) == str:\n",
    "                    exemplar += f\"The tokens are the same, so we move to the next.\\n\"\n",
    "                else:\n",
    "                    exemplar += f\"{' '.join(random.sample(use_desc, k=1))}.\\n\"\n",
    "                ii += len(left_token)\n",
    "            else:                \n",
    "                if type(use_desc) == str:\n",
    "                    exemplar += f\"The tokens are the not same, so we have our answer.\\n\"\n",
    "                else:\n",
    "                    exemplar += f\"{' '.join(random.sample(use_desc, k=1))}.\\n\"\n",
    "                break\n",
    "\n",
    "        if ii == len(left):\n",
    "            if type(use_desc) == str:\n",
    "                exemplar += f\"We have reached the end of the string, and both strings are the same.\\n\"\n",
    "            else:\n",
    "                exemplar += f\"{' '.join(random.sample(use_desc, k=1))}.\\n\"\n",
    "\n",
    "        exemplar += \"So the answer is {}\".format(lab)\n",
    "        return exemplar\n",
    "\n",
    "    prompt = []\n",
    "    base_prompt = use_desc if type(use_desc) == str else \" \".join(random.sample(use_desc, k=random.randint(15, 40)))\n",
    "    if base_prompt != \"\":\n",
    "         prompt.append({\"role\": \"system\", \"content\": base_prompt})\n",
    "    exemplars = corpus_id[:max_exemplars]\n",
    "    if shuffle_exemplars:\n",
    "        random.shuffle(exemplars)\n",
    "    for i in range(len(exemplars)):\n",
    "        prompt.append({\"role\": \"user\", \"content\": corpus_id[i][\"Entry\"] + \": \"})\n",
    "        ex = str(corpus_id[i][\"Label\"])\n",
    "        if is_cot:\n",
    "            ex = build_cot_exemplar(corpus_id[i][\"Entry\"], str(corpus_id[i][\"Label\"]))\n",
    "        prompt.append({\"role\": \"assistant\", \"content\": ex})\n",
    "    user_str = f\"{point}: \"\n",
    "    prompt.append({\"role\": \"user\", \"content\": user_str})\n",
    "    return prompt\n"
   ]
  },
  {
   "cell_type": "markdown",
   "id": "92ebbfa1-f84f-4968-b70d-23e5cf594a2a",
   "metadata": {
    "editable": true,
    "jp-MarkdownHeadingCollapsed": true,
    "slideshow": {
     "slide_type": ""
    },
    "tags": []
   },
   "source": [
    "## Modus ponens"
   ]
  },
  {
   "cell_type": "code",
   "execution_count": null,
   "id": "4431d125-11e4-4fa0-8375-4b8ca4ef39ea",
   "metadata": {
    "editable": true,
    "scrolled": true,
    "slideshow": {
     "slide_type": ""
    },
    "tags": []
   },
   "outputs": [],
   "source": [
    "suff = f\"modus_ponens_{problem}\"\n",
    "\n",
    "call_and_solve_for(problem=problem, suff=suff, dataset=corpus_id_test, out_dir_root=out_dir_root, shuffle_exemplars=False)\n",
    "call_and_solve_for(problem=problem, suff=suff, dataset=corpus_od_test_w_negs, do_ood=True, out_dir_root=out_dir_root, shuffle_exemplars=False)"
   ]
  },
  {
   "cell_type": "code",
   "execution_count": null,
   "id": "c5af1e97-6eda-4847-948e-d4230f067147",
   "metadata": {
    "scrolled": true
   },
   "outputs": [],
   "source": [
    "suff = f\"modus_ponens_{problem}_shuffled\"\n",
    "\n",
    "call_and_solve_for(problem=problem, suff=suff, dataset=corpus_id_test, out_dir_root=out_dir_root, shuffle_exemplars=True)\n",
    "call_and_solve_for(problem=problem, suff=suff, dataset=corpus_od_test_w_negs, do_ood=True, out_dir_root=out_dir_root, shuffle_exemplars=True)"
   ]
  },
  {
   "cell_type": "markdown",
   "id": "8d1d829c-e716-4fd2-af65-afb33252cb3b",
   "metadata": {},
   "source": [
    "## With description"
   ]
  },
  {
   "cell_type": "code",
   "execution_count": null,
   "id": "1cfddd6f-9309-42bf-8841-bd4707b08066",
   "metadata": {
    "scrolled": true
   },
   "outputs": [],
   "source": [
    "parity_desc = \"This is a string detection task. The strings in this task are generated from a probabilistic automaton.\\n\"\n",
    "parity_desc += \"Each input is of the form LEFT#RIGHT. Each string is labelled 0 or 1 depending on whether the RIGHT pattern is (1) or is not (0) a reversal of LEFT.\\n\"\n",
    "parity_desc += \"Your job is to learn what is the likelihood of a string to be labelled 0 or 1, and output the correct label.\\n\"\n",
    "\n",
    "parity_desc_zero_shot = parity_desc + \"Give your answer as a single integer, and your reasoning in a new line.\\n\"\n",
    "parity_desc_zero_shot += \"For example:\\abc#cba:1\\nThe right string is a reversal of the left string.\\n\\n\"\n",
    "\n",
    "parity_desc += \"Given the data below, determine what is the most likely label for the given string and output ONLY the label.\\n\"\n",
    "parity_desc += \"Data:\\n\\n\"\n",
    "\n",
    "suff = f\"w_description_{problem}\"\n",
    "\n",
    "call_and_solve_for(problem, suff=suff, dataset=corpus_id_test, SHOTS=[0, 2, 5, 10, 20, 50, 100],\n",
    "                   zero_shot_prompt = parity_desc_zero_shot, few_shot_prompt = parity_desc, shuffle_exemplars=False,\n",
    "                   do_ood=False, out_dir_root=out_dir_root, is_cot=False)\n",
    "call_and_solve_for(problem, suff=suff, dataset=corpus_od_test_w_negs, SHOTS=[0, 2, 5, 10, 20, 50, 100],\n",
    "                   zero_shot_prompt = parity_desc_zero_shot, few_shot_prompt = parity_desc, shuffle_exemplars=False,\n",
    "                   do_ood=True, out_dir_root=out_dir_root, is_cot=False)\n",
    "\n",
    "suff = f\"w_description_{problem}_shuffled\"\n",
    "\n",
    "call_and_solve_for(problem, suff=suff, dataset=corpus_id_test, SHOTS=[0, 2, 5, 10, 20, 50, 100],\n",
    "                   zero_shot_prompt = parity_desc_zero_shot, few_shot_prompt = parity_desc, shuffle_exemplars=True,\n",
    "                   do_ood=False, out_dir_root=out_dir_root, is_cot=False)\n",
    "call_and_solve_for(problem, suff=suff, dataset=corpus_od_test_w_negs, SHOTS=[0, 2, 5, 10, 20, 50, 100],\n",
    "                   zero_shot_prompt = parity_desc_zero_shot, few_shot_prompt = parity_desc, shuffle_exemplars=True,\n",
    "                   do_ood=True, out_dir_root=out_dir_root, is_cot=False)"
   ]
  },
  {
   "cell_type": "markdown",
   "id": "6dcf8b5b-893a-4b0b-bdac-e0c299f16824",
   "metadata": {},
   "source": [
    "## Word Salad"
   ]
  },
  {
   "cell_type": "code",
   "execution_count": null,
   "id": "9ad1b23a-a480-4d64-a7b2-00929c92105e",
   "metadata": {
    "scrolled": true
   },
   "outputs": [],
   "source": [
    "parity_desc = list(set([l.strip().replace(\".\", \" \") for l in open(\"datasets/words.txt\", \"r\", encoding=\"utf-8\").readlines()[0].split(\" \")]))\n",
    "parity_desc_zero_shot = parity_desc\n",
    "\n",
    "suff = f\"word_salad_{problem}\"\n",
    "\n",
    "call_and_solve_for(problem, suff=suff, dataset=corpus_id_test, SHOTS=[0, 2, 5, 10, 20, 50, 100],\n",
    "                   zero_shot_prompt = parity_desc_zero_shot, few_shot_prompt = parity_desc, shuffle_exemplars=False,\n",
    "                   do_ood=False, out_dir_root=out_dir_root, is_cot=False)\n",
    "call_and_solve_for(problem, suff=suff, dataset=corpus_od_test_w_negs, SHOTS=[0, 2, 5, 10, 20, 50, 100],\n",
    "                   zero_shot_prompt = parity_desc_zero_shot, few_shot_prompt = parity_desc, shuffle_exemplars=False,\n",
    "                   do_ood=True, out_dir_root=out_dir_root, is_cot=False)\n",
    "\n",
    "\n",
    "suff = f\"word_salad_{problem}_shuffled\"\n",
    "\n",
    "call_and_solve_for(problem, suff=suff, dataset=corpus_id_test, SHOTS=[0, 2, 5, 10, 20, 50, 100],\n",
    "                   zero_shot_prompt = parity_desc_zero_shot, few_shot_prompt = parity_desc, shuffle_exemplars=True,\n",
    "                   do_ood=False, out_dir_root=out_dir_root, is_cot=False)\n",
    "call_and_solve_for(problem, suff=suff, dataset=corpus_od_test_w_negs, SHOTS=[0, 2, 5, 10, 20, 50, 100],\n",
    "                   zero_shot_prompt = parity_desc_zero_shot, few_shot_prompt = parity_desc, shuffle_exemplars=True,\n",
    "                   do_ood=True, out_dir_root=out_dir_root, is_cot=False)\n",
    "#10 0.85"
   ]
  },
  {
   "cell_type": "markdown",
   "id": "ac85409c-8bcb-4a0b-9260-1b7fd6acb367",
   "metadata": {},
   "source": [
    "## CoT"
   ]
  },
  {
   "cell_type": "code",
   "execution_count": null,
   "id": "4553f446-7e83-4c50-a7d5-f692b376965e",
   "metadata": {
    "scrolled": true
   },
   "outputs": [],
   "source": [
    "parity_desc = \"This is a string detection task. The strings in this task are generated from a probabilistic automaton.\\n\"\n",
    "parity_desc += \"Each input is of the form LEFT#RIGHT. Each string is labelled 0 or 1 depending on whether the RIGHT pattern is (1) or is not (0) a reversal of LEFT.\\n\"\n",
    "parity_desc += \"Your job is to learn what is the likelihood of a string to be labelled 0 or 1, and output the correct label.\\n\"\n",
    "\n",
    "parity_desc_zero_shot = parity_desc + \"Give your answer as a single integer, and your reasoning in a new line.\\n\"\n",
    "parity_desc_zero_shot += \"For example:\\abc#cba:1\\nThe right string is a reversal of the left string.\\n\\n\"\n",
    "\n",
    "parity_desc += \"Given the data below, determine what is the most likely label for the given string and output ONLY the label.\\n\"\n",
    "parity_desc += \"Data:\\n\\n\"\n",
    "\n",
    "suffix = f\"CoT_{problem}\"\n",
    "llm.update_params({tkey: cot_tokens})"
   ]
  },
  {
   "cell_type": "code",
   "execution_count": null,
   "id": "26c8f933-25a6-4960-a4fb-c254df1ad13e",
   "metadata": {
    "scrolled": true
   },
   "outputs": [],
   "source": [
    "call_and_solve_for(problem, suffix, corpus_id_test, SHOTS=[0, 5, 10, 20, 50, 100], #0, \n",
    "                   zero_shot_prompt = parity_desc_zero_shot, few_shot_prompt = parity_desc, shuffle_exemplars=False,\n",
    "                   do_ood=False, out_dir_root=out_dir_root, is_cot=True)\n",
    "\n",
    "call_and_solve_for(problem, suffix, corpus_od_test_w_negs, SHOTS=[0, 5, 10, 20, 50, 100],\n",
    "                   zero_shot_prompt = parity_desc_zero_shot, few_shot_prompt = parity_desc, shuffle_exemplars=False,\n",
    "                   do_ood=True, out_dir_root=out_dir_root, is_cot=True)"
   ]
  },
  {
   "cell_type": "code",
   "execution_count": null,
   "id": "f6e22d03-c7aa-43e6-8f71-ea42d35532c4",
   "metadata": {
    "editable": true,
    "scrolled": true,
    "slideshow": {
     "slide_type": ""
    },
    "tags": []
   },
   "outputs": [],
   "source": [
    "suffix = f\"CoT_{problem}_shuffled\"\n",
    "\n",
    "call_and_solve_for(problem, suffix, corpus_id_test, SHOTS=[0, 5, 10, 20, 50, 100], #0, \n",
    "                   zero_shot_prompt = parity_desc_zero_shot, few_shot_prompt = parity_desc, shuffle_exemplars=True,\n",
    "                   do_ood=False, out_dir_root=out_dir_root, is_cot=True)\n",
    "\n",
    "call_and_solve_for(problem, suffix, corpus_od_test_w_negs, SHOTS=[0, 5, 10, 20, 50, 100],\n",
    "                   zero_shot_prompt = parity_desc_zero_shot, few_shot_prompt = parity_desc, shuffle_exemplars=True,\n",
    "                   do_ood=True, out_dir_root=out_dir_root, is_cot=True)"
   ]
  },
  {
   "cell_type": "markdown",
   "id": "a6ae9cf6-32f1-4e76-b156-3b1a40b2f0e8",
   "metadata": {},
   "source": [
    "## Salad-of-Thought"
   ]
  },
  {
   "cell_type": "code",
   "execution_count": null,
   "id": "6520dfb5-1a5f-4a1c-bbeb-b5b02dcdf67e",
   "metadata": {
    "scrolled": true
   },
   "outputs": [],
   "source": [
    "parity_desc = list(set([l.strip().replace(\".\", \" \") for l in open(\"datasets/words.txt\", \"r\", encoding=\"utf-8\").readlines()[0].split(\" \")]))\n",
    "parity_desc_zero_shot = parity_desc\n",
    "\n",
    "\n",
    "suffix = f\"SoT_{problem}\"\n",
    "llm.update_params({tkey: cot_tokens})\n",
    "\n",
    "call_and_solve_for(problem, suffix, corpus_id_test, SHOTS=[0, 5, 10, 20, 50, 100], #\n",
    "                   zero_shot_prompt = parity_desc_zero_shot, few_shot_prompt = parity_desc, shuffle_exemplars=False,\n",
    "                   do_ood=False, out_dir_root=out_dir_root, is_cot=True)\n",
    "\n",
    "call_and_solve_for(problem, suffix, corpus_od_test_w_negs, SHOTS=[0, 5, 10, 20, 50, 100],\n",
    "                   zero_shot_prompt = parity_desc_zero_shot, few_shot_prompt = parity_desc, shuffle_exemplars=False,\n",
    "                   do_ood=True, out_dir_root=out_dir_root, is_cot=True)"
   ]
  },
  {
   "cell_type": "code",
   "execution_count": null,
   "id": "ee657974-dcab-4ae0-ab76-aa1d576fd338",
   "metadata": {
    "scrolled": true
   },
   "outputs": [],
   "source": [
    "parity_desc = list(set([l.strip().replace(\".\", \" \") for l in open(\"datasets/words.txt\", \"r\", encoding=\"utf-8\").readlines()[0].split(\" \")]))\n",
    "parity_desc_zero_shot = parity_desc\n",
    "\n",
    "\n",
    "suffix = f\"SoT_{problem}_shuffled\"\n",
    "llm.update_params({tkey: cot_tokens})\n",
    "\n",
    "call_and_solve_for(problem, suffix, corpus_id_test, SHOTS=[0, 5, 10, 20, 50, 100], #0, \n",
    "                   zero_shot_prompt = parity_desc_zero_shot, few_shot_prompt = parity_desc, shuffle_exemplars=True,\n",
    "                   do_ood=False, out_dir_root=out_dir_root, is_cot=True)\n",
    "\n",
    "call_and_solve_for(problem, suffix, corpus_od_test_w_negs, SHOTS=[0, 5, 10, 20, 50, 100],\n",
    "                   zero_shot_prompt = parity_desc_zero_shot, few_shot_prompt = parity_desc, shuffle_exemplars=True,\n",
    "                   do_ood=True, out_dir_root=out_dir_root, is_cot=True)"
   ]
  },
  {
   "cell_type": "markdown",
   "id": "44b0896a-844e-4288-9278-a22042da9eb3",
   "metadata": {
    "editable": true,
    "slideshow": {
     "slide_type": ""
    },
    "tags": []
   },
   "source": [
    "## Automata encoded"
   ]
  },
  {
   "cell_type": "code",
   "execution_count": null,
   "id": "f5633373-526a-4f86-a942-566599da3990",
   "metadata": {
    "editable": true,
    "scrolled": true,
    "slideshow": {
     "slide_type": ""
    },
    "tags": []
   },
   "outputs": [],
   "source": [
    "ecm_str = \"ALPHABET = [\\\"gfx\\\", \\\"chtte\\\", \\\"%\\\", \\\"ltintprk\\\", \\\"¯\\\\_(ツ)_/¯\\\"]\\nMIN_LEN = 5\\n\\ndef reversal_tape(P):\\n    # n + 1 states: ALPHABET + \\\"final\\\"\\n    tape = []\\n    end_state = \\\"stop\\\"\\n    current_state = \\\"start\\\"\\n    states = [a for a in ALPHABET] + [end_state]\\n    while True:\\n        next_state = random.choices(states, weights=P[current_state])[0]\\n        if next_state == end_state:\\n            break\\n        else:\\n            tape.append(next_state)\\n        current_state = next_state\\n\\n    return tape\\n\"\n",
    "\n",
    "parity_desc = \"This is a string detection task. The strings in this task are generated from a probabilistic automaton, described in the code below.\\n\"\n",
    "parity_desc += \"Each input is of the form LEFT#RIGHT. Each string is labelled 0 or 1 depending on whether the RIGHT pattern is (1) or is not (0) a reversal of LEFT.\\n\"\n",
    "parity_desc += \"Your job is to learn what is the likelihood of a string to be labelled 0 or 1, and output the correct label.\\n\"\n",
    "\n",
    "parity_desc += f\"Here's the code:\\n{ecm_str}\\n\"\n",
    "\n",
    "parity_desc_zero_shot = parity_desc + \"Give your answer as a single integer, and your reasoning in a new line.\\n\"\n",
    "parity_desc_zero_shot += \"For example:\\abc#cba:1\\nThe right string is a reversal of the left string.\\n\\n\"\n",
    "\n",
    "parity_desc += \"Given the data below, determine what is the most likely label for the given string and output ONLY the label.\\n\"\n",
    "parity_desc += \"Data:\\n\\n\"\n",
    "\n",
    "suffix = f\"w_automaton_{problem}\"\n",
    "\n",
    "llm.update_params({tkey: tokens})\n",
    "\n",
    "call_and_solve_for(problem, suffix, corpus_id_test, SHOTS=[0, 2, 5, 10, 20, 50, 100],\n",
    "                   zero_shot_prompt = parity_desc_zero_shot, few_shot_prompt = parity_desc, shuffle_exemplars=False,\n",
    "                   do_ood=False, out_dir_root=out_dir_root, is_cot=False)\n",
    "\n",
    "call_and_solve_for(problem, suffix, corpus_od_test_w_negs, SHOTS=[0, 2, 5, 10, 20, 50, 100],\n",
    "                   zero_shot_prompt = parity_desc_zero_shot, few_shot_prompt = parity_desc, shuffle_exemplars=False,\n",
    "                   do_ood=True, out_dir_root=out_dir_root, is_cot=False)\n",
    "#988\n",
    "\n",
    "suffix = f\"w_automaton_{problem}_shuffled\"\n",
    "\n",
    "call_and_solve_for(problem, suffix, corpus_id_test, SHOTS=[0, 2, 5, 10, 20, 50, 100],\n",
    "                   zero_shot_prompt = parity_desc_zero_shot, few_shot_prompt = parity_desc, shuffle_exemplars=True,\n",
    "                   do_ood=False, out_dir_root=out_dir_root, is_cot=False)\n",
    "\n",
    "call_and_solve_for(problem, suffix, corpus_od_test_w_negs, SHOTS=[0, 2, 5, 10, 20, 50, 100],\n",
    "                   zero_shot_prompt = parity_desc_zero_shot, few_shot_prompt = parity_desc, shuffle_exemplars=True,\n",
    "                   do_ood=True, out_dir_root=out_dir_root, is_cot=False)\n",
    "#988"
   ]
  },
  {
   "cell_type": "markdown",
   "id": "92d8c643-9bfa-4eb1-ae79-fe25047536d6",
   "metadata": {
    "editable": true,
    "slideshow": {
     "slide_type": ""
    },
    "tags": []
   },
   "source": [
    "## APO"
   ]
  },
  {
   "cell_type": "code",
   "execution_count": null,
   "id": "57c4cda3-5f8d-4c43-a271-de8aee1e1387",
   "metadata": {
    "editable": true,
    "scrolled": true,
    "slideshow": {
     "slide_type": ""
    },
    "tags": []
   },
   "outputs": [],
   "source": [
    "parity_desc = \"This is a string detection task. The strings in this task are generated from a probabilistic automaton.\\n\"\n",
    "parity_desc += \"Each input is of the form LEFT#RIGHT. Each string is labelled 0 or 1 depending on whether the RIGHT pattern is (1) or is not (0) a reversal of LEFT.\\n\"\n",
    "parity_desc += \"Your job is to learn what is the likelihood of a string to be labelled 0 or 1, and output the correct label.\\n\"\n",
    "\n",
    "parity_desc_zero_shot = parity_desc + \"Give your answer as a single integer, and your reasoning in a new line.\\n\"\n",
    "parity_desc_zero_shot += \"For example:\\abc#cba:1\\nThe right string is a reversal of the left string.\\n\\n\"\n",
    "\n",
    "parity_desc += \"Given the data below, determine what is the most likely label for the given string and output ONLY the label.\\n\"\n",
    "parity_desc += \"Data:\\n\\n\"\n",
    "\n",
    "p_hat_candidates = apo(parity_desc, corpus_id, problem=problem) # Use training for optimisation\n",
    "p_hat = p_hat_candidates[0][0]\n",
    "score = p_hat_candidates[0][-1]\n",
    "\n",
    "with open(f\"{out_dir_root}/apo_prompt_{problem}.json\", \"w\", encoding=\"utf-8\") as f:\n",
    "    f.write(json.dumps({\"Prompt\": p_hat, \"Score\": score, \"InitialPrompt\": parity_desc, \"OtherCandidates\": p_hat_candidates, \"Problem\": problem}, ensure_ascii=False))"
   ]
  },
  {
   "cell_type": "code",
   "execution_count": null,
   "id": "1054ecff-a635-48be-8e5b-2cdf999f095c",
   "metadata": {
    "editable": true,
    "scrolled": true,
    "slideshow": {
     "slide_type": ""
    },
    "tags": []
   },
   "outputs": [],
   "source": [
    "suff = f\"apo_{problem}\"\n",
    "\n",
    "p_hat = [json.loads(l) for l in open(f\"{out_dir_root}/apo_prompt_{problem}.json\", \"r\", encoding=\"utf-8\").readlines()][0][\"Prompt\"]\n",
    "# APO is a zero-shot problem, but we'll humour ourselves and try it out with shots anyway.\n",
    "call_and_solve_for(problem, suff, corpus_id_test, SHOTS=[0, 2, 5, 10, 20, 50, 100],\n",
    "                   zero_shot_prompt = p_hat, few_shot_prompt = p_hat,\n",
    "                   do_ood=False, out_dir_root=out_dir_root, is_cot=False)\n",
    "\n",
    "call_and_solve_for(problem, suff, corpus_od_test_w_negs, SHOTS=[0, 2, 5, 10, 20, 50, 100],\n",
    "                   zero_shot_prompt = p_hat, few_shot_prompt = p_hat,\n",
    "                   do_ood=True, out_dir_root=out_dir_root, is_cot=False)\n"
   ]
  },
  {
   "cell_type": "code",
   "execution_count": null,
   "id": "42277f2f-e977-4c1d-898c-082337414815",
   "metadata": {
    "scrolled": true
   },
   "outputs": [],
   "source": [
    "suff = f\"apo_{problem}_shuffled\"\n",
    "\n",
    "p_hat = [json.loads(l) for l in open(f\"{out_dir_root}/apo_prompt_{problem}.json\", \"r\", encoding=\"utf-8\").readlines()][0][\"Prompt\"]\n",
    "# APO is a zero-shot problem, but we'll humour ourselves and try it out with shots anyway.\n",
    "call_and_solve_for(problem, suff, corpus_id_test, SHOTS=[0, 2, 5, 10, 20, 50, 100], shuffle_exemplars=True,\n",
    "                   zero_shot_prompt = p_hat, few_shot_prompt = p_hat,\n",
    "                   do_ood=False, out_dir_root=out_dir_root, is_cot=False)\n",
    "\n",
    "call_and_solve_for(problem, suff, corpus_od_test_w_negs, SHOTS=[0, 2, 5, 10, 20, 50, 100], shuffle_exemplars=True,\n",
    "                   zero_shot_prompt = p_hat, few_shot_prompt = p_hat,\n",
    "                   do_ood=True, out_dir_root=out_dir_root, is_cot=False)\n"
   ]
  }
 ],
 "metadata": {
  "kernelspec": {
   "display_name": "Python 3",
   "language": "python",
   "name": "python3"
  },
  "language_info": {
   "codemirror_mode": {
    "name": "ipython",
    "version": 3
   },
   "file_extension": ".py",
   "mimetype": "text/x-python",
   "name": "python",
   "nbconvert_exporter": "python",
   "pygments_lexer": "ipython3",
   "version": "3.13.6"
  }
 },
 "nbformat": 4,
 "nbformat_minor": 5
}
