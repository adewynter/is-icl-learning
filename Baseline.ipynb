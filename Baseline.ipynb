{
 "cells": [
  {
   "cell_type": "code",
   "execution_count": null,
   "id": "495427e4-d813-4cec-b255-7e5ce187a942",
   "metadata": {},
   "outputs": [],
   "source": [
    "import json\n",
    "import numpy as np\n",
    "\n",
    "from sklearn.tree import DecisionTreeClassifier\n",
    "from sklearn.neighbors import KNeighborsClassifier\n",
    "from sklearn.neural_network import MLPClassifier"
   ]
  },
  {
   "cell_type": "markdown",
   "id": "9fc5c0eb-c7f7-4ae4-a200-8eaeda2479a0",
   "metadata": {
    "jp-MarkdownHeadingCollapsed": true
   },
   "source": [
    "# PARITY\n",
    "Baseline: MLP\n",
    "\n",
    "```\n",
    "0.946\n",
    "delta_0.2 0.945\n",
    "delta_0.25 0.9453333333333334\n",
    "delta_0.45 0.9506666666666667\n",
    "delta_0.65 0.9466666666666667\n",
    "delta_0.85 0.9426666666666667\n",
    "```"
   ]
  },
  {
   "cell_type": "code",
   "execution_count": null,
   "id": "4c0a6282",
   "metadata": {},
   "outputs": [],
   "source": [
    "corpus_id = [json.loads(l) for l in open(\"datasets/PARITY/corpus_parity_id_4k_new.json\", \"r\", encoding=\"utf-8\").readlines()]\n",
    "corpus_id_test = [json.loads(l) for l in open(\"datasets/PARITY/corpus_parity_id_4k_new_test.json\", \"r\", encoding=\"utf-8\").readlines()]\n",
    "corpus_od_test_w_negs = [json.loads(l) for l in open(\"datasets/PARITY/corpus_parity_ood_4k_test_new_with_negs.json\", \"r\", encoding=\"utf-8\").readlines()]\n",
    "\n",
    "def two_he(s, max_len=60):\n",
    "    vec = [-1 for _ in range(max_len)]\n",
    "    for i, c in enumerate(s):\n",
    "        vec[i] = int(c)\n",
    "    return vec\n",
    "\n",
    "X = [two_he(e[\"Entry\"]) for e in corpus_id]\n",
    "labels = [int(e[\"Label\"]) for e in corpus_id]\n",
    "\n",
    "clf = MLPClassifier(random_state=13213)\n",
    "clf.fit(X, labels)\n",
    "\n",
    "X_test = [two_he(e[\"Entry\"]) for e in corpus_id_test]\n",
    "test_labels = [int(e[\"Label\"]) for e in corpus_id_test]\n",
    "\n",
    "print(clf.score(X_test, test_labels))\n",
    "\n",
    "deltas = corpus_od_test_w_negs[0].keys()\n",
    "for delta in deltas:\n",
    "    test_set = [two_he(e[\"Entry\"]) for e in corpus_od_test_w_negs[0][delta]]\n",
    "    test_labels = [int(e[\"Label\"]) for e in corpus_od_test_w_negs[0][delta]]\n",
    "    print(delta, clf.score(test_set, test_labels))"
   ]
  },
  {
   "cell_type": "markdown",
   "id": "5337e8bf-d109-4f87-a2a2-fcb2abb92402",
   "metadata": {
    "jp-MarkdownHeadingCollapsed": true
   },
   "source": [
    "# Pattern Matching\n",
    "\n",
    "Baseline: K-Neighbours\n",
    "\n",
    "```\n",
    "0.8675\n",
    "delta_0.2 0.8486666666666667\n",
    "delta_0.25 0.8376666666666667\n",
    "delta_0.45 0.811\n",
    "delta_0.65 0.7473333333333333\n",
    "delta_0.85 0.69\n",
    "```"
   ]
  },
  {
   "cell_type": "code",
   "execution_count": null,
   "id": "52711bbd",
   "metadata": {},
   "outputs": [
    {
     "name": "stdout",
     "output_type": "stream",
     "text": [
      "0.8675\n",
      "delta_0.2 0.8486666666666667\n",
      "delta_0.25 0.8376666666666667\n",
      "delta_0.45 0.811\n",
      "delta_0.65 0.7473333333333333\n",
      "delta_0.85 0.69\n"
     ]
    }
   ],
   "source": [
    "corpus_id = [json.loads(l) for l in open(\"datasets/Pattern_Matching/corpus_pattern_matching_id_4k_new.json\", \"r\", encoding=\"utf-8\").readlines()]\n",
    "corpus_id_test = [json.loads(l) for l in open(\"datasets/Pattern_Matching/corpus_pattern_matching_id_4k_new_test.json\", \"r\", encoding=\"utf-8\").readlines()]\n",
    "corpus_od_test_w_negs = [json.loads(l) for l in open(\"datasets/Pattern_Matching/corpus_pattern_matching_ood_4k_new_test.json\", \"r\", encoding=\"utf-8\").readlines()]\n",
    "\n",
    "def two_he(s, max_len=2750):\n",
    "    map_str_to = {\"a\": 0, \"b\": 1, \"c\": 2, \"d\": 3}\n",
    "    vec = [-1 for _ in range(max_len)]\n",
    "    for i, c in enumerate(s):\n",
    "        vec[i] = map_str_to[c]\n",
    "    return vec\n",
    "\n",
    "X = [two_he(e[\"Entry\"]) for e in corpus_id]\n",
    "labels = [int(e[\"Label\"]) for e in corpus_id]\n",
    "\n",
    "clf = KNeighborsClassifier()\n",
    "clf.fit(X, labels)\n",
    "\n",
    "X_test = [two_he(e[\"Entry\"]) for e in corpus_id_test]\n",
    "test_labels = [int(e[\"Label\"]) for e in corpus_id_test]\n",
    "\n",
    "print(clf.score(X_test, test_labels))\n",
    "\n",
    "deltas = corpus_od_test_w_negs[0].keys()\n",
    "for delta in deltas:\n",
    "    test_set = [two_he(e[\"Entry\"]) for e in corpus_od_test_w_negs[0][delta]]\n",
    "    test_labels = [int(e[\"Label\"]) for e in corpus_od_test_w_negs[0][delta]]\n",
    "    print(delta, clf.score(test_set, test_labels))"
   ]
  },
  {
   "cell_type": "markdown",
   "id": "50ea34ee-b338-4eef-8811-b1a2b824ac6b",
   "metadata": {
    "jp-MarkdownHeadingCollapsed": true
   },
   "source": [
    "# Vending Machine (Verification)\n",
    "Baseline: Decision Tree\n",
    "\n",
    "```\n",
    "0.8415\n",
    "delta_0.2 0.8216666666666667\n",
    "delta_0.25 0.8266666666666667\n",
    "delta_0.45 0.7936666666666666\n",
    "delta_0.65 0.759\n",
    "delta_0.85 0.699\n",
    "```\n"
   ]
  },
  {
   "cell_type": "code",
   "execution_count": null,
   "id": "78be23c3-bb9b-4a25-b949-f48fc940943d",
   "metadata": {},
   "outputs": [
    {
     "name": "stdout",
     "output_type": "stream",
     "text": [
      "0.8415\n",
      "delta_0.2 0.8216666666666667\n",
      "delta_0.25 0.8266666666666667\n",
      "delta_0.45 0.7936666666666666\n",
      "delta_0.65 0.759\n",
      "delta_0.85 0.699\n"
     ]
    }
   ],
   "source": [
    "corpus_id = [json.loads(l) for l in open(\"datasets/Vending_Machine/corpus_vending_machine_id_4k.json\", \"r\", encoding=\"utf-8\").readlines()]\n",
    "corpus_id_test = [json.loads(l) for l in open(\"datasets/Vending_Machine/corpus_vending_machine_id_4k_test.json\", \"r\", encoding=\"utf-8\").readlines()]\n",
    "corpus_od_test_w_negs = [json.loads(l) for l in open(\"datasets/Vending_Machine/corpus_vending_machine_ood_4k_test.json\", \"r\", encoding=\"utf-8\").readlines()]\n",
    "\n",
    "def two_he(s, max_len=500):\n",
    "    map_str_to = {\"biscuit\": 20, \"coffee\": 15, \"soda\": 25, \"+\": 1, \"-\": -1, \"empty\": -1000}\n",
    "    vec = [0] + [-100 for _ in range(max_len - 1)]\n",
    "    idx = 1\n",
    "    for i, item in enumerate(s.split(\",\")):\n",
    "        if item[0] == '+':\n",
    "            vec[idx] = map_str_to['+']\n",
    "            vec[idx + 1] = int(item[1:])\n",
    "            idx += 2\n",
    "        else:\n",
    "            if i == len(s.split(\",\")) - 1:\n",
    "                vec[idx] = map_str_to[\"empty\"]\n",
    "                vec[idx + 1] = int(item)\n",
    "            else:\n",
    "                vec[idx] = map_str_to[\"-\"]\n",
    "                vec[idx + 1] = map_str_to[item]\n",
    "                idx += 2\n",
    "    return vec\n",
    "\n",
    "X = [two_he(e[\"Entry\"]) for e in corpus_id]\n",
    "labels = [int(e[\"Label\"]) for e in corpus_id]\n",
    "\n",
    "clf = DecisionTreeClassifier(random_state=13213)\n",
    "clf.fit(X, labels)\n",
    "\n",
    "X_test = [two_he(e[\"Entry\"]) for e in corpus_id_test]\n",
    "test_labels = [int(e[\"Label\"]) for e in corpus_id_test]\n",
    "\n",
    "print(clf.score(X_test, test_labels))\n",
    "\n",
    "deltas = corpus_od_test_w_negs[0].keys()\n",
    "for delta in deltas:\n",
    "    test_set = [two_he(e[\"Entry\"]) for e in corpus_od_test_w_negs[0][delta]]\n",
    "    test_labels = [int(e[\"Label\"]) for e in corpus_od_test_w_negs[0][delta]]\n",
    "    print(delta, clf.score(test_set, test_labels))"
   ]
  },
  {
   "cell_type": "markdown",
   "id": "481894fa-463b-421c-b754-651600c83a34",
   "metadata": {},
   "source": [
    "# Stack\n",
    "Baseline: k-Neighbours\n",
    "\n",
    "```\n",
    "0.7175\n",
    "delta_0.2 0.6663333333333333\n",
    "delta_0.45 0.6176666666666667\n",
    "delta_0.65 0.59\n",
    "delta_0.85 0.5863333333333334\n",
    "```"
   ]
  },
  {
   "cell_type": "code",
   "execution_count": null,
   "id": "ad34ea1f-60fc-4f65-82d4-8e044ff0a3fd",
   "metadata": {
    "scrolled": true
   },
   "outputs": [
    {
     "name": "stdout",
     "output_type": "stream",
     "text": [
      "0.7175\n",
      "delta_0.2 0.6663333333333333\n",
      "delta_0.45 0.6176666666666667\n",
      "delta_0.65 0.59\n",
      "delta_0.85 0.5863333333333334\n"
     ]
    }
   ],
   "source": [
    "corpus_id = [json.loads(l) for l in open(\"datasets/Stack/corpus_stack_id_4k.json\", \"r\", encoding=\"utf-8\").readlines()]\n",
    "corpus_id_test = [json.loads(l) for l in open(\"datasets/Stack/corpus_stack_id_4k_test.json\", \"r\", encoding=\"utf-8\").readlines()]\n",
    "corpus_od_test_w_negs = [json.loads(l) for l in open(\"datasets/Stack/corpus_stack_ood_4k_test.json\", \"r\", encoding=\"utf-8\").readlines()]\n",
    "\n",
    "import numpy as np\n",
    "\n",
    "def two_he(s, max_len=3000):\n",
    "    map_str_to = {\"0\": 0, \"1\": 1, \"push\": 2, \"pop\": 3, \"stop\": \"\", \"empty\": 4}\n",
    "    deck = {\"4\": \"-100\", \"3\": -1}\n",
    "    vec = [-100 for _ in range(max_len)]\n",
    "    _s = s.replace(\",\", \"\")\n",
    "    new_s = []\n",
    "    for __s in _s.split(\"\\n\"):\n",
    "        t = __s\n",
    "        if t[0] == \"[\":\n",
    "            t = \",\".join(eval(t))            \n",
    "        for k, v in map_str_to.items():\n",
    "            t = t.replace(k, str(v))\n",
    "        new_s += [int(c) if c not in deck else deck[c] for c in t]\n",
    "        new_s.append(100)\n",
    "    for i, c in enumerate(new_s):\n",
    "        vec[i] = c\n",
    "    _vec = [int(c) for c in vec]\n",
    "    return _vec\n",
    "\n",
    "X = [two_he(e[\"Entry\"]) for e in corpus_id]\n",
    "labels = [int(e[\"Label\"]) for e in corpus_id]\n",
    "\n",
    "clf = KNeighborsClassifier() #random_state=13213)\n",
    "clf.fit(X, labels)\n",
    "\n",
    "X_test = [two_he(e[\"Entry\"]) for e in corpus_id_test]\n",
    "test_labels = [int(e[\"Label\"]) for e in corpus_id_test]\n",
    "\n",
    "print(clf.score(X_test, test_labels))\n",
    "\n",
    "deltas = corpus_od_test_w_negs[0].keys()\n",
    "for delta in deltas:\n",
    "    test_set = [two_he(e[\"Entry\"]) for e in corpus_od_test_w_negs[0][delta]]\n",
    "    test_labels = [int(e[\"Label\"]) for e in corpus_od_test_w_negs[0][delta]]\n",
    "    print(delta, clf.score(test_set, test_labels))"
   ]
  },
  {
   "cell_type": "markdown",
   "id": "1f0ad587-7e3f-44de-88ae-354d16fa23f1",
   "metadata": {},
   "source": [
    "# Reversal\n",
    "Baseline: k-Neighbours\n",
    "\n",
    "```\n",
    "0.7175\n",
    "delta_0.2 0.6663333333333333\n",
    "delta_0.45 0.6176666666666667\n",
    "delta_0.65 0.59\n",
    "delta_0.85 0.5863333333333334\n",
    "```\n",
    "```"
   ]
  },
  {
   "cell_type": "code",
   "execution_count": null,
   "id": "b9f819cc-78e7-4e81-9b13-e6f3bfdf55ba",
   "metadata": {},
   "outputs": [
    {
     "name": "stdout",
     "output_type": "stream",
     "text": [
      "0.741\n",
      "delta_0.2 0.67\n",
      "delta_0.45 0.644\n",
      "delta_0.65 0.6116666666666667\n",
      "delta_0.85 0.5586666666666666\n"
     ]
    }
   ],
   "source": [
    "corpus_id = [json.loads(l) for l in open(\"datasets/Reversal/corpus_reversal_id_4k.json\", \"r\", encoding=\"utf-8\").readlines()]\n",
    "corpus_id_test = [json.loads(l) for l in open(\"datasets/Reversal/corpus_reversal_id_4k_test.json\", \"r\", encoding=\"utf-8\").readlines()]\n",
    "corpus_od_test_w_negs = [json.loads(l) for l in open(\"datasets/Reversal/corpus_reversal_ood_4k_test.json\", \"r\", encoding=\"utf-8\").readlines()]\n",
    "\n",
    "map_str_to = {\"#\": 0, \"%\": 2, \"chtte\": 4, \"gfx\": 3, \"ltintprk\": 4, \"¯\\\\_(ツ)_/¯\": 5}\n",
    "def two_he(s, max_len=4000, reverse=False):\n",
    "    vec = [-100 for _ in range(max_len)]\n",
    "    _s = s\n",
    "    for k, v in map_str_to.items():\n",
    "        _s = _s.replace(k, str(v))\n",
    "    j = 0\n",
    "    for i, c in enumerate(_s):\n",
    "        vec[j] = int(c) if c != \"0\" else -100\n",
    "        if c == \"0\":\n",
    "            for k in range(20):\n",
    "                vec[j + 1] = -100\n",
    "                j += 1\n",
    "        j += 1\n",
    "    if reverse:\n",
    "        vec = vec[::-1]\n",
    "    return vec\n",
    "\n",
    "X = [two_he(e[\"Entry\"]) for e in corpus_id]\n",
    "X += [two_he(e[\"Entry\"], reverse=True) for e in corpus_id]\n",
    "labels = [int(e[\"Label\"]) for e in corpus_id]\n",
    "labels += labels\n",
    "\n",
    "clf = KNeighborsClassifier()\n",
    "clf.fit(X, labels)\n",
    "\n",
    "X_test = [two_he(e[\"Entry\"]) for e in corpus_id_test]\n",
    "test_labels = [int(e[\"Label\"]) for e in corpus_id_test]\n",
    "\n",
    "print(clf.score(X_test, test_labels))\n",
    "\n",
    "deltas = corpus_od_test_w_negs[0].keys()\n",
    "for delta in deltas:\n",
    "    X_test = [two_he(e[\"Entry\"]) for e in corpus_od_test_w_negs[0][delta]]\n",
    "    test_labels = [int(e[\"Label\"]) for e in corpus_od_test_w_negs[0][delta]]\n",
    "    print(delta, clf.score(X_test, test_labels))"
   ]
  }
 ],
 "metadata": {
  "kernelspec": {
   "display_name": "Python 3",
   "language": "python",
   "name": "python3"
  },
  "language_info": {
   "codemirror_mode": {
    "name": "ipython",
    "version": 3
   },
   "file_extension": ".py",
   "mimetype": "text/x-python",
   "name": "python",
   "nbconvert_exporter": "python",
   "pygments_lexer": "ipython3",
   "version": "3.13.6"
  }
 },
 "nbformat": 4,
 "nbformat_minor": 5
}
